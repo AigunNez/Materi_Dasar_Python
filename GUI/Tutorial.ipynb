{
 "cells": [
  {
   "cell_type": "markdown",
   "metadata": {},
   "source": [
    "# GUI\n",
    "GUI disebut sebagai Graphical User Interface\n"
   ]
  },
  {
   "cell_type": "markdown",
   "metadata": {},
   "source": [
    "# Tkinter"
   ]
  },
  {
   "cell_type": "markdown",
   "metadata": {},
   "source": [
    "Tkinter adalah pustaka Python yang menyediakan antarmuka untuk toolkit GUI Tk. Tkinter adalah bagian dari bawaan Python, jadi kita tidak perlu menginstalnya secara terpisah. Tkinter memungkinkan kita untuk membuat aplikasi desktop berbasis GUI dengan mudah dan cepat.\n",
    "\n",
    "Nama <strong>Tkinter</strong> berasal dari \"Toolkit Interface\", yang merujuk pada toolkit GUI Tk yang menjadi dasar Tkinter. Tkinter menyediakan cara untuk membuat window, button, label, text, dan widget GUI lainnya untuk membangun aplikasi interaktif. Elemen-elemen ini disebut <strong>Widgets</strong>.\n"
   ]
  },
  {
   "cell_type": "markdown",
   "metadata": {},
   "source": [
    "\n",
    "### Pentingnya Tkinter\n",
    "\n",
    "Tkinter adalah modul bawaan Python yang digunakan untuk membuat aplikasi GUI. Modul ini merupakan salah atu yang paling umum digunakan karena kesederhanaan dan kemudahan penggunanya. Anda tidak perllu menginstal modul Tkinter secara terpisah, karena sudah tersedia bersama Python. Tkinter memberikan antarmuka berbasis objek untuk toolkit GUI Tk, menjadikannya pilihan paling populer untuk pengembangannnya GUI di Python."
   ]
  },
  {
   "cell_type": "markdown",
   "metadata": {},
   "source": [
    "### Keuntungan Menggunakan Tkinter:\n",
    "- Sederhana dan Mudah Digunakan: Tkinter sangat cocok untuk pemula karena mudah dipahami dan diterapkan.\n",
    "Berbasis Platform: Tkinter mendukung berbagai platform, termasuk Windows, macOS, dan Linux, yang memungkinkan aplikasi yang Anda buat dapat dijalankan di berbagai sistem operasi.\n",
    "- Widget Lengkap: Tkinter menyediakan berbagai widget untuk membangun antarmuka, seperti label, tombol, entri teks, kotak centang, dan lainnya.\n",
    "- Dokumentasi yang Baik: Karena Tkinter adalah pustaka standar Python, dokumentasinya sangat mudah ditemukan, dengan banyak tutorial dan referensi yang tersedia."
   ]
  },
  {
   "cell_type": "markdown",
   "metadata": {},
   "source": [
    "## Geometry Management di Tkinter\n",
    "Geometry Management di Tkinter sangat penting untuk memastikan aplikasi GUI memiliki tmapilan yang terorganisi dan responsif. Dengan mengelola geometri, kita dapat mengontrol ukuran yang berbeda, posisi widget, dan bagaimana aplikasi yang dibuat berperilaku.\n",
    "\n",
    "Tkinter menyediakan tiga metode utama untuk mengatur posisi dan ukuran widget dalam jendela, yaitu `pack()`, `grid()`, dan `place()`. Setiap metode memiliki cara yang berbeda dalam mengatur layout.\n"
   ]
  },
  {
   "cell_type": "markdown",
   "metadata": {},
   "source": [
    "\n",
    "### `pack()`\n",
    "Metode `pack()` adalah cara paling sederhana untuk menata widget. Widget yang dipanggil dengan `pack()` akan ditempatkan secara vertikal atau horizontal berdasarkan urutan pemanggilannya.\n"
   ]
  },
  {
   "cell_type": "code",
   "execution_count": null,
   "metadata": {},
   "outputs": [],
   "source": [
    "widget.pack(side=\"top\", fill=\"both\", expand=True, padx=10, pady=10)"
   ]
  },
  {
   "cell_type": "markdown",
   "metadata": {},
   "source": [
    "Penjelasan dari paramater tersebut yaitu :\n",
    "- side: Menentukan sisi jendela tempat widget akan diposisikan. Nilai yang dapat digunakan adalah \"top\", \"bottom\", \"left\", atau \"right\".\n",
    "- fill: Menentukan apakah widget akan mengisi ruang yang tersedia secara vertikal atau horizontal. Opsi yang bisa digunakan adalah \"none\", \"x\", \"y\", atau \"both\".\n",
    "- expand: Menentukan apakah widget akan mengembang untuk mengisi ruang kosong di jendela. Nilai True akan membuat widget meluas, sedangkan False akan membuat widget berada pada ukuran aslinya.\n",
    "- padx dan pady: Menambahkan ruang di sekitar widget secara horizontal dan vertikal."
   ]
  },
  {
   "cell_type": "markdown",
   "metadata": {},
   "source": [
    "### `grid()`\n",
    "Metode `grid()` memungkinkan untuk menata widget dalam bentuk tabel, dengan menentukan baris dan kolom untuk setiap widget. Ini berguna jika ingin kontrol lebih rinci atas layout."
   ]
  },
  {
   "cell_type": "code",
   "execution_count": null,
   "metadata": {},
   "outputs": [],
   "source": [
    "widget.grid(row=0, column=0, padx=10, pady=10)"
   ]
  },
  {
   "cell_type": "markdown",
   "metadata": {},
   "source": [
    "Penjelasan Parameter :\n",
    "- row dan column: Menentukan posisi widget dalam grid (baris dan kolom).\n",
    "- padx dan pady: Menambahkan ruang di sekitar widget.\n",
    "- sticky: Menentukan arah widget harus ditempel (misalnya, sticky=\"nsew\" untuk menempel ke keempat arah: utara, selatan, timur, barat)."
   ]
  },
  {
   "cell_type": "markdown",
   "metadata": {},
   "source": [
    "### `place()`:\n",
    "Metode `place()` memberikan kontrol absolut terhadap posisi widget, memungkinkan Anda untuk menentukan posisi berdasarkan koordinat (x, y) atau persentase ukuran jendela."
   ]
  },
  {
   "cell_type": "code",
   "execution_count": null,
   "metadata": {},
   "outputs": [],
   "source": [
    "widget.place(x=100, y=50)"
   ]
  },
  {
   "cell_type": "markdown",
   "metadata": {},
   "source": [
    "Penjelasan parameter :\n",
    "- x dan y: Menentukan posisi widget dalam piksel dari sudut kiri atas jendela.\n",
    "- relx dan rely: Menentukan posisi relatif terhadap jendela dengan nilai antara 0 dan 1.\n",
    "- width dan height: Menentukan ukuran widget dalam piksel."
   ]
  },
  {
   "cell_type": "markdown",
   "metadata": {},
   "source": [
    "## Widget Tkinter\n",
    "Di Tkinter, widget adalah komponen grafis yang memungkinkan pengguna berinteraksi. Widget dapat bervariasi dari elemen sederhana seperti tombol dan label hingga elemen yang lebih kompleks seperti kolom entri teks, listbox, dan kanvas. Setiap widget memiliki tujuan tertentu dan dapat dikustomisasi agar sesuai dengan desain dan kebutuhan fungsionalitas aplikasi Anda.\n",
    "\n",
    "### Bagaimana cara kerja Widget?\n",
    "Setiap widget di Tkinter adalah instance dari kelas tertentu yang didefinisikan dalam Modul Tkinter. Kelas-kelas ini menyediakan metode dan atribut yang memungkinkan untuk mengonfigurasi penampilan, perilaku, dan fungsionalitas widget tersebut. Widget biasanya ditambahkan ke window aplikasi atau frame menggunakan pengelola tata letak seperti `pack()`, `grid()`, atau `place()`, yang menentukan posisi dan ukuran widget dalam antarmuka."
   ]
  },
  {
   "cell_type": "markdown",
   "metadata": {},
   "source": [
    "### Library Tkinter\n",
    "Library Tkinter perlu kita import sebelum menggunakannya, untuk mengimport Tkinter kita dapat memasukkan kode berikut pada awal program"
   ]
  },
  {
   "cell_type": "code",
   "execution_count": null,
   "metadata": {},
   "outputs": [],
   "source": [
    "from tkinter import *\n",
    "# from tkinter import Tk, Label, Button"
   ]
  },
  {
   "cell_type": "markdown",
   "metadata": {},
   "source": [
    "### Window\n",
    "<strong>Window (Jendela Utama)</strong>: Sebuah objek Tkinter yang mewakili jendela utama aplikasi"
   ]
  },
  {
   "cell_type": "code",
   "execution_count": 2,
   "metadata": {},
   "outputs": [],
   "source": [
    "root = Tk()  # Membuat jendela utama"
   ]
  },
  {
   "cell_type": "markdown",
   "metadata": {},
   "source": [
    "### Label\n",
    "Widget Label di Tkinter digunakan untuk menampilkan teks, gambar, atau kombinasi keduanya di dalam jendela GUI. Label umumnya digunakan untuk memberikan informasi atau petunjuk kepada pengguna, tetapi tidak dapat berinteraksi langsung dengan pengguna, seperti tombol atau entry.\n",
    "\n",
    "Penting untuk dicatat bahwa sebuah label hanya dapat menggunakan satu font pada satu waktu untuk menampilkan teks. Untuk menggunakan label, kita cukup menentukan apa yang akan ditampilkan di dalamnya (ini bisa berupa teks, bitmap, atau gambar)."
   ]
  },
  {
   "cell_type": "code",
   "execution_count": null,
   "metadata": {},
   "outputs": [],
   "source": [
    "label = Label(parent, text=\"Teks yang ingin ditampilkan\", options)\n",
    "label.pack()"
   ]
  },
  {
   "cell_type": "markdown",
   "metadata": {},
   "source": [
    "Catatan parameter pada fungsi Label :\n",
    "- parent: Jendela atau widget induk tempat label ini akan ditempatkan. Misalnya, root untuk jendela utama.\n",
    "- text: Teks yang ingin ditampilkan di dalam label.\n",
    "- options: Argumen opsional untuk penyesuaian tampilan label, seperti font, bg (background color), fg (foreground color), dan lainnya."
   ]
  },
  {
   "cell_type": "markdown",
   "metadata": {},
   "source": [
    "Tkinter Label options\n",
    "- <strong>anchor</strong> :\n",
    "    Opsi ini digunakan untuk mengontrol posisi teks jika widget memiliki ruang lebih dari yang diperlukan untuk teks. Default-nya adalah anchor=CENTER, yang menempatkan teks di tengah ruang yang tersedia.\n",
    "- <strong>bg</strong> :\n",
    "    Opsi ini digunakan untuk mengatur warna latar belakang normal yang ditampilkan di belakang label dan indikator.\n",
    "- <strong>height</strong> :\n",
    "    Opsi ini digunakan untuk mengatur dimensi vertikal dari frame baru.\n",
    "- <strong>width</strong> :\n",
    "    Lebar label dalam karakter (bukan piksel!). Jika opsi ini tidak diset, label akan disesuaikan dengan kontennya.\n",
    "- <strong>bd</strong> :\n",
    "    Opsi ini digunakan untuk mengatur ukuran border di sekitar indikator. Nilai default bd adalah 2 piksel.\n",
    "- <strong>font</strong> :\n",
    "    Jika Anda menampilkan teks di label (dengan opsi teks atau textvariable), opsi font digunakan untuk menentukan font apa yang akan digunakan untuk teks di label.\n",
    "- <strong>cursor</strong> :\n",
    "    Opsi ini digunakan untuk menentukan jenis kursor yang ditampilkan ketika mouse bergerak di atas label. Default-nya adalah menggunakan kursor standar.\n",
    "- <strong>>textvariable</strong> :\n",
    "    Sesuai namanya, opsi ini dihubungkan dengan variabel Tkinter (biasanya StringVar) pada label. Jika variabel diubah, teks label akan diperbarui.\n",
    "- <strong>bitmap</strong> :\n",
    "    Opsi ini digunakan untuk menetapkan bitmap ke objek grafis yang ditentukan, sehingga label dapat menampilkan grafik daripada teks.\n",
    "- <strong>fg</strong> :\n",
    "    Warna label yang digunakan untuk teks dan bitmap label. Default-nya adalah spesifik sistem. Jika Anda menampilkan bitmap, warna ini akan muncul di posisi bit 1 dalam bitmap.\n",
    "- <strong>image</strong> :\n",
    "    Opsi ini digunakan untuk menampilkan gambar statis dalam widget label.\n",
    "- <strong>padx</strong> :\n",
    "    Opsi ini digunakan untuk menambahkan ruang ekstra antara kiri dan kanan teks dalam label. Nilai default untuk opsi ini adalah 1.\n",
    "- <strong>pady</strong> :\n",
    "    Opsi ini digunakan untuk menambahkan ruang ekstra antara atas dan bawah teks dalam label. Nilai default untuk opsi ini adalah 1.\n",
    "- <strong>justify</strong> :\n",
    "    Opsi ini digunakan untuk menentukan cara menyelaraskan beberapa baris teks. Gunakan nilai LEFT, RIGHT, atau CENTER. Perhatikan bahwa untuk menempatkan teks di dalam widget, gunakan opsi anchor. Nilai default untuk justify adalah CENTER.\n",
    "- <strong>relief</strong> :\n",
    "    Opsi ini digunakan untuk menentukan tampilan border dekoratif di sekitar label. Nilai default untuk opsi ini adalah FLAT.\n",
    "-  <strong>underline</strong> :\n",
    "    Opsi ini digunakan untuk memberi garis bawah pada teks label.\n",
    "- <strong>wraplength</strong> :\n",
    "    Alih-alih hanya memiliki satu baris sebagai teks label, teks dapat dipotong menjadi beberapa baris dengan jumlah karakter yang ditentukan oleh opsi ini."
   ]
  },
  {
   "cell_type": "markdown",
   "metadata": {},
   "source": [
    "## Button\n",
    "Button Widget pada Tkinter adalah elemen kontrol grafis yang digunakan dalam pustaka Tkinter Python untuk membuat tombol yang dapat diklik dalam antarmuka pengguna grafis (GUI). Tombol ini memberikan cara bagi pengguna untuk memicu aksi atau peristiwa ketika tombol tersebut diklik.\n",
    "\n",
    "Button di Tkinter sangat berguna untuk menciptakan interaksi antara pengguna dengan aplikasi. Pengguna dapat mengklik tombol untuk memicu fungsi atau perubahan tertentu dalam aplikasi. Misalnya, tombol bisa digunakan untuk menjalankan suatu perintah, membuka jendela lain, menutup aplikasi, atau memulai sebuah proses."
   ]
  },
  {
   "cell_type": "code",
   "execution_count": null,
   "metadata": {},
   "outputs": [],
   "source": [
    "button = Button(parent, option=value)\n",
    "button.pack()"
   ]
  },
  {
   "cell_type": "markdown",
   "metadata": {},
   "source": [
    "Penjelasan singkat :\n",
    "-  `parent`: Jendela atau widget induk yang menampung tombol tersebut. Biasanya ini adalah objek dari jendela utama (Tk()).\n",
    "- `option=value`: Beberapa parameter yang dapat disesuaikan untuk tombol, seperti teks yang muncul di tombol, fungsi yang dipanggil ketika tombol diklik, ukuran tombol, warna, dan lain-lain."
   ]
  },
  {
   "cell_type": "markdown",
   "metadata": {},
   "source": [
    "Tkinter Button Options\n",
    "1. <strong>activebackground</strong> Warna latar belakang ketika tombol berada di bawah kursor.,\n",
    "2. <strong>activeforeground</strong> Warna foreground (teks) ketika tombol berada di bawah kursor.,\n",
    "3. <strong>anchor</strong> Posisi teks dalam tombol saat ruang lebih dari yang dibutuhkan untuk teks. Mengatur di mana teks akan ditempatkan.,\n",
    "4. <strong>bd atau borderwidth</strong> Lebar border di sekitar tombol.,\n",
    "5. <strong>bg atau background</strong> Warna latar belakang normal tombol.,\n",
    "6. <strong>command</strong> Fungsi atau metode yang akan dipanggil ketika tombol diklik.,\n",
    "7. <strong>cursor</strong> Menentukan jenis kursor yang akan ditampilkan ketika mouse berada di atas tombol.,\n",
    "8. <strong>text</strong> Teks yang ditampilkan pada tombol.,\n",
    "9. <strong>disabledforeground</strong> Warna foreground yang digunakan ketika tombol dinonaktifkan.,\n",
    "10. <strong>fg atau foreground</strong> Warna foreground (teks) normal tombol.,\n",
    "11. <strong>font</strong> Font teks yang digunakan untuk label tombol.,\n",
    "12. <strong>height</strong> Tinggi tombol dalam satuan baris teks.,\n",
    "13. <strong>highlightbackground</strong> Warna highlight fokus ketika widget tidak memiliki fokus.,\n",
    "14. <strong>highlightcolor</strong> Warna highlight fokus ketika widget memiliki fokus.,\n",
    "15. <strong>highlightthickness</strong> Ketebalan highlight fokus.,\n",
    "16. <strong>image</strong> Gambar yang ditampilkan pada tombol (sebagai pengganti teks).,\n",
    "17. <strong>justify</strong> Menentukan perataan teks dalam tombol: `tk.LEFT` untuk perataan kiri, `tk.CENTER` untuk perataan tengah, atau `tk.RIGHT` untuk perataan kanan.,\n",
    "18. <strong>overrelief</strong> Gaya relief yang digunakan saat mouse berada di atas tombol; nilai default adalah `tk.RAISED`.,\n",
    "19. <strong>padx, pady</strong> Padding kiri dan kanan dari teks (`padx`), atau padding atas dan bawah teks (`pady`).,\n",
    "20. <strong>width</strong> Lebar tombol dalam jumlah karakter (jika menampilkan teks) atau piksel (jika menampilkan gambar).,\n",
    "21. <strong>underline</strong> Nilai default adalah -1. Jika `underline=1`, karakter kedua dari teks tombol akan digarisbawahi.,\n",
    "22. <strong>wraplength</strong> Jika nilai ini diatur ke angka positif, baris teks akan dipotong agar sesuai dengan panjang ini.\n"
   ]
  },
  {
   "cell_type": "markdown",
   "metadata": {},
   "source": [
    "### Contoh Program Button :"
   ]
  },
  {
   "cell_type": "code",
   "execution_count": null,
   "metadata": {},
   "outputs": [],
   "source": [
    "def greet():\n",
    "    print(\"Hello, World!\")\n",
    "\n",
    "button = Button(r, text=\"Greet\", command=greet)\n",
    "button.pack()"
   ]
  },
  {
   "cell_type": "markdown",
   "metadata": {},
   "source": [
    "## Entry\n",
    "\n",
    "Entry Widget adalah widget Tkinter yang digunakan untuk memasukkan atau menampilkan satu baris teks. Widget ini sangat berguna saat ingin membuat aplikasi yang memerlukan input teks dari pengguna, seperti kolom pencarian atau form isian."
   ]
  },
  {
   "cell_type": "code",
   "execution_count": null,
   "metadata": {},
   "outputs": [],
   "source": [
    "entry = Entry(parent, options)\n",
    "entry.pack()"
   ]
  },
  {
   "cell_type": "markdown",
   "metadata": {},
   "source": [
    "Penjelasan singkat :\n",
    "- parent: Merupakan jendela atau frame tempat widget Entry akan ditampilkan. Biasanya, ini adalah objek dari jendela utama atau frame.\n",
    "- options: Berbagai opsi yang dapat digunakan untuk menyesuaikan tampilan dan perilaku widget Entry, seperti width, bg, fg, font, dan banyak lagi."
   ]
  },
  {
   "cell_type": "markdown",
   "metadata": {},
   "source": [
    "Tkinter Entry Options : \n",
    "- width: Menentukan lebar kolom input dalam satuan karakter.\n",
    "- bg: Menentukan warna latar belakang kolom input.\n",
    "- fg: Menentukan warna teks yang ditampilkan di dalam Entry.\n",
    "- font: Menentukan jenis dan ukuran font yang digunakan pada teks.\n",
    "- show: Menyembunyikan teks yang dimasukkan dengan menggantinya dengan karakter tertentu (misalnya, untuk password).\n",
    "- state: Menentukan apakah Entry dapat diedit atau hanya dapat dilihat (misalnya, readonly atau normal)."
   ]
  },
  {
   "cell_type": "markdown",
   "metadata": {},
   "source": [
    "### Metode pada Entry Widget\n",
    "1. #### `get()`\n",
    "Mengambil teks yang ada pada Entry widget. Metode ini mengembalikan teks yang dimasukkan oleh pengguna dalam bentuk string."
   ]
  },
  {
   "cell_type": "code",
   "execution_count": null,
   "metadata": {},
   "outputs": [],
   "source": [
    "text = entry.get()"
   ]
  },
  {
   "cell_type": "markdown",
   "metadata": {},
   "source": [
    "2. #### `delete()` ####\n",
    "Menghapus karakter dari Entry widget. Fungsi ini digunakan untuk menghapus karakter mulai dari indeks 0 hingga indeks terakhir (END)."
   ]
  },
  {
   "cell_type": "code",
   "execution_count": null,
   "metadata": {},
   "outputs": [],
   "source": [
    "entry.delete(0, END)"
   ]
  },
  {
   "cell_type": "markdown",
   "metadata": {},
   "source": [
    "3. `insert()` \n",
    "Menyisipkan teks ke dalam Entry widget pada posisi tertentu. Ini akan memasukkan teks \"Hello\" di awal kolom input (pada indeks 0).\n"
   ]
  },
  {
   "cell_type": "code",
   "execution_count": null,
   "metadata": {},
   "outputs": [],
   "source": [
    "entry.insert(0, \"Hello\")"
   ]
  },
  {
   "cell_type": "markdown",
   "metadata": {},
   "source": [
    "### Penggunaan Entry untuk Password:\n",
    "Entry widget juga sering digunakan untuk mengambil input yang bersifat sensitif, seperti password. Anda bisa menggunakan opsi show untuk menyembunyikan teks yang dimasukkan dengan menggantinya dengan karakter lain, seperti tanda bintang (`*`).\n"
   ]
  },
  {
   "cell_type": "code",
   "execution_count": null,
   "metadata": {},
   "outputs": [],
   "source": [
    "entry = Entry(root, show=\"*\")\n",
    "entry.pack()"
   ]
  },
  {
   "cell_type": "markdown",
   "metadata": {},
   "source": [
    "### Contoh Penggunaan Entry Widget\n"
   ]
  },
  {
   "cell_type": "code",
   "execution_count": null,
   "metadata": {},
   "outputs": [],
   "source": [
    "entry = Entry(root, width=30)\n",
    "entry.pack()\n",
    "\n",
    "# Fungsi untuk mendapatkan teks yang dimasukkan\n",
    "def show_input():\n",
    "    input_text = entry.get()\n",
    "    print(\"Text entered:\", input_text)\n",
    "\n",
    "# Membuat tombol untuk menampilkan teks yang dimasukkan\n",
    "button = Button(root, text=\"Show Input\", command=show_input)\n",
    "button.pack()"
   ]
  },
  {
   "cell_type": "markdown",
   "metadata": {},
   "source": [
    "## Frame Widget di Tkinter\n",
    "Frame adalah widget di Tkinter yang digunakan untuk membuat area berbentuk persegi panjang di dalam jendela aplikasi. Frame tidak menampilkan konten sendiri, tetapi lebih berfungsi sebagai wadah untuk mengelompokkan dan mengatur widget lain di dalamnya. Frame memungkinkan Anda untuk membuat struktur layout yang lebih terorganisir dalam aplikasi GUI."
   ]
  },
  {
   "cell_type": "markdown",
   "metadata": {},
   "source": [
    "<strong>Manfaat Penggunaan Frame</strong>:\n",
    "- Pengelompokan Widget: Frame digunakan untuk mengelompokkan widget-widget yang memiliki hubungan fungsional. Misalnya, jika kita memiliki beberapa tombol yang berfungsi bersama, kita dapat mengelompokkannya dalam satu frame.\n",
    "- Pengaturan Layout: Dengan menggunakan Frame, kita dapat lebih mudah mengatur dan menata widget dalam jendela. Frame membantu dalam pemisahan elemen-elemen di dalam aplikasi.\n",
    "- Menyediakan Border dan Background: Frame dapat dilengkapi dengan border dan warna latar belakang untuk membuatnya lebih menonjol atau untuk memberikan struktur visual pada aplikasi."
   ]
  },
  {
   "cell_type": "code",
   "execution_count": null,
   "metadata": {},
   "outputs": [],
   "source": [
    "frame = Frame(master, options)"
   ]
  },
  {
   "cell_type": "markdown",
   "metadata": {},
   "source": [
    "Penjelasan singkat : \n",
    "- master: Merupakan jendela atau widget induk yang menampung frame. Biasanya ini adalah objek dari jendela utama (Tk()).\n",
    "- options: Berbagai opsi yang dapat digunakan untuk menyesuaikan tampilan dan perilaku Frame, seperti bg (background color), width, height, borderwidth, relief (border style), dan lain-lain."
   ]
  },
  {
   "cell_type": "markdown",
   "metadata": {},
   "source": [
    "Opsi Umum untuk Frame:\n",
    "- bg: Menentukan warna latar belakang Frame.\n",
    "- width dan height: Menentukan ukuran Frame.\n",
    "- borderwidth: Menentukan ketebalan border Frame.\n",
    "- relief: Menentukan gaya border (misalnya flat, raised, sunken).\n",
    "- padx dan pady: Menambahkan ruang di dalam Frame pada sumbu horizontal dan vertikal.\n"
   ]
  },
  {
   "cell_type": "code",
   "execution_count": null,
   "metadata": {},
   "outputs": [],
   "source": [
    "# Membuat Frame\n",
    "frame = Frame(root, bg=\"lightblue\", width=300, height=200, borderwidth=2, relief=\"solid\")\n",
    "frame.pack()\n",
    "\n",
    "# Menambahkan tombol dalam frame\n",
    "button1 = Button(frame, text=\"Button 1\")\n",
    "button1.pack(padx=10, pady=10)\n",
    "\n",
    "button2 = Button(frame, text=\"Button 2\")\n",
    "button2.pack(padx=10, pady=10)"
   ]
  },
  {
   "cell_type": "markdown",
   "metadata": {},
   "source": [
    "## Checkbutton Widget di Tkinter\n",
    "Checkbutton adalah widget di Tkinter yang memungkinkan pengguna untuk memilih atau tidak memilih suatu opsi, yang biasa ditampilkan dengan kotak centang (checkbox). Checkbutton sangat berguna untuk membuat form dengan beberapa pilihan, seperti memilih beberapa opsi atau pengaturan dalam aplikasi."
   ]
  },
  {
   "cell_type": "code",
   "execution_count": null,
   "metadata": {},
   "outputs": [],
   "source": [
    "checkbutton = Checkbutton(parent, options)"
   ]
  },
  {
   "cell_type": "markdown",
   "metadata": {},
   "source": [
    "Penjelasan singkat :\n",
    "- master: Jendela atau frame yang menjadi induk tempat Checkbutton akan ditampilkan.\n",
    "- options: Berbagai opsi yang dapat digunakan untuk mengonfigurasi tampilan dan perilaku Checkbutton, biasanya dalam format key-value."
   ]
  },
  {
   "cell_type": "markdown",
   "metadata": {},
   "source": [
    "Opsi Umum untuk Checkbutton:\n",
    "- activebackground: Menentukan warna latar belakang saat Checkbutton berada di bawah kursor.\n",
    "- activeforeground: Menentukan warna teks saat Checkbutton berada di bawah kursor.\n",
    "- bg: Menentukan warna latar belakang Checkbutton.\n",
    "- bitmap: Menampilkan gambar monokrom pada Checkbutton.\n",
    "- bd: Ukuran border sekitar indikator, defaultnya adalah 2 piksel.\n",
    "- command: Fungsi yang dipanggil ketika status Checkbutton berubah.\n",
    "- cursor: Mengubah bentuk kursor ketika berada di atas Checkbutton.\n",
    "- disabledforeground: Warna teks untuk Checkbutton yang dinonaktifkan.\n",
    "- font: Menentukan jenis dan ukuran font untuk teks pada Checkbutton.\n",
    "- fg: Menentukan warna teks pada Checkbutton.\n",
    "- height: Menentukan jumlah baris teks yang ditampilkan dalam Checkbutton, defaultnya adalah 1.\n",
    "- highlightcolor: Menentukan warna sorotan ketika Checkbutton dalam fokus.\n",
    "- image: Menampilkan gambar pada Checkbutton.\n",
    "- justify: Mengatur perataan teks (CENTER, LEFT, RIGHT).\n",
    "- offvalue: Nilai yang diasosiasikan dengan Checkbutton ketika tidak tercentang, defaultnya adalah 0.\n",
    "- onvalue: Nilai yang diasosiasikan dengan Checkbutton ketika tercentang, defaultnya adalah 1.\n",
    "- padx dan pady: Mengatur ruang di sekitar teks dan Checkbutton (horizontal dan vertikal).\n",
    "- relief: Jenis border pada Checkbutton (FLAT, RAISED, SUNKEN, dll).\n",
    "- selectcolor: Warna Checkbutton ketika tercentang, defaultnya adalah merah.\n",
    "- selectimage: Gambar yang ditampilkan pada Checkbutton ketika tercentang.\n",
    "- state: Status Checkbutton. Defaultnya adalah normal, bisa diubah menjadi DISABLED untuk membuat Checkbutton tidak responsif.\n",
    "- text: Teks yang ditampilkan di dalam Checkbutton, bisa menggunakan karakter newline untuk teks multi-baris.\n",
    "- underline: Menentukan karakter mana yang akan digarisbawahi dalam teks, dengan indeks mulai dari 0.\n",
    "- variable: Variabel yang mengawasi status Checkbutton.\n",
    "- width: Lebar Checkbutton, dihitung dalam jumlah karakter teks.\n",
    "- wraplength: Menentukan panjang garis teks yang dapat dibungkus (break line)."
   ]
  },
  {
   "cell_type": "markdown",
   "metadata": {},
   "source": [
    "### Metode pada Checkbutton:\n",
    "1. `deselect()`: Mematikan (menonaktifkan) Checkbutton."
   ]
  },
  {
   "cell_type": "code",
   "execution_count": null,
   "metadata": {},
   "outputs": [],
   "source": [
    "checkbutton.deselect()"
   ]
  },
  {
   "cell_type": "markdown",
   "metadata": {},
   "source": [
    "2. `flash()`: Menyala-nyala antara warna aktif dan normal."
   ]
  },
  {
   "cell_type": "code",
   "execution_count": null,
   "metadata": {},
   "outputs": [],
   "source": [
    "checkbutton.flash()"
   ]
  },
  {
   "cell_type": "markdown",
   "metadata": {},
   "source": [
    "3. `invoke()`: Memanggil aksi terkait dengan Checkbutton."
   ]
  },
  {
   "cell_type": "code",
   "execution_count": null,
   "metadata": {},
   "outputs": [],
   "source": [
    "checkbutton.invoke()"
   ]
  },
  {
   "cell_type": "markdown",
   "metadata": {},
   "source": [
    "4. `select()`: Menyalakan (mengaktifkan) Checkbutton."
   ]
  },
  {
   "cell_type": "code",
   "execution_count": null,
   "metadata": {},
   "outputs": [],
   "source": [
    "checkbutton.select()"
   ]
  },
  {
   "cell_type": "markdown",
   "metadata": {},
   "source": [
    "5. `toggle()`: Mengubah status Checkbutton (tercentang atau tidak tercentang)."
   ]
  },
  {
   "cell_type": "code",
   "execution_count": null,
   "metadata": {},
   "outputs": [],
   "source": [
    "checkbutton.toggle()"
   ]
  },
  {
   "cell_type": "markdown",
   "metadata": {},
   "source": [
    "### Contoh progrma Checkbutton"
   ]
  },
  {
   "cell_type": "code",
   "execution_count": null,
   "metadata": {},
   "outputs": [],
   "source": [
    "# Fungsi untuk menampilkan pilihan yang dipilih\n",
    "def show_selection():\n",
    "    print(f\"Option 1: {var1.get()}, Option 2: {var2.get()}, Option 3: {var3.get()}\")\n",
    "\n",
    "root = Tk()\n",
    "\n",
    "# Membuat variabel kontrol untuk Checkbuttons\n",
    "var1 = IntVar()\n",
    "var2 = IntVar()\n",
    "var3 = IntVar()\n",
    "\n",
    "# Membuat Checkbuttons\n",
    "check1 = Checkbutton(root, text=\"Option 1\", variable=var1)\n",
    "check1.pack()\n",
    "\n",
    "check2 = Checkbutton(root, text=\"Option 2\", variable=var2)\n",
    "check2.pack()\n",
    "\n",
    "check3 = Checkbutton(root, text=\"Option 3\", variable=var3)\n",
    "check3.pack()\n",
    "\n",
    "# Tombol untuk menampilkan pilihan yang dipilih\n",
    "button = Button(root, text=\"Show Selections\", command=show_selection)\n",
    "button.pack()"
   ]
  },
  {
   "cell_type": "markdown",
   "metadata": {},
   "source": [
    "## Radiobutton Widget di Tkinter\n",
    "Radiobutton adalah widget standar di Tkinter yang digunakan untuk implementasi pilihan satu dari banyak. Biasanya, Radiobutton digunakan ketika kita ingin pengguna memilih satu opsi dari beberapa pilihan yang tersedia, seperti memilih jenis kelamin, jenis pembayaran, atau kategori produk. Hanya satu Radiobutton yang dapat dipilih pada suatu waktu dalam satu grup."
   ]
  },
  {
   "cell_type": "code",
   "execution_count": null,
   "metadata": {},
   "outputs": [],
   "source": [
    "button = Radiobutton(parent, text=\"Name on Button\", variable=\"shared variable\", value=\"values of each button\", options=values)"
   ]
  },
  {
   "cell_type": "markdown",
   "metadata": {},
   "source": [
    "Penjelasan Parameter:\n",
    "- master: Jendela atau frame yang menjadi induk tempat Radiobutton ditampilkan.\n",
    "- text: Teks yang ditampilkan pada Radiobutton.\n",
    "- variable: Variabel Tkinter yang sama untuk semua Radiobutton dalam satu grup. Variabel ini akan memegang nilai yang ditentukan oleh pilihan yang dipilih.\n",
    "- value: Nilai yang diberikan untuk setiap Radiobutton. Setiap Radiobutton dalam grup harus memiliki nilai yang berbeda, karena ini menentukan pilihan yang - dipilih. Jika lebih dari satu Radiobutton memiliki nilai yang sama, maka lebih dari satu Radiobutton bisa dipilih pada saat yang sama, yang tidak diinginkan.\n",
    "- options: Opsi tambahan untuk menyesuaikan tampilan atau perilaku Radiobutton, seperti bg, fg, font, dll."
   ]
  },
  {
   "cell_type": "markdown",
   "metadata": {},
   "source": [
    "Opsi Umum untuk Radiobutton:\n",
    "- bg: Menentukan warna latar belakang tombol.\n",
    "- fg: Menentukan warna teks tombol.\n",
    "- font: Menentukan jenis dan ukuran font untuk teks tombol.\n",
    "- state: Menentukan status Radiobutton, misalnya normal, disabled, atau active.\n",
    "- cursor: Menentukan kursor yang ditampilkan saat berada di atas Radiobutton.\n",
    "- padx dan pady: Menentukan padding di sekitar teks atau gambar di Radiobutton.\n",
    "- value: Nilai yang dikaitkan dengan masing-masing Radiobutton yang membedakan pilihan.\n",
    "- indicatoron: Menentukan apakah indicator checkbox (lingkaran kecil di sebelah kiri teks) akan ditampilkan atau tidak."
   ]
  },
  {
   "cell_type": "code",
   "execution_count": null,
   "metadata": {},
   "outputs": [],
   "source": [
    "# Fungsi untuk menampilkan pilihan yang dipilih\n",
    "def show_choice():\n",
    "    print(f\"Selected Gender: {gender.get()}\")\n",
    "\n",
    "# Variabel yang digunakan untuk menyimpan nilai pilihan\n",
    "gender = StringVar()\n",
    "\n",
    "# Membuat Radiobutton untuk pilihan jenis kelamin\n",
    "radiobutton1 = Radiobutton(root, text=\"Male\", variable=gender, value=\"Male\", command=show_choice)\n",
    "radiobutton1.pack()\n",
    "\n",
    "radiobutton2 = Radiobutton(root, text=\"Female\", variable=gender, value=\"Female\", command=show_choice)\n",
    "radiobutton2.pack()\n",
    "\n",
    "radiobutton3 = Radiobutton(root, text=\"Other\", variable=gender, value=\"Other\", command=show_choice)\n",
    "radiobutton3.pack()"
   ]
  },
  {
   "cell_type": "markdown",
   "metadata": {},
   "source": [
    "### Metode pada Radiobutton sama seperti yang ada pada Checkbutton yaitu `deselect()`, `invoke()`, `select()`, `toogle()`"
   ]
  },
  {
   "cell_type": "markdown",
   "metadata": {},
   "source": [
    "## Listbox Widget di Tkinter\n",
    "Listbox adalah widget Tkinter yang digunakan untuk menampilkan berbagai jenis item dalam sebuah daftar. Item-item ini biasanya berupa teks yang memiliki jenis font dan warna yang sama. Listbox memungkinkan pengguna untuk memilih satu atau lebih item dari daftar yang diberikan, sesuai dengan kebutuhan."
   ]
  },
  {
   "cell_type": "code",
   "execution_count": null,
   "metadata": {},
   "outputs": [],
   "source": [
    "listbox = Listbox(root, options)"
   ]
  },
  {
   "cell_type": "markdown",
   "metadata": {},
   "source": [
    "Option yang umum digunakan pada listbox :\n",
    "- bg: Menentukan warna latar belakang Listbox.\n",
    "- fg: Menentukan warna teks (foreground) dalam Listbox.\n",
    "- bd: Menentukan ketebalan border Listbox.\n",
    "- height: Menentukan jumlah baris yang ditampilkan dalam Listbox.\n",
    "- width: Menentukan lebar Listbox (dalam satuan karakter).\n",
    "- font: Menentukan jenis dan ukuran font untuk teks dalam Listbox.\n",
    "- highlightcolor: Menentukan warna item dalam Listbox saat mendapatkan fokus.\n",
    "- yscrollcommand: Digunakan untuk menambahkan kemampuan scroll vertikal pada Listbox.\n",
    "- xscrollcommand: Digunakan untuk menambahkan kemampuan scroll horizontal pada Listbox.\n",
    "- cursor: Menentukan bentuk kursor ketika berada di atas Listbox (misalnya, panah, tangan, dll)."
   ]
  },
  {
   "cell_type": "markdown",
   "metadata": {},
   "source": [
    "Metode Umum untuk Listbox:\n",
    "- yview(): Membuat widget Listbox dapat digulir secara vertikal.\n",
    "- xview(): Membuat widget Listbox dapat digulir secara horizontal.\n",
    "- delete(start, last): Menghapus item dalam rentang yang ditentukan.\n",
    "- activate(index): Memilih item pada indeks tertentu.\n",
    "- size(): Mengembalikan jumlah item (baris) yang ada dalam Listbox.\n",
    "- delete(start, last): Menghapus item dalam rentang yang ditentukan.\n",
    "- nearest(y): Mengembalikan indeks item yang paling dekat dengan posisi vertikal y.\n",
    "- curselection(): Mengembalikan tuple yang berisi indeks baris yang sedang dipilih."
   ]
  },
  {
   "cell_type": "markdown",
   "metadata": {},
   "source": [
    "### Contoh Program"
   ]
  },
  {
   "cell_type": "code",
   "execution_count": null,
   "metadata": {},
   "outputs": [],
   "source": [
    "# Fungsi untuk menampilkan item yang dipilih\n",
    "def show_selection():\n",
    "    selected_items = listbox.curselection()  # Mendapatkan item yang dipilih\n",
    "    for item in selected_items:\n",
    "        print(listbox.get(item))  # Menampilkan item yang dipilih\n",
    "\n",
    "\n",
    "# Membuat Listbox dengan beberapa item\n",
    "listbox = Listbox(root, height=5, width=30, selectmode=MULTIPLE, bg=\"lightblue\", fg=\"black\")\n",
    "listbox.pack()\n",
    "\n",
    "# Menambahkan item ke dalam Listbox\n",
    "items = [\"Apple\", \"Banana\", \"Orange\", \"Grapes\", \"Mango\"]\n",
    "for item in items:\n",
    "    listbox.insert(END, item)\n",
    "\n",
    "# Membuat tombol untuk menampilkan item yang dipilih\n",
    "button = Button(root, text=\"Show Selected\", command=show_selection)\n",
    "button.pack()"
   ]
  },
  {
   "cell_type": "markdown",
   "metadata": {},
   "source": [
    "## Scrollbar Widget di Tkinter\n",
    "Scrollbar adalah widget Tkinter yang digunakan untuk memberikan kemampuan scroll (gulung) pada widget lain yang isinya lebih besar dari area yang tersedia untuk menampilkannya. Scrollbar sering digunakan untuk Entry, Text, atau Listbox yang memerlukan pengguliran baik secara vertikal maupun horizontal."
   ]
  },
  {
   "cell_type": "code",
   "execution_count": null,
   "metadata": {},
   "outputs": [],
   "source": [
    "w = Scrollbar(parent, options)"
   ]
  },
  {
   "cell_type": "markdown",
   "metadata": {},
   "source": [
    "Opsi Umum untuk Scrollbar:\n",
    "- activebackground: Menentukan warna latar belakang saat Scrollbar berada di bawah fokus.\n",
    "- bg: Menentukan warna latar belakang Scrollbar.\n",
    "- bd: Menentukan ketebalan border Scrollbar.\n",
    "- command: Menentukan fungsi yang dipanggil setiap kali Scrollbar digeser.\n",
    "- cursor: Menentukan jenis kursor saat berada di atas Scrollbar (misalnya, panah, titik, dll.).\n",
    "- elementborderwidth: Menentukan ketebalan border di sekitar kepala panah dan slider. Defaultnya adalah -1.\n",
    "- highlightbackground: Menentukan warna sorotan saat widget tidak dalam fokus.\n",
    "- highlightcolor: Menentukan warna sorotan saat widget dalam fokus.\n",
    "- highlightthickness: Menentukan ketebalan sorotan saat widget memiliki fokus.\n",
    "- jump: Menentukan apakah Scrollbar akan melompat saat pengguna melepaskan tombol mouse. Jika diset ke 1, maka callback akan dipanggil setelah tombol mouse - dilepaskan.\n",
    "- orient: Menentukan orientasi Scrollbar, apakah HORIZONTAL atau VERTICAL.\n",
    "- repeatdelay: Durasi yang ditunggu sebelum slider bergerak secara terus-menerus ketika tombol ditekan. Defaultnya adalah 300ms.\n",
    "- repeatinterval: Interval waktu antar gerakan berulang ketika tombol ditekan. Defaultnya adalah 100ms.\n",
    "- takefocus: Menentukan apakah Scrollbar dapat difokuskan melalui tab (gunakan nilai True atau False).\n",
    "- troughcolor: Menentukan warna trough (area kosong di Scrollbar).\n",
    "- width: Menentukan lebar Scrollbar."
   ]
  },
  {
   "cell_type": "markdown",
   "metadata": {},
   "source": [
    "Metode Umum untuk Scrollbar:\n",
    "- get(): Mengembalikan dua angka yang mewakili posisi saat ini dari Scrollbar.\n",
    "- set(first, last): Menghubungkan Scrollbar dengan widget lain (misalnya, Listbox atau Text) untuk mengendalikan pengguliran. first dan last adalah dua nilai yang mengatur batas atas dan bawah pengguliran."
   ]
  },
  {
   "cell_type": "code",
   "execution_count": null,
   "metadata": {},
   "outputs": [],
   "source": [
    "# Membuat Listbox\n",
    "listbox = Listbox(root, height=5, width=30)\n",
    "listbox.pack(side=LEFT)\n",
    "\n",
    "# Menambahkan beberapa item ke Listbox\n",
    "items = [\"Apple\", \"Banana\", \"Orange\", \"Grapes\", \"Mango\", \"Pineapple\", \"Peach\", \"Plum\"]\n",
    "for item in items:\n",
    "    listbox.insert(END, item)\n",
    "\n",
    "# Membuat Scrollbar vertikal\n",
    "scrollbar = Scrollbar(root, orient=VERTICAL, command=listbox.yview)\n",
    "scrollbar.pack(side=RIGHT, fill=Y)\n",
    "\n",
    "# Menghubungkan Scrollbar dengan Listbox\n",
    "listbox.config(yscrollcommand=scrollbar.set)"
   ]
  },
  {
   "cell_type": "markdown",
   "metadata": {},
   "source": [
    "## Menu Widget di Tkinter\n",
    "Menu adalah salah satu elemen penting dalam GUI yang memberikan akses cepat kepada pengguna untuk berbagai operasi, seperti menyimpan atau membuka file, keluar dari aplikasi, atau memanipulasi data. Di Tkinter, menu dapat digunakan untuk menambahkan opsi di bagian atas jendela aplikasi atau di bawah bilah judul (title bar) dari jendela utama atau jendela Toplevel"
   ]
  },
  {
   "cell_type": "code",
   "execution_count": null,
   "metadata": {},
   "outputs": [],
   "source": [
    "menu = Menu(parent, **options)"
   ]
  },
  {
   "cell_type": "markdown",
   "metadata": {},
   "source": [
    "Opsi Umum untuk Menu:\n",
    "- bg: Menentukan warna latar belakang menu.\n",
    "- fg: Menentukan warna teks menu.\n",
    "- font: Menentukan jenis dan ukuran font pada menu.\n",
    "- tearoff: Menentukan apakah menu dapat \"terlepas\" dari jendela utama. Nilai default adalah True, yang memungkinkan menu untuk ditarik keluar.\n",
    "- activebackground: Menentukan warna latar belakang item menu saat berada dalam fokus.\n",
    "- activeforeground: Menentukan warna teks item menu saat berada dalam fokus."
   ]
  },
  {
   "cell_type": "markdown",
   "metadata": {},
   "source": [
    "### Menu Bar dan Menu Items:\n",
    "Untuk membuat menu yang lebih kompleks, kita perlu menggunakan Menu Bar yang berisi beberapa Menu. Setiap Menu dapat memiliki beberapa Menu Items, yang bisa berupa perintah (command), sub-menu (cascade), atau pemisah (separator)."
   ]
  },
  {
   "cell_type": "markdown",
   "metadata": {},
   "source": [
    "#### Menu Item Types:\n",
    "- add_command: Digunakan untuk menambahkan item menu yang berfungsi sebagai perintah (misalnya \"Open\", \"Exit\").\n",
    "- add_checkbutton: Digunakan untuk menambahkan item menu dengan checkbutton (misalnya, memilih opsi).\n",
    "- add_radiobutton: Digunakan untuk menambahkan item menu dengan radiobutton (misalnya, memilih satu opsi dari beberapa).\n",
    "- add_separator: Menambahkan pemisah horizontal di antara item menu."
   ]
  },
  {
   "cell_type": "code",
   "execution_count": null,
   "metadata": {},
   "outputs": [],
   "source": [
    "# Fungsi untuk menutup aplikasi\n",
    "def quit_app():\n",
    "    root.quit()\n",
    "\n",
    "# Fungsi untuk menampilkan pesan\n",
    "def show_message():\n",
    "    print(\"Menu item selected!\")\n",
    "\n",
    "# Membuat Menu bar\n",
    "menu_bar = Menu(root)\n",
    "\n",
    "# Membuat Menu \"File\"\n",
    "file_menu = Menu(menu_bar, tearoff=0)\n",
    "file_menu.add_command(label=\"Open\", command=show_message)\n",
    "file_menu.add_command(label=\"Save\", command=show_message)\n",
    "file_menu.add_separator()  # Pemisah menu\n",
    "file_menu.add_command(label=\"Exit\", command=quit_app)\n",
    "\n",
    "# Membuat Menu \"Edit\"\n",
    "edit_menu = Menu(menu_bar, tearoff=0)\n",
    "edit_menu.add_command(label=\"Cut\", command=show_message)\n",
    "edit_menu.add_command(label=\"Copy\", command=show_message)\n",
    "edit_menu.add_command(label=\"Paste\", command=show_message)\n",
    "\n",
    "# Menambahkan menu ke menu bar\n",
    "menu_bar.add_cascade(label=\"File\", menu=file_menu)\n",
    "menu_bar.add_cascade(label=\"Edit\", menu=edit_menu)\n",
    "\n",
    "# Menambahkan menu bar ke jendela utama\n",
    "root.config(menu=menu_bar)"
   ]
  },
  {
   "cell_type": "markdown",
   "metadata": {},
   "source": [
    "## Widget lainnya"
   ]
  },
  {
   "cell_type": "markdown",
   "metadata": {},
   "source": [
    "Terdapat widget yang lebih kompleks dan digunakan secara khusus seperti :\n",
    "1. Canvas: Menggambar bentuk, garis, teks, dan gambar.\n",
    "2. Combobox: Menyediakan daftar dropdown dengan teks yang dapat diedit.\n",
    "3. Scale: Membuat widget skala untuk memilih nilai dalam rentang tertentu.\n",
    "4. Toplevel: Membuat jendela tambahan atau dialog.\n",
    "5. Message: Menampilkan pesan atau notifikasi sederhana.\n",
    "6. Menubutton: Membuat tombol yang membuka menu.\n",
    "7. Progressbar: Menampilkan kemajuan sebuah tugas.\n",
    "8. Spinbox: Menyediakan input numerik dengan panah atas/bawah.\n",
    "\n",
    "Atau bahkan Widget tingkat lanjut dalam Tkinter:<br>\n",
    "1. ScrolledText Widget: Membuat widget teks dengan scrollbar bawaan.\n",
    "2. Treeview: Menampilkan data hierarkis dalam struktur seperti pohon.\n",
    "3. MessageBox Widget: Menampilkan kotak dialog untuk pesan, peringatan, dll.\n",
    "4. Treeview Scrollbar Widget: Menambahkan scrollbar pada widget Treeview.\n",
    "5. Text: Membuat input teks multiline dengan kemampuan pengeditan lanjutan.\n",
    "\n",
    "Kalian bisa pelajari dan eksplorasi sendiri"
   ]
  }
 ],
 "metadata": {
  "kernelspec": {
   "display_name": "Python 3",
   "language": "python",
   "name": "python3"
  },
  "language_info": {
   "codemirror_mode": {
    "name": "ipython",
    "version": 3
   },
   "file_extension": ".py",
   "mimetype": "text/x-python",
   "name": "python",
   "nbconvert_exporter": "python",
   "pygments_lexer": "ipython3",
   "version": "3.12.1"
  }
 },
 "nbformat": 4,
 "nbformat_minor": 2
}
