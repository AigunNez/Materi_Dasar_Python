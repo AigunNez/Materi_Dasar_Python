{
 "cells": [
  {
   "cell_type": "markdown",
   "metadata": {},
   "source": [
    "# Function (Fungsi)"
   ]
  },
  {
   "cell_type": "markdown",
   "metadata": {},
   "source": [
    "Fungsi adalah blok kode yang hanya dijalankan ketika dipanggil. Fungsi Python mengembalikan nilai menggunakan pernyataan return, jika ada yang ditentukan. Fungsi dapat dipanggil di mana saja setelah fungsi dideklarasikan.\n",
    "\n",
    "Dengan sendirinya, fungsi tidak melakukan apa-apa. Namun, ketika diperlurkan menggunakan fungsi, kita dapat memanggilnya, dan kode di dalam fungsi akan dieksekusi.\n",
    "\n",
    "Seiring program semakin kompleks dan banyak, fungsi membuatnya lebih terorganisir dan lebih mudah dikelola. Selain itu, ini menghindari pengulangan dan membuat kode dapat digunakan kembali.\n",
    "\n",
    "##### **Singkatnya**,\n",
    "Fungsi Python adalah urutan pernyataan yang dieksekusi dalam urutan tertentu, kita mengaitkan nama dengan itu. Ini memungkinkan kita untuk menggunakan kembali kode.\n",
    "\n",
    "Kita mendefinisikan fungsi menggunakan kata kunci `def`.\n",
    "\n",
    "Cara mendefinisikan fungsi python yaitu menggunakan kata kunci `def`, diikuti dengan nama fungsi, dan tanda kurung yang mungkin berisi parameter."
   ]
  },
  {
   "cell_type": "code",
   "execution_count": null,
   "metadata": {},
   "outputs": [
    {
     "name": "stdout",
     "output_type": "stream",
     "text": [
      "Hello, World\n"
     ]
    }
   ],
   "source": [
    "def namaFungsi(parameter):\n",
    "    print(\"Hello, \" + parameter)\n",
    "\n",
    "namaFungsi(\"World\")"
   ]
  },
  {
   "cell_type": "markdown",
   "metadata": {},
   "source": [
    "Definisi fungsi di atas terdiri dari komponen-komponen berikut:\n",
    "\n",
    "- Kata Kunci `def` yang menandai awal dari fungsi.\n",
    "- Nama fungsi untuk mengidentifikasi fungsi secara unik. Penamaan fungsi mengikuti aturan yang sama dengan penulisan pengidentifikasi di Python.\n",
    "- Parameter (argumen) yang digunakan untuk memasukkan nilai ke fungsi. Parameter bersifat opsional.\n",
    "- Tanda titik dua (:) yang menandai awal penggunaan fungsi yang diikuti dengan blok kode.\n",
    "- Dokumentasi string (docstring) opsional untuk menjelaskan apa yang dilakukan oleh fungsi.\n",
    "- Satu atau lebih pernyataan Python yang valid yang membentuk badan fungsi. Pernyataan harus memiliki tingkat indentasi yang sama.\n",
    "- Pernyataan `return` opsional untuk mengembalikan nilai dari fungsi."
   ]
  },
  {
   "cell_type": "markdown",
   "metadata": {},
   "source": [
    "**Singkatnya**, Fungsi ditandai dengan kata kunci `def`, diikuti dengan nama fungsi, dan sepasang tanda kurung.\n",
    "\n",
    "Untuk contoh ini, kita akan membuat fungsi sederhana yang mencetak pernyataan `Ini Hari Sabtu!`. Untuk melakukannya, kita bisa menggunakan kode berikut:"
   ]
  },
  {
   "cell_type": "code",
   "execution_count": null,
   "metadata": {},
   "outputs": [
    {
     "name": "stdout",
     "output_type": "stream",
     "text": [
      "Ini Hari Sabtu\n"
     ]
    }
   ],
   "source": [
    "def cetakHari():\n",
    "    print(\"Ini Hari Sabtu\")"
   ]
  },
  {
   "cell_type": "markdown",
   "metadata": {},
   "source": [
    "Ketika kita menjalankan kode kita, tidak ada yang terjadi. Ini karena, agar fungsi kita berjalan, kita perlu memanggilnya Untuk melakukannya, kita dapat merujuk pada nama fungsi tersebut"
   ]
  },
  {
   "cell_type": "code",
   "execution_count": null,
   "metadata": {},
   "outputs": [],
   "source": [
    "def cetakHari():\n",
    "    print(\"Ini Hari Sabtu\")\n",
    "\n",
    "cetakHari()"
   ]
  },
  {
   "cell_type": "markdown",
   "metadata": {},
   "source": [
    "Berikut penjelasan tentang komponen yang ada pada fungsi :\n",
    "- Kata kunci `def` digunakan untuk menunjukkan bahwa kita ingin membuat sebuah fungsi.\n",
    "- `cetakHari` adalah nama fungsi kita. Nama ini harus unik.\n",
    "- `()` adalah tempat di mana parameter kita akan disimpan. Kita akan membahas ini lebih lanjut nanti.\n",
    "- `:` menandai akhir dari header fungsi kita."
   ]
  },
  {
   "cell_type": "markdown",
   "metadata": {},
   "source": [
    "## Docstrings\n",
    "String pertama setelah header fungsi disebut docstring, yang merupakan singkatan dari documentation string. Docstring digunakan untuk menjelaskan secara singkat apa yang dilakukan oleh fungsi.\n",
    "\n",
    "Meskipun bersifat opsional, dokumentasi adalah praktik pemrograman yang baik. Kecuali Anda bisa mengingat apa yang Anda makan untuk makan malam minggu lalu, selalu dokumentasikan kode Anda.\n",
    "\n",
    "Dalam contoh di atas, kita memiliki docstring tepat di bawah header fungsi. Kita umumnya menggunakan tanda kutip tiga agar docstring dapat meluas hingga beberapa baris. String ini tersedia bagi kita sebagai atribut __doc__ dari fungsi.\n",
    "\n",
    "#### Contoh Penggunaan Docstring :\n",
    "Berikut adalah contoh cara menambahkan docstring ke fungsi:"
   ]
  },
  {
   "cell_type": "code",
   "execution_count": 5,
   "metadata": {},
   "outputs": [
    {
     "name": "stdout",
     "output_type": "stream",
     "text": [
      "Hello, Mahdy. Selamat Pagi!\n"
     ]
    }
   ],
   "source": [
    "def greet(name):\n",
    "    \"\"\"\n",
    "    Ini adalah fungsi untuk memberi salam pada seseorang dengan nama tertentu yang diberikan sebagai parameter fungsi. \n",
    "    \"\"\"\n",
    "    print(\"Hello, \" + name + \". Selamat Pagi!\")\n",
    "\n",
    "greet('Mahdy')"
   ]
  },
  {
   "cell_type": "code",
   "execution_count": 6,
   "metadata": {},
   "outputs": [
    {
     "name": "stdout",
     "output_type": "stream",
     "text": [
      "\n",
      "    Ini adalah fungsi untuk memberi salam pada seseorang dengan nama tertentu yang diberikan sebagai parameter fungsi. \n",
      "    \n"
     ]
    }
   ],
   "source": [
    "print(greet.__doc__)"
   ]
  },
  {
   "cell_type": "markdown",
   "metadata": {},
   "source": [
    "## Return Statement\n",
    "Dalam sebuah fungsi, kita menggunakan pernyataan return di akhir fungsi, dan ini membantu kita untuk mengembalikan hasil dari fungsi tersebut. Pernyataan ini mengakhiri eksekusi fungsi dan mentransfer hasilnya ke tempat di mana fungsi tersebut dipanggil.\n",
    "\n",
    "Penting untuk dicatat bahwa kita tidak dapat menggunakan pernyataan `return` di luar fungsi.\n",
    "\n",
    "Pernyataan `return` dapat berisi ekspresi yang dievaluasi, dan nilai tersebut akan dikembalikan kepada fungsi pemanggil. Jika pernyataan return tidak memiliki ekspresi atau tidak ada sama sekali dalam fungsi, maka ia akan mengembalikan objek None."
   ]
  },
  {
   "cell_type": "code",
   "execution_count": 9,
   "metadata": {},
   "outputs": [
    {
     "name": "stdout",
     "output_type": "stream",
     "text": [
      "Hasil penjumlahan adalah 5\n"
     ]
    }
   ],
   "source": [
    "def tambah():\n",
    "    \"\"\"Mengembalikan hasil penjumlahan dari dua angka.\"\"\"\n",
    "    a = 2\n",
    "    b = 3\n",
    "    hasil = a + b\n",
    "    return hasil\n",
    "\n",
    "# Memanggil fungsi dan menyimpan hasilnya\n",
    "print(\"Hasil penjumlahan adalah\", tambah())\n"
   ]
  },
  {
   "cell_type": "markdown",
   "metadata": {},
   "source": [
    "Dalam kode di atas, kita telah mendefinisikan fungsi yang bernama sum, dan fungsi tersebut memiliki pernyataan c = a + b, yang menghitung nilai yang diberikan, dan hasilnya dikembalikan oleh pernyataan return kepada fungsi pemanggil.\n",
    "\n",
    "### Contoh lainnya"
   ]
  },
  {
   "cell_type": "code",
   "execution_count": null,
   "metadata": {},
   "outputs": [],
   "source": [
    "def sum():\n",
    "    a = 20\n",
    "    b = 40\n",
    "    c = a+b\n",
    "# calling sum() function in print statment \n",
    "print(sum())"
   ]
  },
  {
   "cell_type": "code",
   "execution_count": null,
   "metadata": {},
   "outputs": [],
   "source": [
    "def absolute_value(num):\n",
    "    \"\"\"This function returns the absolute\n",
    "    value of the entered number\"\"\"\n",
    "\n",
    "    if num >= 0:\n",
    "        return num\n",
    "    else:\n",
    "        return -num\n",
    "\n",
    "print(absolute_value(2))\n",
    "\n",
    "print(absolute_value(-4))"
   ]
  },
  {
   "cell_type": "markdown",
   "metadata": {},
   "source": [
    "# Jenis Jenis Fungsi\n",
    "Pada dasarnya, kita dapat membagi fungsi menjadi dua jenis berikut:\n",
    "- Fungsi Bawaan (Built-in Functions)\n",
    "- Fungsi yang Didefinisikan Pengguna (User-defined Functions):"
   ]
  },
  {
   "cell_type": "markdown",
   "metadata": {},
   "source": [
    "### 1. Built-in functions \n",
    "Python memiliki beberapa fungsi yang siap digunakan. Fungsi-fungsi ini disebut fungsi bawaan (built-in functions). Fungsi bawaan adalah fungsi yang sudah terintegrasi dalam bahasa pemrograman Python, sehingga kita tidak perlu mendefinisikannya sendiri. Kita dapat langsung menggunakan fungsi-fungsi ini untuk berbagai keperluan."
   ]
  },
  {
   "cell_type": "markdown",
   "metadata": {},
   "source": [
    "| Fungsi           | Deskripsi                                                                                          |\n",
    "|------------------|----------------------------------------------------------------------------------------------------|\n",
    "| `abs()`          | Mengembalikan nilai absolut dari sebuah angka.                                                   |\n",
    "| `all()`          | Mengembalikan True jika semua item dalam objek iterable adalah True.                             |\n",
    "| `any()`          | Mengembalikan True jika salah satu item dalam objek iterable adalah True.                        |\n",
    "| `ascii()`        | Mengembalikan versi yang dapat dibaca dari objek. Mengganti karakter non-ASCII dengan karakter escape. |\n",
    "| `bin()`          | Mengembalikan versi biner dari sebuah angka.                                                     |\n",
    "| `bool()`         | Mengembalikan nilai boolean dari objek yang ditentukan.                                          |\n",
    "| `bytearray()`    | Mengembalikan array byte.                                                                         |\n",
    "| `bytes()`        | Mengembalikan objek byte.                                                                          |\n",
    "| `callable()`     | Mengembalikan True jika objek yang ditentukan dapat dipanggil, jika tidak False.                 |\n",
    "| `chr()`          | Mengembalikan karakter dari kode Unicode yang ditentukan.                                        |\n",
    "| `classmethod()`   | Mengonversi metode menjadi metode kelas.                                                          |\n",
    "| `compile()`      | Mengembalikan sumber yang ditentukan sebagai objek, siap untuk dieksekusi.                       |\n",
    "| `complex()`      | Mengembalikan bilangan kompleks.                                                                  |\n",
    "| `delattr()`      | Menghapus atribut (properti atau metode) yang ditentukan dari objek yang ditentukan.             |\n",
    "| `dict()`         | Mengembalikan sebuah kamus (dictionary).                                                          |\n",
    "| `dir()`          | Mengembalikan daftar properti dan metode dari objek yang ditentukan.                             |\n",
    "| `divmod()`       | Mengembalikan hasil bagi dan sisa ketika argumen1 dibagi dengan argumen2.                       |\n",
    "| `enumerate()`    | Mengambil koleksi (misalnya tuple) dan mengembalikannya sebagai objek enumerate.                |\n",
    "| `exec()`         | Mengeksekusi kode (atau objek) yang ditentukan.                                                  |\n",
    "| `filter()`       | Menggunakan fungsi filter untuk mengecualikan item dalam objek iterable.                        |\n",
    "| `float()`        | Mengembalikan angka titik mengambang.                                                            |\n",
    "| `format()`       | Memformat nilai yang ditentukan.                                                                  |\n",
    "| `frozenset()`    | Mengembalikan objek frozenset.                                                                    |\n",
    "| `globals()`      | Mengembalikan tabel simbol global saat ini sebagai kamus.                                        |\n",
    "| `hasattr()`      | Mengembalikan True jika objek yang ditentukan memiliki atribut yang ditentukan (properti/metode). |\n",
    "| `hash()`         | Mengembalikan nilai hash dari objek yang ditentukan.                                            |\n",
    "| `help()`         | Menjalankan sistem bantuan bawaan.                                                                |\n",
    "| `hex()`          | Mengonversi angka menjadi nilai heksadesimal.                                                    |\n",
    "| `id()`           | Mengembalikan id dari objek.                                                                      |\n",
    "| `input()`        | Mengizinkan input dari pengguna.                                                                  |\n",
    "| `int()`          | Mengembalikan angka bulat.                                                                        |\n",
    "| `isinstance()`    | Mengembalikan True jika objek yang ditentukan adalah instansi dari objek yang ditentukan.       |\n",
    "| `iter()`         | Mengembalikan objek iterator.                                                                      |\n",
    "| `len()`          | Mengembalikan panjang (jumlah elemen) dari objek.                                               |\n",
    "| `list()`         | Mengembalikan sebuah list.                                                                         |\n",
    "| `locals()`       | Mengembalikan kamus yang diperbarui dari tabel simbol lokal saat ini.                           |\n",
    "| `map()`          | Mengembalikan iterator yang ditentukan dengan fungsi yang ditentukan diterapkan pada setiap item. |\n",
    "| `max()`          | Mengembalikan item terbesar dalam iterable.                                                      |\n",
    "| `memoryview()`   | Mengembalikan objek memory view.                                                                  |\n",
    "| `min()`          | Mengembalikan item terkecil dalam iterable.                                                      |\n",
    "| `open()`         | Membuka sebuah file dan mengembalikan objek file.                                               |\n",
    "| `pow()`          | Mengembalikan nilai x pangkat y.                                                                  |\n",
    "| `print()`        | Mencetak ke perangkat keluaran standar.                                                           |\n",
    "| `range()`        | Mengembalikan urutan angka, dimulai dari 0 dan meningkat satu (secara default).                  |\n",
    "| `repr()`         | Mengembalikan versi yang dapat dibaca dari objek.                                               |\n",
    "| `reversed()`     | Mengembalikan iterator terbalik.                                                                  |\n",
    "| `round()`        | Membulatkan angka.                                                                                |\n",
    "| `set()`          | Mengembalikan objek set baru.                                                                      |\n",
    "| `setattr()`      | Mengatur atribut (properti/metode) dari objek.                                                  |\n",
    "| `slice()`        | Mengembalikan objek slice.                                                                        |\n",
    "| `sorted()`       | Mengembalikan list yang terurut.                                                                  |\n",
    "| `@staticmethod()` | Mengonversi metode menjadi metode statis.                                                        |\n",
    "| `str()`          | Mengembalikan objek string.                                                                        |\n",
    "| `sum()`          | Menjumlahkan item dalam iterator.                                                                 |\n",
    "| `super()`        | Mengembalikan objek yang mewakili kelas induk.                                                  |\n",
    "| `tuple()`        | Mengembalikan tuple.                                                                               |\n",
    "| `type()`         | Mengembalikan tipe dari objek.                                                                    |\n",
    "| `vars()`         | Mengembalikan properti `__dict__` dari objek.                                                   |\n",
    "| `zip()`          | Mengembalikan iterator, dari dua atau lebih iterator.                                            |\n"
   ]
  },
  {
   "cell_type": "markdown",
   "metadata": {},
   "source": [
    "### Fungsi yang Didefinisikan Pengguna\n",
    "\n",
    "Fungsi yang kita definisikan sendiri dalam program disebut fungsi yang didefinisikan pengguna (user-defined function). kita dapat memberi nama apa pun pada fungsi yang didefinisikan pengguna, namun kita tidak dapat menggunakan kata kunci Python sebagai nama fungsi.\n",
    "\n",
    "Di Python, kita mendefinisikan fungsi yang didefinisikan pengguna menggunakan kata kunci def, diikuti dengan nama fungsi. Nama fungsi diikuti oleh parameter dalam tanda kurung, diakhiri dengan tanda titik dua.\n",
    "\n",
    "Sebagai contoh <br>\n",
    "```\n",
    "def function_name(parameter_1, parameter_2, ...) :\n",
    "    statements\n",
    "    ....\n",
    "```"
   ]
  },
  {
   "cell_type": "markdown",
   "metadata": {},
   "source": [
    "kita dapat memanggil fungsi yang didefinisikan pengguna dengan menggunakan nama fungsi diikuti oleh argumen dalam tanda kurung."
   ]
  },
  {
   "cell_type": "markdown",
   "metadata": {},
   "source": [
    "### Contoh Fungsi yang Didefinisikan Pengguna\n",
    "Dalam contoh berikut, kita telah mendefinisikan fungsi yang didefinisikan pengguna bernama sum. Fungsi ini dapat menerima dua argumen karena kita telah mendefinisikan fungsi ini dengan dua parameter. Di dalam fungsi print(), kita memanggil fungsi sum dan meneruskan angka x dan y sebagai argumen.\n",
    "\n",
    "Di dalam fungsi sum(), terdapat pernyataan return yang mengembalikan jumlah dari dua parameter yang diteruskan ke fungsi sebagai argumen.\n",
    "\n",
    "Seperti yang Anda lihat, kita telah menggunakan fungsi print() dalam contoh berikut tanpa mendefinisikannya, karena print() adalah fungsi bawaan yang sudah tersedia untuk digunakan, dan kita dapat langsung memanggilnya."
   ]
  },
  {
   "cell_type": "code",
   "execution_count": null,
   "metadata": {},
   "outputs": [],
   "source": [
    "# Program to demonstrate the\n",
    "# use of user defined functions\n",
    "\n",
    "def sum(a,b):\n",
    "    total = a + b\n",
    "    return total\n",
    "\n",
    "x = 10\n",
    "y = 20\n",
    "\n",
    "print(\"The sum of\",x,\"and\",y,\"is:\",sum(x, y))"
   ]
  },
  {
   "cell_type": "markdown",
   "metadata": {},
   "source": [
    "## Python Function Arguments\n",
    "\n",
    "Di Python, kita dapat mendefinisikan fungsi yang menerima jumlah argumen yang bervariasi."
   ]
  },
  {
   "cell_type": "markdown",
   "metadata": {},
   "source": [
    "Argument pada function terbagi menjadi beberapa jenis yaitu :\n",
    "\n",
    "### Argument Default \n",
    "Argumen dalam program Python dapat memiliki nilai default. Kita memberikan nilai default pada argumen dengan menggunakan operator sama dengan (=).\n",
    "\n",
    "Ketika kita memanggil fungsi tanpa memberikan nilai untuk argumen tersebut, nilai default (seperti yang ditentukan) akan digunakan."
   ]
  },
  {
   "cell_type": "code",
   "execution_count": null,
   "metadata": {},
   "outputs": [],
   "source": [
    "def greeting(name='User'):\n",
    "    print(f\"Hello, {name}\")\n",
    "    \n",
    "greeting('Mahdy')"
   ]
  },
  {
   "cell_type": "markdown",
   "metadata": {},
   "source": [
    "Di sini, ketika kita memanggil greeting() tanpa argumen, parameter name mengambil nilai default-nya yaitu 'User'.\n",
    "\n",
    "Anda dapat memberikan nilai default pada sejumlah argumen. Namun, Anda harus memastikan untuk tidak menempatkan argumen yang tidak memiliki nilai default setelah argumen yang memiliki nilai default.\n",
    "\n",
    "Dalam kata lain, Jika Anda memberikan argumen default, semua argumen yang mengikutinya juga harus memiliki nilai default.\n",
    "\n",
    "Alasannya sederhana, Bayangkan Anda memiliki fungsi dengan dua parameter:\n",
    "- Argumen pertama memiliki nilai default, tetapi argumen kedua tidak. Sekarang, ketika Anda memanggil fungsi tersebut (jika itu diperbolehkan) dan hanya memberikan satu argumen, maka interpreter akan menganggapnya sebagai argumen pertama. Lalu, apa yang terjadi pada argumen kedua? Tidak ada nilai yang ditentukan untuknya, dan interpreter tidak tahu apa yang harus dilakukan."
   ]
  },
  {
   "cell_type": "code",
   "execution_count": null,
   "metadata": {},
   "outputs": [],
   "source": [
    "def greeting(name=\"User\", age):  # Ini akan menghasilkan kesalahan\n",
    "    \"\"\"Menampilkan pesan sapaan.\"\"\"\n",
    "    print(f\"Halo, {name}. Umur Anda adalah {age}.\")\n",
    "\n",
    "# Memanggil fungsi (ini akan menghasilkan kesalahan)\n",
    "greeting(25)  # Kesalahan: SyntaxError: non-default argument follows default argument\n"
   ]
  },
  {
   "cell_type": "markdown",
   "metadata": {},
   "source": [
    "Untuk menghindari kesalahan ini, pastikan bahwa semua argumen yang tidak memiliki nilai default didefinisikan sebelum argumen yang memiliki nilai default:"
   ]
  },
  {
   "cell_type": "code",
   "execution_count": null,
   "metadata": {},
   "outputs": [],
   "source": [
    "def greeting(age, name=\"User\"):\n",
    "    \"\"\"Menampilkan pesan sapaan.\"\"\"\n",
    "    print(f\"Halo, {name}. Umur Anda adalah {age}.\")\n",
    "\n",
    "# Memanggil fungsi dengan argumen default\n",
    "greeting(25)  # Output: Halo, User. Umur Anda adalah 25."
   ]
  },
  {
   "cell_type": "markdown",
   "metadata": {},
   "source": [
    "### Python Keyword Argument\n",
    "Dengan argumen kata kunci di Python, kita dapat mengubah urutan penyampaian argumen tanpa konsekuensi. Ini berarti kita dapat menentukan argumen dengan menggunakan nama parameter yang sesuai, sehingga urutan argumen tidak menjadi masalah."
   ]
  },
  {
   "cell_type": "code",
   "execution_count": null,
   "metadata": {},
   "outputs": [],
   "source": [
    "def info(nama, umur, kota):\n",
    "    \"\"\"Menampilkan informasi tentang seseorang.\"\"\"\n",
    "    print(f\"Nama: {nama}, Umur: {umur}, Kota: {kota}\")\n",
    "\n",
    "# Memanggil fungsi dengan urutan argumen yang berbeda\n",
    "info(umur=21, kota=\"Surabaya\", nama=\"Mahdy\")\n"
   ]
  },
  {
   "cell_type": "markdown",
   "metadata": {},
   "source": [
    "Seperti yang Anda lihat, kedua cara memanggil fungsi memberikan hasil yang sama. Ini adalah argumen fungsi kata kunci di Python.\n",
    "\n",
    "Namun, jika Anda mencoba untuk menempatkan argumen posisi setelah argumen kata kunci, Python akan menghasilkan pengecualian SyntaxError."
   ]
  },
  {
   "cell_type": "code",
   "execution_count": null,
   "metadata": {},
   "outputs": [
    {
     "ename": "SyntaxError",
     "evalue": "positional argument follows keyword argument (2718243546.py, line 1)",
     "output_type": "error",
     "traceback": [
      "\u001b[1;36m  Cell \u001b[1;32mIn[1], line 1\u001b[1;36m\u001b[0m\n\u001b[1;33m    info(nama=\"Ali\", kota=\"Jakarta\", 25)\u001b[0m\n\u001b[1;37m                                       ^\u001b[0m\n\u001b[1;31mSyntaxError\u001b[0m\u001b[1;31m:\u001b[0m positional argument follows keyword argument\n"
     ]
    }
   ],
   "source": [
    "info(nama=\"Mahdy\", kota=\"Surabaya\", 21)"
   ]
  },
  {
   "cell_type": "markdown",
   "metadata": {},
   "source": [
    "### Argumen Arbitrari di Python\n",
    "\n",
    "Anda mungkin tidak selalu tahu berapa banyak argumen yang akan diterima oleh fungsi. Dalam kasus tersebut, Anda dapat menggunakan asterisk (*) sebelum nama argumen. Ini memungkinkan Anda untuk mengumpulkan sejumlah argumen yang tidak terbatas menjadi sebuah tuple."
   ]
  },
  {
   "cell_type": "code",
   "execution_count": null,
   "metadata": {},
   "outputs": [],
   "source": [
    "def sayhello(*names):\n",
    "    for name in names:\n",
    "        print(f\"Hello, {name}\")"
   ]
  },
  {
   "cell_type": "markdown",
   "metadata": {},
   "source": [
    "Ketika Anda memanggil fungsi dengan sejumlah argumen, argumen-argumen tersebut akan dibungkus dalam sebuah tuple di Python. Anda dapat mengiterasi tuple ini menggunakan loop for."
   ]
  },
  {
   "cell_type": "code",
   "execution_count": null,
   "metadata": {},
   "outputs": [],
   "source": [
    "sayhello(\"Mahdy\", \"Rahman\", \"Benni\")"
   ]
  },
  {
   "cell_type": "markdown",
   "metadata": {},
   "source": [
    "### Perbedaan Parameter dan Argument\n",
    "Istilah parameter dan argumen merujuk pada hal yang sama: menyampaikan informasi ke sebuah fungsi. Namun, terdapat perbedaan halus antara keduanya."
   ]
  },
  {
   "cell_type": "markdown",
   "metadata": {},
   "source": [
    "#### Parameter\n",
    "Ini adalah variabel yang didefinisikan di dalam tanda kurung pada sebuah fungsi. Parameter berfungsi sebagai tempat penyimpanan untuk nilai yang akan diterima oleh fungsi saat dipanggil.\n",
    "\n"
   ]
  },
  {
   "cell_type": "code",
   "execution_count": null,
   "metadata": {},
   "outputs": [],
   "source": [
    "def tambah(a, b):  # \"a\" dan \"b\" adalah parameter\n",
    "    return a + b"
   ]
  },
  {
   "cell_type": "markdown",
   "metadata": {},
   "source": [
    "#### Argumen\n",
    "Ini adalah nilai yang diteruskan ke fungsi saat fungsi tersebut dipanggil. Argumen adalah data aktual yang digunakan dalam fungsi dan diassign ke parameter."
   ]
  },
  {
   "cell_type": "code",
   "execution_count": null,
   "metadata": {},
   "outputs": [],
   "source": [
    "hasil = tambah(7, 2)  # 7 dan 2 adalah argumen"
   ]
  },
  {
   "cell_type": "markdown",
   "metadata": {},
   "source": [
    "## Fungsi Rekursi\n",
    "\n",
    "Fungsi rekursi adalah fungsi yang memanggil dirinya sendiri untuk menyelesaikan suatu masalah. Rekursi digunakan untuk memecahkan masalah yang dapat dibagi menjadi sub-masalah yang lebih kecil. Dalam implementasinya, fungsi rekursi biasanya memiliki dua komponen utama: kasus dasar (base case) dan pemanggilan rekursif.\n",
    "\n",
    "#### Komponen Fungsi Rekursi\n",
    "- Kasus Dasar (Base Case): Ini adalah kondisi di mana fungsi berhenti memanggil dirinya sendiri. Kasus dasar mencegah terjadinya loop tak terhingga.\n",
    "- Pemanggilan Rekursif: Ini adalah bagian dari fungsi di mana fungsi memanggil dirinya sendiri dengan argumen yang dimodifikasi, biasanya mendekati kasus dasar."
   ]
  },
  {
   "cell_type": "code",
   "execution_count": null,
   "metadata": {},
   "outputs": [],
   "source": [
    "def factorial(n):\n",
    "    \"\"\"Mengembalikan faktorial dari n.\"\"\"\n",
    "    # Kasus dasar\n",
    "    if n == 0 or n == 1:\n",
    "        return 1\n",
    "    else:\n",
    "        # Pemanggilan rekursif\n",
    "        return n * factorial(n - 1)\n",
    "\n",
    "# Memanggil fungsi untuk menghitung faktorial\n",
    "print(factorial(5))  # Output: 120"
   ]
  },
  {
   "cell_type": "markdown",
   "metadata": {},
   "source": [
    "## Anonymous/Lambda Function\n",
    "\n",
    "Di Python, fungsi anonim adalah fungsi yang didefinisikan tanpa nama.\n",
    "\n",
    "Sementara fungsi biasa didefinisikan menggunakan kata kunci def, fungsi anonim didefinisikan menggunakan kata kunci lambda. Oleh karena itu, fungsi anonim juga dikenal sebagai fungsi lambda.\n",
    "\n",
    "Sintaks dasar untuk mendefinisikan fungsi lambda yaitu :\n",
    "```\n",
    "lambda argumen: ekspresi\n",
    "```"
   ]
  },
  {
   "cell_type": "code",
   "execution_count": null,
   "metadata": {},
   "outputs": [],
   "source": [
    "# Fungsi lambda untuk menjumlahkan dua angka\n",
    "jumlah = lambda x, y: x + y\n",
    "\n",
    "# Memanggil fungsi lambda\n",
    "print(jumlah(5, 3))  # Output: 8"
   ]
  },
  {
   "cell_type": "markdown",
   "metadata": {},
   "source": [
    "##  Global , Local and Nonlocal variables \n",
    "\n",
    "Di Python, variabel yang dideklarasikan di luar fungsi atau dalam cakupan global dikenal sebagai variabel global. Ini berarti bahwa variabel global dapat diakses di dalam atau di luar fungsi."
   ]
  },
  {
   "cell_type": "code",
   "execution_count": 2,
   "metadata": {},
   "outputs": [
    {
     "name": "stdout",
     "output_type": "stream",
     "text": [
      "Halo, Mahdy! Selamat datang.\n",
      "Nama di luar fungsi: Mahdy\n"
     ]
    }
   ],
   "source": [
    "# Mendeklarasikan variabel global\n",
    "nama = \"Mahdy\"  # Ini adalah variabel global\n",
    "\n",
    "def sapa():\n",
    "    \"\"\"Fungsi untuk menyapa pengguna menggunakan variabel global.\"\"\"\n",
    "    print(\"Halo, \" + nama + \"! Selamat datang.\")\n",
    "\n",
    "# Memanggil fungsi\n",
    "sapa()  # Output: Halo, Mahdy! Selamat datang.\n",
    "\n",
    "# Mengakses variabel global di luar fungsi\n",
    "print(\"Nama di luar fungsi:\", nama)  # Output: Nama di luar fungsi: Mahdy\n"
   ]
  },
  {
   "cell_type": "markdown",
   "metadata": {},
   "source": [
    "Pada kode diatas, kita membuat variable `nama` sebagai global variable dan mendefinisikan fungsi `sapa()` yang akan mencetak nama\n",
    "\n",
    "Terus apa yang terjadi jika kita mengubah `nama` yang ada didalam fungsi?"
   ]
  },
  {
   "cell_type": "code",
   "execution_count": 5,
   "metadata": {},
   "outputs": [
    {
     "ename": "UnboundLocalError",
     "evalue": "cannot access local variable 'nama' where it is not associated with a value",
     "output_type": "error",
     "traceback": [
      "\u001b[1;31m---------------------------------------------------------------------------\u001b[0m",
      "\u001b[1;31mUnboundLocalError\u001b[0m                         Traceback (most recent call last)",
      "Cell \u001b[1;32mIn[5], line 9\u001b[0m\n\u001b[0;32m      6\u001b[0m     \u001b[38;5;28mprint\u001b[39m(\u001b[38;5;124m\"\u001b[39m\u001b[38;5;124mHalo, \u001b[39m\u001b[38;5;124m\"\u001b[39m \u001b[38;5;241m+\u001b[39m nama \u001b[38;5;241m+\u001b[39m \u001b[38;5;124m\"\u001b[39m\u001b[38;5;124m! Selamat datang.\u001b[39m\u001b[38;5;124m\"\u001b[39m)\n\u001b[0;32m      8\u001b[0m \u001b[38;5;66;03m# Memanggil fungsi\u001b[39;00m\n\u001b[1;32m----> 9\u001b[0m sapa()\n",
      "Cell \u001b[1;32mIn[5], line 5\u001b[0m, in \u001b[0;36msapa\u001b[1;34m()\u001b[0m\n\u001b[0;32m      3\u001b[0m \u001b[38;5;28;01mdef\u001b[39;00m \u001b[38;5;21msapa\u001b[39m():\n\u001b[0;32m      4\u001b[0m \u001b[38;5;250m    \u001b[39m\u001b[38;5;124;03m\"\"\"Mengakses variabel lokal dengan nama yang sama.\"\"\"\u001b[39;00m\n\u001b[1;32m----> 5\u001b[0m     nama \u001b[38;5;241m=\u001b[39m nama \u001b[38;5;241m+\u001b[39m \u001b[38;5;124m\"\u001b[39m\u001b[38;5;124mAl Akbar\u001b[39m\u001b[38;5;124m\"\u001b[39m\n\u001b[0;32m      6\u001b[0m     \u001b[38;5;28mprint\u001b[39m(\u001b[38;5;124m\"\u001b[39m\u001b[38;5;124mHalo, \u001b[39m\u001b[38;5;124m\"\u001b[39m \u001b[38;5;241m+\u001b[39m nama \u001b[38;5;241m+\u001b[39m \u001b[38;5;124m\"\u001b[39m\u001b[38;5;124m! Selamat datang.\u001b[39m\u001b[38;5;124m\"\u001b[39m)\n",
      "\u001b[1;31mUnboundLocalError\u001b[0m: cannot access local variable 'nama' where it is not associated with a value"
     ]
    }
   ],
   "source": [
    "nama = \"Mahdy\"  # Ini adalah variabel global\n",
    "\n",
    "def sapa():\n",
    "    \"\"\"Mengakses variabel lokal dengan nama yang sama.\"\"\"\n",
    "    nama = nama + \"Al Akbar\"\n",
    "    print(\"Halo, \" + nama + \"! Selamat datang.\")\n",
    "\n",
    "# Memanggil fungsi\n",
    "sapa()  # Output: Halo, Rahman! Selamat datang.\n"
   ]
  },
  {
   "cell_type": "markdown",
   "metadata": {},
   "source": [
    "Ketika kita mencoba mengakses atau mengubah variabel global di dalam fungsi tanpa mendeklarasikannya sebagai global, Python akan memperlakukannya sebagai variabel lokal. Jika variabel tersebut belum didefinisikan di dalam fungsi, kita akan mendapatkan kesalahan. Untuk mengatasi hal ini, kita dapat menggunakan kata kunci global"
   ]
  },
  {
   "cell_type": "markdown",
   "metadata": {},
   "source": [
    "### Keyword `global`\n",
    "Di Python, kata kunci `global` memungkinkan kita untuk memodifikasi variabel yang dideklarasikan di luar cakupan saat ini. Ini digunakan untuk membuat variabel `global` dan melakukan perubahan pada variabel tersebut dalam konteks lokal.\n",
    "\n",
    "#### Aturan Keyword `global`\n",
    "Berikut adalah aturan dasar untuk menggunakan kata kunci `global` di Python:\n",
    "- Variabel Lokal: Ketika kita membuat variabel di dalam fungsi, - variabel tersebut bersifat lokal secara default.\n",
    "- Variabel Global: Ketika kita mendefinisikan variabel di luar fungsi, variabel tersebut bersifat global secara default. kita tidak perlu menggunakan kata kunci `global`.\n",
    "- Menggunakan Kata Kunci global: Kita menggunakan kata kunci `global` untuk membaca dan menulis variabel `global` di dalam fungsi.\n",
    "- Penggunaan `global` di Luar Fungsi: Menggunakan kata kunci `global` di luar fungsi tidak memiliki efek."
   ]
  },
  {
   "cell_type": "code",
   "execution_count": null,
   "metadata": {},
   "outputs": [],
   "source": [
    "c = 0 # global variable\n",
    "\n",
    "def add():\n",
    "    global c\n",
    "    c = c + 2 # increment by 2\n",
    "    print(\"Inside add():\", c)\n",
    "\n",
    "add()\n",
    "print(\"In main:\", c)"
   ]
  },
  {
   "cell_type": "markdown",
   "metadata": {},
   "source": [
    "### Local Variable\n",
    "\n",
    "Variabel yang dideklarasikan di dalam tubuh fungsi atau dalam cakupan lokal dikenal sebagai variabel lokal. Variabel lokal hanya dapat diakses di dalam fungsi tempat ia dideklarasikan, dan tidak dapat diakses di luar fungsi tersebut."
   ]
  },
  {
   "cell_type": "code",
   "execution_count": 6,
   "metadata": {},
   "outputs": [
    {
     "name": "stdout",
     "output_type": "stream",
     "text": [
      "Saya adalah variabel lokal\n"
     ]
    },
    {
     "ename": "NameError",
     "evalue": "name 'lokal_var' is not defined",
     "output_type": "error",
     "traceback": [
      "\u001b[1;31m---------------------------------------------------------------------------\u001b[0m",
      "\u001b[1;31mNameError\u001b[0m                                 Traceback (most recent call last)",
      "Cell \u001b[1;32mIn[6], line 10\u001b[0m\n\u001b[0;32m      7\u001b[0m contoh_fungsi()\n\u001b[0;32m      9\u001b[0m \u001b[38;5;66;03m# Mencoba mengakses variabel lokal di luar fungsi\u001b[39;00m\n\u001b[1;32m---> 10\u001b[0m \u001b[38;5;28mprint\u001b[39m(lokal_var)\n",
      "\u001b[1;31mNameError\u001b[0m: name 'lokal_var' is not defined"
     ]
    }
   ],
   "source": [
    "def contoh_fungsi():\n",
    "    \"\"\"Mendeklarasikan variabel lokal.\"\"\"\n",
    "    lokal_var = \"Saya adalah variabel lokal\"\n",
    "    print(lokal_var)  # Mencetak variabel lokal di dalam fungsi\n",
    "\n",
    "# Memanggil fungsi\n",
    "contoh_fungsi()\n",
    "\n",
    "# Mencoba mengakses variabel lokal di luar fungsi\n",
    "print(lokal_var)  # Ini akan menghasilkan kesalahan"
   ]
  },
  {
   "cell_type": "markdown",
   "metadata": {},
   "source": [
    "### Nonlocal Variables\n",
    "Variabel nonlocal digunakan dalam fungsi bersarang (nested functions) di mana cakupan lokalnya tidak didefinisikan. Ini berarti bahwa variabel tersebut tidak berada dalam cakupan lokal maupun global. Kata kunci nonlocal digunakan untuk mendeklarasikan variabel nonlocal dalam fungsi bersarang."
   ]
  },
  {
   "cell_type": "code",
   "execution_count": 7,
   "metadata": {},
   "outputs": [
    {
     "name": "stdout",
     "output_type": "stream",
     "text": [
      "Nilai x di dalam fungsi_bersarang: 15\n",
      "Nilai x di dalam fungsi_utama setelah pemanggilan: 15\n"
     ]
    }
   ],
   "source": [
    "def fungsi_utama():\n",
    "    \"\"\"Fungsi utama yang mendeklarasikan variabel nonlocal.\"\"\"\n",
    "    x = 10  # Variabel lokal di fungsi_utama\n",
    "\n",
    "    def fungsi_bersarang():\n",
    "        nonlocal x  # Menandakan bahwa kita menggunakan variabel nonlocal x\n",
    "        x += 5  # Mengubah nilai variabel x di fungsi_utama\n",
    "        print(\"Nilai x di dalam fungsi_bersarang:\", x)\n",
    "\n",
    "    fungsi_bersarang()  # Memanggil fungsi bersarang\n",
    "    print(\"Nilai x di dalam fungsi_utama setelah pemanggilan:\", x)\n",
    "\n",
    "# Memanggil fungsi utama\n",
    "fungsi_utama()"
   ]
  }
 ],
 "metadata": {
  "kernelspec": {
   "display_name": "analytics",
   "language": "python",
   "name": "python3"
  },
  "language_info": {
   "codemirror_mode": {
    "name": "ipython",
    "version": 3
   },
   "file_extension": ".py",
   "mimetype": "text/x-python",
   "name": "python",
   "nbconvert_exporter": "python",
   "pygments_lexer": "ipython3",
   "version": "3.11.8"
  }
 },
 "nbformat": 4,
 "nbformat_minor": 2
}
