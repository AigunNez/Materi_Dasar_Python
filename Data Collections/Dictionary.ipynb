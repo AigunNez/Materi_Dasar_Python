{
 "cells": [
  {
   "cell_type": "markdown",
   "metadata": {},
   "source": [
    "# Dictionary\n",
    "\n",
    "Dictionary adalah tipe data collection yang tidak terurut dari nilai unik yang disimpan dalam pasangan (key dan value). Dictionary Python mewakili pemetaan antara key dan value. Dengan kata sederhana, dictionary Python dapat menyimpan pasangan key dan value. Setiap key terhubung ke value tertentu. Setelah disimpan dalam dictionary, kita dapat memperoleh value tersebut hanya dengan menggunakan kuncinya."
   ]
  },
  {
   "cell_type": "markdown",
   "metadata": {},
   "source": [
    "<img src=\"img/dictionary.jpeg\">"
   ]
  },
  {
   "cell_type": "markdown",
   "metadata": {},
   "source": [
    "## Karakteristik Dictionary\n",
    "- <strong>Tidak Terurut (Unordered)</strong>: Item dalam dictionary disimpan tanpa nilai indeks, yang biasanya berupa rentang angka. Mereka disimpan sebagai pasangan key-value, di mana key berfungsi sebagai indeks dan tidak memiliki urutan tertentu.\n",
    "\n",
    "- <strong>Unik (Unique)</strong>: Setiap nilai memiliki key; key dalam dictionary harus unik. Jika kita menyimpan nilai dengan key yang sudah ada, maka nilai terbaru akan menggantikan nilai yang lama.\n",
    "\n",
    "- <strong>Mutable (Dapat Diubah)</strong>: dictionary adalah koleksi yang dapat diubah, yang berarti kita dapat menambah atau menghapus item setelah dibuat."
   ]
  },
  {
   "cell_type": "markdown",
   "metadata": {},
   "source": [
    "## Membuat Dictionary\n",
    "Ada cara untuk membuat dictionary dalam Python:\n",
    "- <strong>Menggunakan Kurung Kurawal `{ }`</strong>\n",
    "- <strong>Menggunakan Konstruktor `dict()`</strong>"
   ]
  },
  {
   "cell_type": "markdown",
   "metadata": {},
   "source": [
    "### Menggunakan Kurung Kurawal `{ }`\n",
    "Dictionary dibuat dengan memasukkan pasangan Key: Value yang dipisahkan koma di dalam kurung kurawal `{ }`. Tanda titik dua : digunakan untuk memisahkan key dan value dalam pasangan."
   ]
  },
  {
   "cell_type": "code",
   "execution_count": 2,
   "metadata": {},
   "outputs": [
    {
     "name": "stdout",
     "output_type": "stream",
     "text": [
      "{'Name': 'Mahdy', 'Country': 'Indonesia', 'Telephone': 62822}\n",
      "<class 'dict'>\n"
     ]
    }
   ],
   "source": [
    "person = {\n",
    "    \"Name\": \"Mahdy\", \n",
    "    \"Country\": \"Indonesia\", \n",
    "    \"Telephone\": 62822\n",
    "}\n",
    "print(person)  # Output: {'Name': 'Mahdy', 'Country': 'Indonesia', 'Telephone': 62822}\n",
    "print(type(person))  # Output: <class 'dict'>"
   ]
  },
  {
   "cell_type": "markdown",
   "metadata": {},
   "source": [
    "### Menggunakan Konstruktor `dict()`\n",
    "Dictionary dapat dibuat dengan memanggil konstruktor `dict()` dan memberikan pasangan Key: Item di dalam tanda kurung."
   ]
  },
  {
   "cell_type": "code",
   "execution_count": 4,
   "metadata": {},
   "outputs": [
    {
     "name": "stdout",
     "output_type": "stream",
     "text": [
      "{'Name': 'Mahdy', 'Country': 'Indonesia', 'Telephone': 62822}\n",
      "<class 'dict'>\n"
     ]
    }
   ],
   "source": [
    "person = dict({\"Name\": \"Mahdy\", \"Country\": \"Indonesia\", \"Telephone\": 62822})\n",
    "print(person)  # Output: {'Name': 'Mahdy', 'Country': 'Indonesia', 'Telephone': 62822}\n",
    "print(type(person))  # Output: <class 'dict'>"
   ]
  },
  {
   "cell_type": "markdown",
   "metadata": {},
   "source": [
    "## Dictionary Kosong (Empty Dictionary)\n",
    "Ketkia kita membuat dictionary tanpa ada elemen di dalam kurung kurawal, maka kita akan mendapatkan dictionary kosong."
   ]
  },
  {
   "cell_type": "code",
   "execution_count": 5,
   "metadata": {},
   "outputs": [
    {
     "name": "stdout",
     "output_type": "stream",
     "text": [
      "<class 'dict'>\n"
     ]
    }
   ],
   "source": [
    "# Membuat kamus kosong\n",
    "emptydict = {}\n",
    "print(type(emptydict))  # Output: <class 'dict'>\n"
   ]
  },
  {
   "cell_type": "markdown",
   "metadata": {},
   "source": [
    "## Mengakses Elemen dalam Kamus\n",
    "Ada dua cara untuk mengakses elemen dalam dictionary di Python:\n",
    "- <strong>Mengambil Value Menggunakan Nama Key</strong>: Kita dapat mengakses value dengan menggunakan nama key di dalam kurung siku `[ ]`.\n",
    "- <strong>Mengambil Value dengan Menggunakan Metode `get()`</strong>: Kita dapat mendapatkan value dengan mengirimkan nama key sebagai parameter ke metode `get()` dari dictionary.\n"
   ]
  },
  {
   "cell_type": "code",
   "execution_count": 7,
   "metadata": {},
   "outputs": [
    {
     "name": "stdout",
     "output_type": "stream",
     "text": [
      "Mahdy\n",
      "62822\n"
     ]
    }
   ],
   "source": [
    "# Membuat kamus bernama person\n",
    "person = {\"Name\": \"Mahdy\", \"Country\": \"Indonesia\", \"Telephone\": 62822}\n",
    "\n",
    "\n",
    "print(person['Name'])  # Output: Mahdy\n",
    "\n",
    "\n",
    "print(person.get('Telephone'))  # Output: 62822\n"
   ]
  },
  {
   "cell_type": "markdown",
   "metadata": {},
   "source": [
    "## Mengambil Semua Key dan Valuee dari Dictionary\n",
    "Kita dapat menggunakan beberapa metode dictionary untuk mengambil semua key dan value sekaligus. Berikut adalah penjelasan mengenai metode yang dapat digunakan untuk tujuan ini:\n",
    "- <strong>`keys()`</strong> : Mengembalikan daftar semua kunci yang ada dalam kamus.\n",
    "- <strong>`values()`</strong> : Mengembalikan daftar semua nilai yang ada dalam kamus.\n",
    "- <strong>`items()`</strong> : Mengembalikan semua item yang ada dalam kamus. Setiap item akan berada dalam bentuk tuple sebagai pasangan kunci-nilai."
   ]
  },
  {
   "cell_type": "code",
   "execution_count": 9,
   "metadata": {},
   "outputs": [
    {
     "name": "stdout",
     "output_type": "stream",
     "text": [
      "dict_keys(['name', 'country', 'telephone'])\n",
      "<class 'dict_keys'>\n",
      "dict_values(['Mahdy', 'Indonesia', 1178])\n",
      "<class 'dict_values'>\n",
      "dict_items([('name', 'Mahdy'), ('country', 'Indonesia'), ('telephone', 1178)])\n",
      "<class 'dict_items'>\n"
     ]
    }
   ],
   "source": [
    "# Membuat kamus bernama person\n",
    "person = {\"name\": \"Mahdy\", \"country\": \"Indonesia\", \"telephone\": 1178}\n",
    "\n",
    "# Mengambil semua kunci\n",
    "print(person.keys())  # Output: dict_keys(['name', 'country', 'telephone'])\n",
    "print(type(person.keys()))  # Output: <class 'dict_keys'>\n",
    "\n",
    "# Mengambil semua nilai\n",
    "print(person.values())  # Output: dict_values(['Mahdy', 'Indonesia', 1178])\n",
    "print(type(person.values()))  # Output: <class 'dict_values'>\n",
    "\n",
    "# Mengambil semua pasangan kunci-nilai\n",
    "print(person.items())  # Output: dict_items([('name', 'Mahdy'), ('country', 'Indonesia'), ('telephone', 1178)])\n",
    "print(type(person.items()))  # Output: <class 'dict_items'>\n"
   ]
  },
  {
   "cell_type": "markdown",
   "metadata": {},
   "source": [
    "## Iterating Dictionary\n",
    "Kita dapat mengiterasi melalui sebuah kamus menggunakan loop for dan mengakses kunci individual serta nilai yang sesuai. Ada dua cara untuk melakukan ini:\n",
    "- Mengiterasi hanya key\n",
    "- Menggunakan metode `items()` untuk mendapatkan pasangan key-value."
   ]
  },
  {
   "cell_type": "code",
   "execution_count": 11,
   "metadata": {},
   "outputs": [
    {
     "name": "stdout",
     "output_type": "stream",
     "text": [
      "key : value\n",
      "name : Mahdy\n",
      "country : Indonesia\n",
      "telephone : 1178\n",
      "\n",
      "\n",
      "key : value\n",
      "name Mahdy\n",
      "country Indonesia\n",
      "telephone 1178\n"
     ]
    }
   ],
   "source": [
    "# Membuat kamus bernama person\n",
    "person = {\"name\": \"Mahdy\", \"country\": \"Indonesia\", \"telephone\": 1178}\n",
    "\n",
    "# Mengiterasi kamus menggunakan for-loop\n",
    "print('key', ':', 'value')\n",
    "for key in person:\n",
    "    print(key, ':', person[key])\n",
    "\n",
    "print(\"\\n\")\n",
    "\n",
    "# Menggunakan metode items() untuk iterasi\n",
    "print('key', ':', 'value')\n",
    "for key_value in person.items():\n",
    "    # key_value[0] adalah kunci, dan key_value[1] adalah nilai\n",
    "    print(key_value[0], key_value[1])"
   ]
  },
  {
   "cell_type": "markdown",
   "metadata": {},
   "source": [
    "Dalam loop pertama, kita hanya mengiterasi key dari dictionary person. Dengan `for key in person`, kita dapat mengakses setiap key, dan untuk mendapatkan value terkait, kita menggunakan `person[key]`\n",
    "\n",
    "Pada loop kedua, kita menggunakan metode `items()` yang mengembalikan setiap pasangan key-value sebagai tuple. Di sini, `key_value[0]` adalah key dan `key_value[1]` adalah value. Ini membuatnya lebih mudah untuk mengakses pasangan key-value secara bersamaan."
   ]
  },
  {
   "cell_type": "markdown",
   "metadata": {},
   "source": [
    "## Menemukan Panjang Dictionary\n",
    "Untuk mengetahui jumlah item dalam sebuah dictionary, kita dapat menggunakan fungsi `len()`. Fungsi ini akan mengembalikan jumlah key (dan value) yang ada dalam dictionary."
   ]
  },
  {
   "cell_type": "code",
   "execution_count": 12,
   "metadata": {},
   "outputs": [
    {
     "name": "stdout",
     "output_type": "stream",
     "text": [
      "3\n"
     ]
    }
   ],
   "source": [
    "# Membuat kamus bernama person\n",
    "person = {\"name\": \"Mahdy\", \"country\": \"Indonesia\", \"telephone\": 1178}\n",
    "\n",
    "# Menghitung jumlah kunci dalam kamus\n",
    "print(len(person))  # Output: 3"
   ]
  },
  {
   "cell_type": "markdown",
   "metadata": {},
   "source": [
    "## Menetapkan Nilai Default ke Key pada Dictionary\n",
    "\n",
    "Dengan menggunakan metode `setdefault()`, kita dapat menetapkan bukau default untuk sebuah key dalam dictionary. Jika key tersebut tidak ada, maka key akan ditambahkan ke dalam dictionary dengan value default yang ditentukan. Jika tidak ada value yang disebutkan, `None` akan menjadi nilai default.\n",
    "\n",
    "Jika key sudah ada, metode ini akan mengembalikan nilai dari key tersebut tanpa mengubahnya."
   ]
  },
  {
   "cell_type": "code",
   "execution_count": 13,
   "metadata": {},
   "outputs": [
    {
     "name": "stdout",
     "output_type": "stream",
     "text": [
      "name : Mahdy\n",
      "country : Indonesia\n",
      "telephone : 1178\n",
      "state : Singapore\n",
      "zip : None\n"
     ]
    }
   ],
   "source": [
    "# Membuat kamus bernama person_details\n",
    "person_details = {\"name\": \"Mahdy\", \"country\": \"Indonesia\", \"telephone\": 1178}\n",
    "\n",
    "# Menetapkan nilai default jika kunci tidak ada\n",
    "person_details.setdefault('state', 'Singapore')\n",
    "\n",
    "# Kunci tidak ada dan nilai tidak disebutkan. Defaultnya None\n",
    "person_details.setdefault(\"zip\")\n",
    "\n",
    "# Kunci sudah ada dan nilai disebutkan. Tidak mengubah nilai\n",
    "person_details.setdefault('country', 'Canada')\n",
    "\n",
    "# Menampilkan kamus\n",
    "for key, value in person_details.items():\n",
    "    print(key, ':', value)\n"
   ]
  },
  {
   "cell_type": "markdown",
   "metadata": {},
   "source": [
    "Dalam contoh di atas, kita mulai dengan dictionary `person_details` yang memiliki beberapa informasi. Ketika kita menggunakan `setdefault('state', 'Texas')`, key `state` ditambahkan dengan nilai `Texas` karena key tersebut tidak ada dalam dictionary sebelumnya. Pada pemanggilan `setdefault(\"zip\")`, key `zip` ditambahkan ke dictionary dengan nilai default `None` karena tidak ada nilai yang diberikan. Ketika kita menggunakan `setdefault('country', 'Canada')`, karena key `country` sudah ada, nilai tetap `Indonesia` dan tidak ada perubahan yang terjadi."
   ]
  },
  {
   "cell_type": "markdown",
   "metadata": {},
   "source": [
    "## Memodifikasi Nilai Key dalam Dictionary\n",
    "Kita dapat memodifikasi nilai dari key yang sudah ada dalam Dictionary dengan dua cara berikut:\n",
    "- Menggunakan Nama Key: Kita dapat langsung menetapkan nilai baru dengan menggunakan nama key yang ada.\n",
    "- Menggunakan Metode `update()`: Kita dapat menggunakan metode `update()` dengan memberikan pasangan key-value untuk mengubah nilai."
   ]
  },
  {
   "cell_type": "code",
   "execution_count": 15,
   "metadata": {},
   "outputs": [
    {
     "name": "stdout",
     "output_type": "stream",
     "text": [
      "Singapore\n",
      "Malaysia\n"
     ]
    }
   ],
   "source": [
    "# Membuat kamus bernama person\n",
    "person = {\"name\": \"Mahdy\", \"country\": \"Indonesia\"}\n",
    "\n",
    "# Memperbarui nama negara\n",
    "person[\"country\"] = \"Singapore\"\n",
    "# Menampilkan negara yang diperbarui\n",
    "print(person['country'])  # Output: Singapore\n",
    "\n",
    "# Memperbarui nama negara menggunakan metode update()\n",
    "person.update({\"country\": \"Malaysia\"})\n",
    "# Menampilkan negara yang diperbarui\n",
    "print(person['country'])  # Output: Malaysia"
   ]
  },
  {
   "cell_type": "markdown",
   "metadata": {},
   "source": [
    "Dalam contoh di atas, kita mulai dengan dictionary person yang memiliki dua key: `name` dan `country`. Pertama, kita memperbarui nilai dari key `country` menjadi `Indonesia` dengan cara langsung menetapkan nilai baru menggunakan person[\"country\"] = \"Indonesia\". Kemudian, kita mencetak nilai yang diperbarui. Selanjutnya, kita menggunakan metode update() untuk mengubah nilai key `country` menjadi `Malaysia`. Metode ini memudahkan kita untuk memperbarui nilai dengan memberikan pasangan key-value."
   ]
  },
  {
   "cell_type": "markdown",
   "metadata": {},
   "source": [
    "## Menghapus Item dari Dictionary\n",
    "Ada beberapa metode untuk menghapus item dari dictionary. Baik itu untuk menghapus item tunggal, item terakhir yang dimasukkan, atau bahkan untuk menghapus seluruh dictionary, Anda dapat memilih metode yang sesuai.\n",
    "\n",
    "\n",
    "|Metode|Deskripsi|\n",
    "|---|---|\n",
    "|pop(key[,d])|Mengembalikan dan menghapus item dengan kunci yangdiberikan dan mengembalikan nilainya. Jika kunci tidak ditemukan, akan menghasilkan KeyError.|\n",
    "|popitem()|Mengembalikan dan menghapus item terakhir yang dimasukkan ke dalam dictionary. Jika dictionary kosong, akan menghasilkan KeyError.|\n",
    "|del key|Keyword del akan menghapus item dengan kunci yang diberikan.|\n",
    "|clear()|Menghapus semua item dari dictionary. Kamus menjadi kosong.|\n",
    "|del dict_name|Menghapus seluruh dictionary.|\n"
   ]
  },
  {
   "cell_type": "code",
   "execution_count": 16,
   "metadata": {},
   "outputs": [
    {
     "name": "stdout",
     "output_type": "stream",
     "text": [
      "('height', 6)\n",
      "{'name': 'Mahdy', 'country': 'Indonesia', 'telephone': 2834, 'weight': 58}\n",
      "2834\n",
      "{'name': 'Mahdy', 'country': 'Indonesia', 'weight': 58}\n",
      "{'name': 'Mahdy', 'country': 'Indonesia'}\n",
      "{}\n"
     ]
    }
   ],
   "source": [
    "# Membuat kamus bernama person\n",
    "person = {'name': 'Mahdy', 'country': 'Indonesia', 'telephone': 2834, 'weight': 58, 'height': 6}\n",
    "\n",
    "# Menghapus item terakhir yang dimasukkan dari kamus\n",
    "deleted_item = person.popitem()\n",
    "print(deleted_item)  # Output: ('height', 6)\n",
    "# Menampilkan kamus yang diperbarui\n",
    "print(person)  # Output: {'name': 'Mahdy', 'country': 'Indonesia', 'telephone': 2834, 'weight': 58}\n",
    "\n",
    "# Menghapus kunci 'telephone' dari kamus\n",
    "deleted_item = person.pop('telephone')\n",
    "print(deleted_item)  # Output: 2834\n",
    "# Menampilkan kamus yang diperbarui\n",
    "print(person)  # Output: {'name': 'Mahdy', 'country': 'Indonesia', 'weight': 58}\n",
    "\n",
    "# Menghapus kunci 'weight'\n",
    "del person['weight']\n",
    "# Menampilkan kamus yang diperbarui\n",
    "print(person)  # Output: {'name': 'Mahdy', 'country': 'Indonesia'}\n",
    "\n",
    "# Menghapus semua item (kunci-nilai) dari kamus\n",
    "person.clear()\n",
    "# Menampilkan kamus yang diperbarui\n",
    "print(person)  # Output: {}\n",
    "\n",
    "# Menghapus seluruh kamus\n",
    "del person"
   ]
  },
  {
   "cell_type": "markdown",
   "metadata": {},
   "source": [
    "## Memeriksa Keberadaan Kunci dalam Dictionary\n",
    "Untuk memeriksa apakah kunci tertentu ada dalam sebuah kamus, kita dapat menggunakan metode keys() dan operator in. Dengan cara ini, kita dapat memeriksa apakah kunci tersebut ada dalam daftar kunci yang dikembalikan oleh metode keys()."
   ]
  },
  {
   "cell_type": "code",
   "execution_count": 17,
   "metadata": {},
   "outputs": [
    {
     "name": "stdout",
     "output_type": "stream",
     "text": [
      "country name is Indonesia\n"
     ]
    }
   ],
   "source": [
    "# Membuat kamus bernama person\n",
    "person = {'name': 'Mahdy', 'country': 'Indonesia', 'telephone': 628234, 'weight': 50, 'height': 6}\n",
    "\n",
    "# Mendapatkan daftar kunci dan memeriksa apakah kunci 'country' ada\n",
    "key_name = 'country'\n",
    "if key_name in person.keys():\n",
    "    print(\"country name is\", person[key_name])\n",
    "else:\n",
    "    print(\"Key not found\")\n"
   ]
  },
  {
   "cell_type": "markdown",
   "metadata": {},
   "source": [
    "## Menggabungkan Dua Dictionary\n",
    "Kita dapat menambahkan dua dictionary menggunakan metode update() atau dengan menggunakan operator unpacking **"
   ]
  },
  {
   "cell_type": "markdown",
   "metadata": {},
   "source": [
    "### Menggunakan Metode `update()`\n",
    "Metode ini memungkinkan kita untuk menyalin dictionary kedua ke dalam dictionary pertama. Jika ada key yang sama, nilai pada dictionary pertama akan diperbarui dengan nilai dari dictionary kedua."
   ]
  },
  {
   "cell_type": "code",
   "execution_count": 19,
   "metadata": {},
   "outputs": [
    {
     "name": "stdout",
     "output_type": "stream",
     "text": [
      "{'Mahdy': 25, 'Arun': 80, 'Meena': 55, 'Kelvin': 68, 'Harry': 50, 'Om': 66}\n"
     ]
    }
   ],
   "source": [
    "dict1 = {'Mahdy': 25, 'Arun': 80, 'Meena': 55}\n",
    "dict2 = {'Kelvin': 68, 'Harry': 50, 'Om': 66}\n",
    "\n",
    "# Menyalin kamus kedua ke dalam kamus pertama\n",
    "dict1.update(dict2)\n",
    "\n",
    "# Menampilkan kamus yang diperbarui\n",
    "print(dict1)  \n",
    "# Output: {'Mahdy': 25, 'Arun': 80, 'Meena': 55, 'Kelvin': 68, 'Harry': 50, 'Om': 66}\n"
   ]
  },
  {
   "cell_type": "markdown",
   "metadata": {},
   "source": [
    "### Menggunakan Unpacking `**kwargs`\n",
    "Kita juga dapat menggabungkan beberapa dictionary dengan menggunakan operator unpacking `**`. Ini memungkinkan kita untuk menambahkan beberapa dictionary sekaligus ke dalam satu dictionary dalam satu pernyataan."
   ]
  },
  {
   "cell_type": "code",
   "execution_count": 20,
   "metadata": {},
   "outputs": [
    {
     "name": "stdout",
     "output_type": "stream",
     "text": [
      "{'Mahdy': 1, 'Arun': 2, 'Farhan': 5, 'Om': 6, 'Nancy': 7, 'Priya': 9}\n"
     ]
    }
   ],
   "source": [
    "student_dict1 = {'Mahdy': 1, 'Arun': 2}\n",
    "student_dict2 = {'Farhan': 5, 'Om': 6}\n",
    "student_dict3 = {'Nancy': 7, 'Priya': 9}\n",
    "\n",
    "# Menggabungkan tiga kamus\n",
    "student_dict = {**student_dict1, **student_dict2, **student_dict3}\n",
    "\n",
    "# Menampilkan kamus gabungan\n",
    "print(student_dict)  \n",
    "# Output: {'Mahdy': 1, 'Arun': 2, 'Farhan': 5, 'Om': 6, 'Nancy': 7, 'Priya': 9}\n"
   ]
  },
  {
   "cell_type": "markdown",
   "metadata": {},
   "source": [
    "### Menambahkan Beberapa Dictionary ke dalam Dictionary Tunggal\n",
    "Dalam contoh berikut, kita akan membuat dictionary terpisah untuk setiap siswa, dan di akhir, kita akan menambahkan setiap siswa ke dalam dictionary class_six. Setiap siswa akan menjadi kunci dalam dictionary class_six."
   ]
  },
  {
   "cell_type": "code",
   "execution_count": 21,
   "metadata": {},
   "outputs": [
    {
     "name": "stdout",
     "output_type": "stream",
     "text": [
      "Student 3 name: Kevin\n",
      "Student 3 marks: Palangkaraya\n",
      "\n",
      "Class details\n",
      "\n",
      "student1\n",
      "Name : Mahdy\n",
      "State : Indonesia\n",
      "City : Surabaya\n",
      "\n",
      "\n",
      "student2\n",
      "Name : Gigih\n",
      "State : Indonesia\n",
      "City : Malang\n",
      "\n",
      "\n",
      "student3\n",
      "Name : Kevin\n",
      "State : Indoesia\n",
      "City : Palangkaraya\n",
      "\n",
      "\n"
     ]
    }
   ],
   "source": [
    "# Kamus untuk menyimpan data masing-masing siswa\n",
    "Mahdy = {'Name': 'Mahdy', 'State': 'Indonesia', 'City': 'Surabaya'}\n",
    "Gigih = {'Name': 'Gigih', 'State': 'Indonesia', 'City': 'Malang'}\n",
    "Kevin = {'Name': 'Kevin', 'State': 'Indoesia', 'City': 'Palangkaraya'}\n",
    "\n",
    "# Kamus luar untuk menyimpan semua kamus siswa (nested dictionaries)\n",
    "class_six = {'student1': Mahdy, 'student2': Gigih, 'student3': Kevin}\n",
    "\n",
    "# Mendapatkan nama dan nilai siswa3\n",
    "print(\"Student 3 name:\", class_six['student3']['Name'])  # Output: Kelvin\n",
    "print(\"Student 3 marks:\", class_six['student3']['City'])  # Output: 85\n",
    "\n",
    "# Mengiterasi kamus luar\n",
    "print(\"\\nClass details\\n\")\n",
    "for key, value in class_six.items():\n",
    "    # Mengiterasi melalui kamus nested\n",
    "    # Menampilkan data setiap siswa\n",
    "    print(key)\n",
    "    for nested_key, nested_value in value.items():\n",
    "        print(nested_key, ':', nested_value)\n",
    "    print('\\n')"
   ]
  },
  {
   "cell_type": "markdown",
   "metadata": {},
   "source": [
    "## Pemahaman Dictionary (Dictionary Comprehension)\n",
    "\n",
    "Pemahaman Dictionary adalah salah satu cara untuk membuat dictionary di Python, di mana nilai-nilai dari pasangan kunci-nilai dihasilkan dalam `loop for`, dan kita dapat menyaring item yang akan ditambahkan ke dalam dictionary dengan kondisi `if opsional`."
   ]
  },
  {
   "cell_type": "code",
   "execution_count": 22,
   "metadata": {},
   "outputs": [
    {
     "name": "stdout",
     "output_type": "stream",
     "text": [
      "{2: 4, 8: 64}\n"
     ]
    }
   ],
   "source": [
    "# Menghitung kuadrat dari setiap angka genap dari sebuah list dan menyimpannya dalam kamus\n",
    "numbers = [1, 3, 5, 2, 8]\n",
    "even_squares = {x: x ** 2 for x in numbers if x % 2 == 0}\n",
    "print(even_squares)  # Output: {2: 4, 8: 64}"
   ]
  },
  {
   "cell_type": "markdown",
   "metadata": {},
   "source": [
    "Dalam contoh di atas, kita memiliki daftar numbers. Dengan menggunakan pemahaman dictionary, kita membuat dictionary even_squares yang berisi angka genap dari daftar sebagai kunci dan kuadratnya sebagai nilai. Hanya angka yang memenuhi syarat (yaitu, angka genap) yang ditambahkan ke dalam dictionary, sehingga hasilnya adalah {2: 4, 8: 64}."
   ]
  },
  {
   "cell_type": "markdown",
   "metadata": {},
   "source": [
    "### Menggunakan Dua Iterables untuk Membuat Dictionary\n",
    "Kita juga dapat menggunakan dua iterable yang berbeda untuk kunci dan nilai dan menggabungkannya menggunakan zip() di dalam loop for untuk membuat dictionary."
   ]
  },
  {
   "cell_type": "code",
   "execution_count": null,
   "metadata": {},
   "outputs": [
    {
     "name": "stdout",
     "output_type": "stream",
     "text": [
      "{'Mahdy': 1178, 'Emma': 4020, 'Kelvin': 5786}\n"
     ]
    }
   ],
   "source": [
    "telephone_book = [1178, 4020, 5786]\n",
    "persons = ['Mahdy', 'Emma', 'Kelvin']\n",
    "\n",
    "# Membuat kamus buku telepons\n",
    "telephone_Directory = {key: value for key, value in zip(persons, telephone_book)}\n",
    "print(telephone_Directory)  # Output: {'Mahdy': 1178, 'Emma': 4020, 'Kelvin': 5786}\n"
   ]
  },
  {
   "cell_type": "markdown",
   "metadata": {},
   "source": [
    "Dalam contoh ini, kita memiliki dua daftar: persons yang berisi nama-nama dan telephone_book yang berisi nomor telepon. Dengan menggunakan zip(persons, telephone_book), kita menggabungkan dua daftar tersebut menjadi pasangan kunci-nilai, di mana setiap nama berfungsi sebagai kunci dan nomor telepon sebagai nilai. Hasilnya adalah kamus telephone_Directory yang menyimpan informasi buku telepon dengan format {'Mahdy': 1178, 'Emma': 4020, 'Kelvin': 5786}."
   ]
  }
 ],
 "metadata": {
  "kernelspec": {
   "display_name": "analytics",
   "language": "python",
   "name": "python3"
  },
  "language_info": {
   "codemirror_mode": {
    "name": "ipython",
    "version": 3
   },
   "file_extension": ".py",
   "mimetype": "text/x-python",
   "name": "python",
   "nbconvert_exporter": "python",
   "pygments_lexer": "ipython3",
   "version": "3.11.8"
  }
 },
 "nbformat": 4,
 "nbformat_minor": 2
}
