{
 "cells": [
  {
   "cell_type": "markdown",
   "metadata": {},
   "source": [
    "# Collections"
   ]
  },
  {
   "cell_type": "markdown",
   "metadata": {},
   "source": [
    "Data Collection atau pengumpulan data adalah prosees mengambil, mengumpulkan dan mengorganisasi data dari berbagai sumber untuk keperluan dan pemrosesan lebih lanjut, Dalam Python, terdapat beberapa collection bawaan yaitu Tuple, List, Dictionary, dan Set. Masing masing tipe tersebut dapat dibedakan berdasarkan kegunaannya"
   ]
  },
  {
   "cell_type": "markdown",
   "metadata": {},
   "source": [
    "## List\n",
    "List pada Python digunakan untuk menyimpan urutan berbagai tipe data. List pada Python adalah tipe data yang dapat berubah (mutable) dan dapat dimodifikasi elemen datanya setelah dibuat. \n",
    "\n",
    "List dapat didefinisikan sebagai kumpulan nilai atau item dari berbagai jenis. Item dalam list dipisahkan dengan koma (,) dan ditutup dengan tanda kurung persegi `[ ]`.\n"
   ]
  },
  {
   "cell_type": "code",
   "execution_count": 1,
   "metadata": {},
   "outputs": [
    {
     "name": "stdout",
     "output_type": "stream",
     "text": [
      "<class 'list'>\n",
      "<class 'list'>\n"
     ]
    }
   ],
   "source": [
    "L1 = [ \"Mahdy\" , 21,\"Unesa\", 2003]\n",
    "L2 = [1,2,3,4,5,6]\n",
    "print(type(L1))\n",
    "print(type(L2))"
   ]
  },
  {
   "cell_type": "markdown",
   "metadata": {},
   "source": [
    "<strong>Karakteristik List</strong>\n",
    "List mempunyai karakteristik yaitu:\n",
    "- List terurut\n",
    "- Mengambil elemen list menggunakan indeks\n",
    "- List adalah tipe data yang dapat berubah\n",
    "- List dapat menyimpan berbagai macam variasi elemen"
   ]
  },
  {
   "cell_type": "markdown",
   "metadata": {},
   "source": [
    "Bagaimana list itu terurut?"
   ]
  },
  {
   "cell_type": "code",
   "execution_count": 2,
   "metadata": {},
   "outputs": [
    {
     "data": {
      "text/plain": [
       "False"
      ]
     },
     "execution_count": 2,
     "metadata": {},
     "output_type": "execute_result"
    }
   ],
   "source": [
    "a = [1, 2, \"Raghav\", 4.50, \"Rocky\", 5, 6]  \n",
    "b = [1, 2, 5,\"Raghav\" ,4.50, \"Rocky\", 6]\n",
    "a == b  "
   ]
  },
  {
   "cell_type": "markdown",
   "metadata": {},
   "source": [
    "Kedua list tersebut memiliki elemen yang sama, tetapi pada list kedua terdapat elemen yang indeks elemennya tidak sesuai. Sehingga saat membandingkan kedua list tersebut akan menghasilkan `False`\n",
    "\n",
    "List Mempertahankan urutan elemen selama program berjalan. Itulah mengapa list adalah kumpulan objek yang terurut"
   ]
  },
  {
   "cell_type": "code",
   "execution_count": 3,
   "metadata": {},
   "outputs": [
    {
     "data": {
      "text/plain": [
       "True"
      ]
     },
     "execution_count": 3,
     "metadata": {},
     "output_type": "execute_result"
    }
   ],
   "source": [
    "a = [1,2,\"Raghav\",4.50,\"Rocky\",6]  \n",
    "b = [1,2,\"Raghav\",4.50,\"Rocky\",6]  \n",
    "a == b"
   ]
  },
  {
   "cell_type": "markdown",
   "metadata": {},
   "source": [
    "### List Indexing dan Splitting"
   ]
  },
  {
   "cell_type": "markdown",
   "metadata": {},
   "source": [
    "Indeks dimulai dari 0 dan berlanjut hingga `n - 1`. Elemen pertama dari list disimpan pada indeks ke-0, elemen keduua dari list disimpan pada indeks ke-1, dan seterusnya\n",
    "\n",
    "Kita dapat mengambil sub-list dari list menggunakan sintaks berikut \n",
    "`list_variable(start:stop:step)`\n",
    "\n",
    "- `start` menunjukkan posisi indeks awal dari list.\n",
    "- `stop` menunjukkan posisi indeks terakhir dari daftar.\n",
    "- `step` digunakan untuk melewawtkan elemen ke-n dalam rentang `start:stop`."
   ]
  },
  {
   "cell_type": "markdown",
   "metadata": {},
   "source": [
    "<center><img src='img/example_list.png'></center>"
   ]
  },
  {
   "cell_type": "code",
   "execution_count": 4,
   "metadata": {},
   "outputs": [
    {
     "name": "stdout",
     "output_type": "stream",
     "text": [
      "1\n",
      "2\n",
      "3\n",
      "4\n",
      "[1, 2, 3, 4, 5, 6]\n",
      "[1, 2, 3, 4, 5, 6, 7]\n",
      "[3, 4, 5]\n",
      "[2, 4, 6]\n"
     ]
    }
   ],
   "source": [
    "list = [1,2,3,4,5,6,7]\n",
    "print(list[0])\n",
    "print(list[1])\n",
    "print(list[2])\n",
    "print(list[3])\n",
    "\n",
    "# slicing the element\n",
    "\n",
    "print(list[0:6])\n",
    "\n",
    "# By default the index value is 0 so its starts from the 0th element and go for index -1.  \n",
    "\n",
    "print(list[:])\n",
    "print(list[2:5])\n",
    "print(list[1:6:2])"
   ]
  },
  {
   "cell_type": "markdown",
   "metadata": {},
   "source": [
    "Berbeda dengan bahasa lain, Python memberikan fleksibilitas untuk menggunakan indeks negatif juga. Indeks negatif dihitung dari kanan. Elemen terakhir (paling kanan) dari list memiliki indeks -1; elemen di sebelah kiri yang berdekatan berada pada indeks -2 dan seterusnya hingga elemen paling kiri ditemukan."
   ]
  },
  {
   "cell_type": "markdown",
   "metadata": {},
   "source": [
    "<center><img src=\"img/example_list2.jpg\"></center>"
   ]
  },
  {
   "cell_type": "markdown",
   "metadata": {},
   "source": [
    "Kita akan mencoba menggunakan indeks negatif untuk mengakses elemen-elemen dalam list"
   ]
  },
  {
   "cell_type": "code",
   "execution_count": 2,
   "metadata": {},
   "outputs": [
    {
     "name": "stdout",
     "output_type": "stream",
     "text": [
      "7\n",
      "[6, 7]\n"
     ]
    }
   ],
   "source": [
    "list = [1,2,3,4,5,6,7]\n",
    "\n",
    "print(list[-1])\n",
    "print(list[-2:])"
   ]
  },
  {
   "cell_type": "markdown",
   "metadata": {},
   "source": [
    "### Memperbarui Nilai List\n",
    "\n",
    "Di Python, list adalah tipe data yang dapat diubah (mutable), artinya elemen-elemennya bisa diperbarui atau diubah. Untuk memperbarui (update) nilai pada list, Anda bisa mengakses elemen list tersebut berdasarkan indeksnya dan langsung memberikan nilai baru.\n",
    "\n",
    "Berikut adalah beberapa cara yang umum untuk memperbarui nilai dalam list di Python:"
   ]
  },
  {
   "cell_type": "markdown",
   "metadata": {},
   "source": [
    "<h4><strong>Berdasarkan Indeks</strong></h4>\n",
    "Kita dapat mengubah nilai suatu elemen dalam list dengan mengakses indeksnya. Indeks dimulai dari 0 untuk elemen pertama.   "
   ]
  },
  {
   "cell_type": "code",
   "execution_count": 5,
   "metadata": {},
   "outputs": [
    {
     "name": "stdout",
     "output_type": "stream",
     "text": [
      "[1, 2, 10, 4, 5]\n"
     ]
    }
   ],
   "source": [
    "my_list = [1, 2, 3, 4, 5]\n",
    "my_list[2] = 10\n",
    "print(my_list)"
   ]
  },
  {
   "cell_type": "markdown",
   "metadata": {},
   "source": [
    "<strong>Menggunakan Splitting</strong><br>\n",
    "Jika ingin mengubah beberapa elemen sekaligus, kita bisa menggunakan teknik splitting."
   ]
  },
  {
   "cell_type": "code",
   "execution_count": 6,
   "metadata": {},
   "outputs": [
    {
     "name": "stdout",
     "output_type": "stream",
     "text": [
      "[1, 20, 30, 4, 5]\n"
     ]
    }
   ],
   "source": [
    "my_list = [1, 2, 3, 4, 5]\n",
    "my_list[1:3] = [20, 30]\n",
    "print(my_list)"
   ]
  },
  {
   "cell_type": "markdown",
   "metadata": {},
   "source": [
    "Python juga menyediakan metode `append()`, `extend()` dan `insert()`, yang dapat digunakan untuk menambahkan nilai ke dalam list.\n",
    "- `append(value)` untuk menambahkan elemen di akhir list.\n",
    "- `extend([values])` untuk menambahkan beberapa elemen sekaligus di akhir list.\n",
    "- `insert(index, value)` untuk menyisipkan elemen di posisi tertentu."
   ]
  },
  {
   "cell_type": "code",
   "execution_count": null,
   "metadata": {},
   "outputs": [
    {
     "name": "stdout",
     "output_type": "stream",
     "text": [
      "[1, 2, 3, 4]\n",
      "[1, 2, 3, 4, 5, 6]\n",
      "[1, 2, 10, 3, 4, 5, 6]\n"
     ]
    }
   ],
   "source": [
    "my_list = [1, 2, 3]\n",
    "my_list.append(4)        # Menambahkan elemen 4 di akhir\n",
    "print(my_list)           # Output: [1, 2, 3, 4]\n",
    "my_list.extend([5, 6])   # Menambahkan elemen 5 dan 6 di akhir\n",
    "print(my_list)           # Output: [1, 2, 3, 4, 5, 6]\n",
    "my_list.insert(2, 10)    # Menyisipkan elemen 10 di indeks ke-2\n",
    "print(my_list)           # Output: [1, 2, 10, 3, 4, 5, 6]"
   ]
  },
  {
   "cell_type": "markdown",
   "metadata": {},
   "source": [
    "Kita juga bisa menggunakan loop untuk memperbarui elemen-elemen list berdasarkan kondisi tertentu atau mengaplikasikan perubahan pada seluruh elemen."
   ]
  },
  {
   "cell_type": "code",
   "execution_count": 10,
   "metadata": {},
   "outputs": [
    {
     "name": "stdout",
     "output_type": "stream",
     "text": [
      "[2, 4, 6, 8, 10]\n"
     ]
    }
   ],
   "source": [
    "my_list = [1, 2, 3, 4, 5]\n",
    "for i in range(len(my_list)):\n",
    "    my_list[i] *= 2  # Mengalikan setiap elemen dengan 2\n",
    "print(my_list)       # Output: [2, 4, 6, 8, 10]\n"
   ]
  },
  {
   "cell_type": "code",
   "execution_count": 11,
   "metadata": {},
   "outputs": [
    {
     "name": "stdout",
     "output_type": "stream",
     "text": [
      "[2, 4, 6, 8, 10]\n"
     ]
    }
   ],
   "source": [
    "my_list = [1, 2, 3, 4, 5]\n",
    "my_list = [x * 2 for x in my_list]  # Mengalikan setiap elemen dengan 2\n",
    "print(my_list)                      # Output: [2, 4, 6, 8, 10]"
   ]
  },
  {
   "cell_type": "markdown",
   "metadata": {},
   "source": [
    "### Iterating List\n",
    "List dapat diiterasi menggunakan loop `for - in`. Misalnya, jika kita memiliki list ederhana yang berisi empat string, kita dapat melakukan iterasi terhadapnya dengan cara berikut:"
   ]
  },
  {
   "cell_type": "code",
   "execution_count": 12,
   "metadata": {},
   "outputs": [
    {
     "name": "stdout",
     "output_type": "stream",
     "text": [
      "apel\n",
      "pisang\n",
      "ceri\n",
      "jeruk\n"
     ]
    }
   ],
   "source": [
    "fruits = [\"apel\", \"pisang\", \"ceri\", \"jeruk\"]\n",
    "\n",
    "for fruit in fruits:\n",
    "    print(fruit)"
   ]
  },
  {
   "cell_type": "markdown",
   "metadata": {},
   "source": [
    "Dalam contoh di atas, loop for mengambil setiap elemen dalam list fruits satu per satu. Pada setiap iterasi, variabel fruit akan berisi nilai dari elemen yang sedang diproses, sehingga kita bisa melakukan operasi apa pun terhadapnya—dalam hal ini, mencetak nama buah ke layar."
   ]
  },
  {
   "cell_type": "markdown",
   "metadata": {},
   "source": [
    "### Removing Elemen pada List\n",
    "Elemen-elemen dari daftar dapat dihapus menggunakan metode berikut:\n",
    "- `remove(item)`\t:   Untuk menghapus kemunculan pertama dari item dalam daftar.\n",
    "- `pop(index)`      :  \tMenghapus dan mengembalikan item pada indeks yang diberikan dari daftar.\n",
    "- `clear()`         :   Untuk menghapus semua item dari daftar. Hasilnya akan menjadi daftar kosong.\n",
    "- `del list_name`   :\tMenghapus seluruh daftar"
   ]
  },
  {
   "cell_type": "markdown",
   "metadata": {},
   "source": [
    "#### Menghapus Item Tertentu\n",
    "Kita dapat menggunakan `remove()` untuk menghapus kemunculan pertama dari item dalam list."
   ]
  },
  {
   "cell_type": "code",
   "execution_count": 18,
   "metadata": {},
   "outputs": [
    {
     "name": "stdout",
     "output_type": "stream",
     "text": [
      "['pisang', 'ceri', 'apel', 'jeruk']\n"
     ]
    }
   ],
   "source": [
    "fruits = [\"apel\", \"pisang\", \"ceri\", \"apel\", \"jeruk\"]\n",
    "\n",
    "# Menghapus kemunculan pertama dari \"apel\"\n",
    "fruits.remove(\"apel\")\n",
    "\n",
    "print(fruits)"
   ]
  },
  {
   "cell_type": "markdown",
   "metadata": {},
   "source": [
    "Dalam contoh di atas, `remove()` digunakan untuk menghapus kemunculan pertama dari \"apel\". Jika kita mencoba untuk menghapus item \"mangga\" yang tidak ada dalam list, maka program akan memberikan kesalahan KeyError.\n",
    "\n",
    "<strong>Catatan</strong>: Metode ini akan menghasilkan KeyError jika item yang ingin dihapus tidak ada dalam list asli."
   ]
  },
  {
   "cell_type": "markdown",
   "metadata": {},
   "source": [
    "#### Menggunakan Loop untuk Menghapus Semua Kemunculan Item Tertentu\n",
    "Untuk menghapus semua kemunculan dari item tertentu dalam list, kita bisa menggunakan loop. Namun, karena kita mengubah list saat melakukan iterasi, lebih baik menggunakan pendekatan yang berbeda, seperti membuat list baru yang hanya berisi item yang tidak ingin dihapus."
   ]
  },
  {
   "cell_type": "code",
   "execution_count": 17,
   "metadata": {},
   "outputs": [
    {
     "name": "stdout",
     "output_type": "stream",
     "text": [
      "['pisang', 'ceri', 'jeruk']\n"
     ]
    }
   ],
   "source": [
    "fruits = [\"apel\", \"pisang\", \"ceri\", \"apel\", \"jeruk\"]\n",
    "item_to_remove = \"apel\"\n",
    "\n",
    "# Menghapus semua kemunculan \"apel\"\n",
    "for fruit in fruits:\n",
    "    if fruit == item_to_remove:\n",
    "        fruits.remove(fruit)\n",
    "    \n",
    "print(fruits)"
   ]
  },
  {
   "cell_type": "code",
   "execution_count": 19,
   "metadata": {},
   "outputs": [
    {
     "name": "stdout",
     "output_type": "stream",
     "text": [
      "['pisang', 'ceri', 'jeruk']\n"
     ]
    }
   ],
   "source": [
    "fruits = [\"apel\", \"pisang\", \"ceri\", \"apel\", \"jeruk\"]\n",
    "\n",
    "# Item yang ingin dihapus\n",
    "item_to_remove = \"apel\"\n",
    "\n",
    "# Membuat daftar baru tanpa item yang ingin dihapus\n",
    "fruits = [fruit for fruit in fruits if fruit != item_to_remove]\n",
    "\n",
    "print(fruits)  # Output: ['pisang', 'ceri', 'jeruk']"
   ]
  },
  {
   "cell_type": "markdown",
   "metadata": {},
   "source": [
    "Dalam contoh di atas, kita menggunakan list comprehension untuk membuat list baru yang hanya berisi elemen-elemen dari fruits yang tidak sama dengan item_to_remove. Dengan cara ini, semua kemunculan \"apel\" dihapus dari list."
   ]
  },
  {
   "cell_type": "markdown",
   "metadata": {},
   "source": [
    "#### Menghapus Item berdasarkan Indeks\n",
    "Gunakan metode `pop()` untuk menghapus item yang berada pada indeks tertentu. Metode `pop()` tidak hanya menghapus item dari list tetapi juga mengembalikannya."
   ]
  },
  {
   "cell_type": "code",
   "execution_count": 20,
   "metadata": {},
   "outputs": [
    {
     "name": "stdout",
     "output_type": "stream",
     "text": [
      "Item yang dihapus: pisang\n",
      "Daftar setelah penghapusan: ['apel', 'ceri', 'jeruk']\n",
      "Item terakhir yang dihapus: jeruk\n",
      "Daftar setelah penghapusan: ['apel', 'ceri']\n"
     ]
    }
   ],
   "source": [
    "fruits = [\"apel\", \"pisang\", \"ceri\", \"jeruk\"]\n",
    "\n",
    "# Menghapus item pada indeks 1 (pisang)\n",
    "removed_item = fruits.pop(1)\n",
    "\n",
    "print(f\"Item yang dihapus: {removed_item}\")  # Output: Item yang dihapus: pisang\n",
    "print(f\"Daftar setelah penghapusan: {fruits}\")  # Output: Daftar setelah penghapusan: ['apel', 'ceri', 'jeruk']\n",
    "\n",
    "# Menghapus item terakhir tanpa memberikan indeks\n",
    "last_item = fruits.pop()\n",
    "\n",
    "print(f\"Item terakhir yang dihapus: {last_item}\")  # Output: Item terakhir yang dihapus: jeruk\n",
    "print(f\"Daftar setelah penghapusan: {fruits}\")  # Output: Daftar setelah penghapusan: ['apel', 'ceri']\n"
   ]
  },
  {
   "cell_type": "markdown",
   "metadata": {},
   "source": [
    "Dalam contoh di atas, kita menggunakan `pop(1)` untuk menghapus item pada indeks 1 (yaitu \"pisang\"). Setelah itu, kita menggunakan `pop()` tanpa argumen untuk menghapus dan mengembalikan item terakhir dari daftar, yaitu \"jeruk\"\n",
    "\n",
    "<strong>Catatan</strong>: Jika nomor indeks tidak diberikan, pop() akan menghapus item terakhir dari daftar."
   ]
  },
  {
   "cell_type": "markdown",
   "metadata": {},
   "source": [
    "#### Menghapus Semua Item\n",
    "Gunakan `clear(`) untuk menghapus semua item dari list. `clear()` akan menghapus nilai pada list sehingga menjadi kosong."
   ]
  },
  {
   "cell_type": "code",
   "execution_count": 22,
   "metadata": {},
   "outputs": [
    {
     "name": "stdout",
     "output_type": "stream",
     "text": [
      "['apel', 'pisang', 'ceri', 'jeruk']\n",
      "Daftar setelah menghapus semua item: []\n"
     ]
    }
   ],
   "source": [
    "fruits = [\"apel\", \"pisang\", \"ceri\", \"jeruk\"]\n",
    "print(fruits)\n",
    "\n",
    "# Menghapus semua item dari daftar\n",
    "fruits.clear()\n",
    "\n",
    "print(f\"Daftar setelah menghapus semua item: {fruits}\")  # Output: Daftar setelah menghapus semua item: []"
   ]
  },
  {
   "cell_type": "markdown",
   "metadata": {},
   "source": [
    "Dalam contoh di atas, kita menggunakan `clear()` pada list fruits, yang menghapus semua item dari list tersebut. Setelah pemanggilan metode, fruits menjadi list kosong."
   ]
  },
  {
   "cell_type": "markdown",
   "metadata": {},
   "source": [
    "### Fungsi-Fungsi Yang Dapat Digunakan Dengan list"
   ]
  },
  {
   "cell_type": "markdown",
   "metadata": {},
   "source": [
    "<img src='img/fungsi_list.png'>"
   ]
  },
  {
   "cell_type": "markdown",
   "metadata": {},
   "source": [
    "#### cmp(list1, list2)\n",
    "Fungsi `cmp()` digunakan untuk membandingkan dua daftar. Fungsi ini akan mengembalikan nilai:\n",
    "- 0 jika kedua daftar memiliki elemen yang sama dalam urutan yang sama.\n",
    "- 1 jika list1 lebih besar dari list2.\n",
    "- 1 jika list1 lebih kecil dari list2.\n",
    "\n",
    "<strong>Catatan</strong>: Fungsi cmp() tidak tersedia di Python 3 dan versi di atasnya. Jika kamu menggunakan Python 3, kamu bisa membandingkan dua daftar dengan menggunakan operator perbandingan seperti ==, <, dan >."
   ]
  },
  {
   "cell_type": "code",
   "execution_count": null,
   "metadata": {},
   "outputs": [],
   "source": [
    "list1 = [3, 4]\n",
    "list2 = [3, 5]\n",
    "print(cmp(a, b)) "
   ]
  },
  {
   "cell_type": "markdown",
   "metadata": {},
   "source": [
    "#### len(list)\n",
    "Fungsi `len()` digunakan untuk menghitung jumlah elemen dalam list. Fungsi ini sangat berguna untuk mengetahui panjang list tanpa harus menghitung elemen secara manual.\n"
   ]
  },
  {
   "cell_type": "code",
   "execution_count": 24,
   "metadata": {},
   "outputs": [
    {
     "name": "stdout",
     "output_type": "stream",
     "text": [
      "8\n"
     ]
    }
   ],
   "source": [
    "L1 = [1, 2, 3, 4, 5, 6, 7, 8]\n",
    "print(len(L1))  # Output: 8"
   ]
  },
  {
   "cell_type": "markdown",
   "metadata": {},
   "source": [
    "Pada contoh di atas, daftar L1 memiliki 8 elemen, sehingga len(L1) mengembalikan nilai 8."
   ]
  },
  {
   "cell_type": "markdown",
   "metadata": {},
   "source": [
    "### max(list)"
   ]
  },
  {
   "cell_type": "markdown",
   "metadata": {},
   "source": [
    "Fungsi `max()` digunakan untuk mendapatkan elemen terbesar dalam list. Fungsi ini hanya dapat digunakan pada list yang elemen-elemennya bisa dibandingkan, seperti angka atau string (berdasarkan urutan alfabet)."
   ]
  },
  {
   "cell_type": "code",
   "execution_count": 25,
   "metadata": {},
   "outputs": [
    {
     "name": "stdout",
     "output_type": "stream",
     "text": [
      "72\n"
     ]
    }
   ],
   "source": [
    "L1 = [12, 34, 26, 48, 72]\n",
    "print(max(L1))  # Output: 72"
   ]
  },
  {
   "cell_type": "markdown",
   "metadata": {},
   "source": [
    "Fungsi max() mencari elemen terbesar di L1, yaitu 72, dan mengembalikannya."
   ]
  },
  {
   "cell_type": "code",
   "execution_count": 26,
   "metadata": {},
   "outputs": [
    {
     "name": "stdout",
     "output_type": "stream",
     "text": [
      "String terbesar berdasarkan urutan alfabet: pisang\n"
     ]
    }
   ],
   "source": [
    "string_list = [\"apel\", \"pisang\", \"ceri\", \"jeruk\"]\n",
    "max_string = max(string_list)\n",
    "\n",
    "print(f\"String terbesar berdasarkan urutan alfabet: {max_string}\")"
   ]
  },
  {
   "cell_type": "markdown",
   "metadata": {},
   "source": [
    "#### min(list)\n",
    "Fungsi `min()` digunakan untuk mendapatkan elemen terkecil dalam list. Sama seperti `max()`, fungsi ini hanya dapat digunakan pada list yang elemen-elemennya bisa dibandingkan."
   ]
  },
  {
   "cell_type": "code",
   "execution_count": 27,
   "metadata": {},
   "outputs": [
    {
     "name": "stdout",
     "output_type": "stream",
     "text": [
      "12\n"
     ]
    }
   ],
   "source": [
    "L1 = [12, 34, 26, 48, 72]\n",
    "print(min(L1))  # Output: 12"
   ]
  },
  {
   "cell_type": "markdown",
   "metadata": {},
   "source": [
    "Fungsi min() mencari elemen terkecil di L1, yaitu 12, dan mengembalikannya."
   ]
  },
  {
   "cell_type": "markdown",
   "metadata": {},
   "source": [
    "#### list()\n",
    "Fungsi `list()` digunakan untuk mengonversi jenis urutan lain (sequence) menjadi list. Urutan yang bisa dikonversi meliputi string, tuple, atau objek yang bisa diiterasi."
   ]
  },
  {
   "cell_type": "code",
   "execution_count": null,
   "metadata": {},
   "outputs": [
    {
     "name": "stdout",
     "output_type": "stream",
     "text": [
      "Johnson\n"
     ]
    },
    {
     "ename": "NameError",
     "evalue": "name 's' is not defined",
     "output_type": "error",
     "traceback": [
      "\u001b[1;31m---------------------------------------------------------------------------\u001b[0m",
      "\u001b[1;31mNameError\u001b[0m                                 Traceback (most recent call last)",
      "Cell \u001b[1;32mIn[31], line 4\u001b[0m\n\u001b[0;32m      2\u001b[0m \u001b[38;5;66;03m# s = list(str_value)\u001b[39;00m\n\u001b[0;32m      3\u001b[0m \u001b[38;5;28mprint\u001b[39m(str_value) \n\u001b[1;32m----> 4\u001b[0m \u001b[38;5;28mprint\u001b[39m(\u001b[38;5;28mtype\u001b[39m(s))\n",
      "\u001b[1;31mNameError\u001b[0m: name 's' is not defined"
     ]
    }
   ],
   "source": [
    "str_value = \"Johnson\"\n",
    "s = ['J', 'o', 'h', 'n', 's', 'o', 'n']\n",
    "# s = list(str_value)\n",
    "print(str_value) \n",
    "# print(type(s))"
   ]
  },
  {
   "cell_type": "markdown",
   "metadata": {},
   "source": [
    "Dalam contoh di atas, string \"Johnson\" diubah menjadi daftar karakter ['J', 'o', 'h', 'n', 's', 'o', 'n']. Fungsi list() memisahkan setiap karakter dalam string menjadi elemen terpisah dalam daftar."
   ]
  },
  {
   "cell_type": "markdown",
   "metadata": {},
   "source": [
    "## Contoh 1 : Program untuk menghapus elemen duplikat dari list."
   ]
  },
  {
   "cell_type": "code",
   "execution_count": null,
   "metadata": {},
   "outputs": [
    {
     "name": "stdout",
     "output_type": "stream",
     "text": [
      "1\n",
      "2\n",
      "3\n",
      "55\n",
      "98\n",
      "65\n",
      "13\n",
      "29\n",
      "[1, 2, 3, 55, 98, 65, 13, 29]\n"
     ]
    }
   ],
   "source": [
    "list1 = [1,2,2,3,55,98,65,65,13,29]  \n",
    "\n",
    "# an empty list to store unique values\n",
    "list2 = []\n",
    "\n",
    "for i in list1:\n",
    "    if i not in list2:\n",
    "        print(i)\n",
    "        list2.append(i)\n",
    "print(list2)"
   ]
  },
  {
   "cell_type": "markdown",
   "metadata": {},
   "source": [
    "## Contoh 2 : program untuk menemukan jumlah elemen dalam daftar."
   ]
  },
  {
   "cell_type": "code",
   "execution_count": 34,
   "metadata": {},
   "outputs": [
    {
     "name": "stdout",
     "output_type": "stream",
     "text": [
      " the sum is  67\n"
     ]
    }
   ],
   "source": [
    "list1 = [3,4,5,9,10,12,24]  \n",
    "sum = 0\n",
    "\n",
    "for i in list1:\n",
    "    sum = sum+i\n",
    "print(\" the sum is \",sum)"
   ]
  },
  {
   "cell_type": "markdown",
   "metadata": {},
   "source": [
    "## Contoh 3 :program untuk menemukan apakah dua daftar memiliki setidaknya satu elemen yang sama."
   ]
  },
  {
   "cell_type": "code",
   "execution_count": 35,
   "metadata": {},
   "outputs": [
    {
     "name": "stdout",
     "output_type": "stream",
     "text": [
      " the common element is 2\n"
     ]
    }
   ],
   "source": [
    "list1 = [1,2,3,4,5,6]  \n",
    "list2 = [7,8,9,2,10]\n",
    "\n",
    "for x in list1:\n",
    "    for y in list2:\n",
    "        if x==y:\n",
    "            print(\" the common element is\", x)"
   ]
  }
 ],
 "metadata": {
  "kernelspec": {
   "display_name": "analytics",
   "language": "python",
   "name": "python3"
  },
  "language_info": {
   "codemirror_mode": {
    "name": "ipython",
    "version": 3
   },
   "file_extension": ".py",
   "mimetype": "text/x-python",
   "name": "python",
   "nbconvert_exporter": "python",
   "pygments_lexer": "ipython3",
   "version": "3.11.8"
  }
 },
 "nbformat": 4,
 "nbformat_minor": 2
}
