{
 "cells": [
  {
   "cell_type": "markdown",
   "metadata": {},
   "source": [
    "# Set\n",
    "\n",
    "Set adalah kumpulan data yang tidak terurut yang hanya berisi item unik. Dengan kata lain, Set di Python adalah koleksi elemen (atau objek) yang tidak mengandung elemen duplikat.\n",
    "\n",
    "Berbeda dengan List, Set di Python tidak mempertahankan urutan elemen, yaitu, Set adalah dataset yang tidak terurut. Oleh karena itu, kita tidak dapat mengakses elemen berdasarkan indeks atau melakukan operasi penyisipan menggunakan nomor indeks."
   ]
  },
  {
   "cell_type": "markdown",
   "metadata": {},
   "source": [
    "## Karakteristik Set\n",
    "Set merupakan struktur data bawaan di Python dengan tiga karakteristik berikut:\n",
    "- Tidak Terurut (Unordered): Item dalam set tidak terurut, berbeda dengan list. Artinya, set tidak akan mempertahankan urutan di mana item dimasukkan. Item dapat muncul dalam urutan yang berbeda setiap kali kita mengakses objek Set. Tidak ada nilai indeks yang ditetapkan untuk setiap item dalam set.\n",
    "- Tidak Dapat Diubah (Unchangeable): Item dalam set harus bersifat immutable. Kita tidak dapat mengubah nilai item dalam set. Namun, kita dapat menambah atau menghapus item dari Set.\n",
    "- Unik (Unique): Tidak boleh ada dua item dengan nilai yang sama dalam set. Set secara otomatis menghilangkan elemen duplikat."
   ]
  },
  {
   "cell_type": "markdown",
   "metadata": {},
   "source": [
    "## Membuat Set\n",
    "Ada dua cara untuk membuat set di Python:"
   ]
  },
  {
   "cell_type": "markdown",
   "metadata": {},
   "source": [
    "### Menggunakan Kurung Kurawal `{}`\n",
    "\n",
    "Cara yang paling mudah dan langsung untuk membuat Set adalah dengan menempatkan semua item data di dalam kurung kurawal {}. Nilai-nilai individu dipisahkan dengan koma."
   ]
  },
  {
   "cell_type": "code",
   "execution_count": 2,
   "metadata": {},
   "outputs": [
    {
     "name": "stdout",
     "output_type": "stream",
     "text": [
      "{25, 'Deepali', 75.25, 'Mark'}\n",
      "<class 'set'>\n"
     ]
    }
   ],
   "source": [
    "sample_set = {'Mark', 'Deepali', 25, 75.25}\n",
    "print(sample_set)  # Output: {'Mark', 25, 75.25, 'Deepali'}\n",
    "print(type(sample_set))  # Output: <class 'set'>"
   ]
  },
  {
   "cell_type": "markdown",
   "metadata": {},
   "source": [
    "### Menggunakan `set()`\n",
    "kita dapat membuat set dengan memanggil konstruktor dari kelas `set`. Item yang kita berikan saat memanggil harus bersifat iterable. Kita dapat memberikan item ke konstruktor `set` di dalam tanda kurung ganda."
   ]
  },
  {
   "cell_type": "code",
   "execution_count": 3,
   "metadata": {},
   "outputs": [
    {
     "name": "stdout",
     "output_type": "stream",
     "text": [
      "{'Atlas Shrugged', 'Angels and Demons', 'Harry Potter'}\n",
      "<class 'set'>\n"
     ]
    }
   ],
   "source": [
    "book_set = set((\"Harry Potter\", \"Angels and Demons\", \"Atlas Shrugged\"))\n",
    "print(book_set)\n",
    "print(type(book_set))"
   ]
  },
  {
   "cell_type": "markdown",
   "metadata": {},
   "source": [
    "<strong>Catatan :</strong> Seperti yang terlihat dalam contoh di atas, item dalam set dapat memiliki tipe data apa pun, seperti String, Integer, Float, atau Boolean. Ini membuat Set bersifat heterogen, yaitu item dari tipe yang berbeda dapat disimpan dalam satu set. Selain itu, output menunjukkan bahwa semua elemen tidak terurut."
   ]
  },
  {
   "cell_type": "markdown",
   "metadata": {},
   "source": [
    "### Membuat Set dengan Elemen Mutable\n",
    "Anda akan mendapatkan kesalahan jika mencoba membuat set dengan elemen data collection mutable seperti list atau dictionary. Ini karena elemen dalam set harus bersifat hashable, dan list serta dictionary adalah tipe data yang mutable sehingga tidak dapat di-hash."
   ]
  },
  {
   "cell_type": "code",
   "execution_count": 4,
   "metadata": {},
   "outputs": [
    {
     "ename": "TypeError",
     "evalue": "unhashable type: 'list'",
     "output_type": "error",
     "traceback": [
      "\u001b[1;31m---------------------------------------------------------------------------\u001b[0m",
      "\u001b[1;31mTypeError\u001b[0m                                 Traceback (most recent call last)",
      "Cell \u001b[1;32mIn[4], line 2\u001b[0m\n\u001b[0;32m      1\u001b[0m \u001b[38;5;66;03m# Mencoba membuat set dengan tipe mutable\u001b[39;00m\n\u001b[1;32m----> 2\u001b[0m sample_set \u001b[38;5;241m=\u001b[39m {\u001b[38;5;124m'\u001b[39m\u001b[38;5;124mMark\u001b[39m\u001b[38;5;124m'\u001b[39m, \u001b[38;5;124m'\u001b[39m\u001b[38;5;124mDeepali\u001b[39m\u001b[38;5;124m'\u001b[39m, [\u001b[38;5;241m35\u001b[39m, \u001b[38;5;241m78\u001b[39m, \u001b[38;5;241m92\u001b[39m]}\n\u001b[0;32m      3\u001b[0m \u001b[38;5;28mprint\u001b[39m(sample_set)\n",
      "\u001b[1;31mTypeError\u001b[0m: unhashable type: 'list'"
     ]
    }
   ],
   "source": [
    "# Mencoba membuat set dengan tipe mutable\n",
    "sample_set = {'Mark', 'Deepali', [35, 78, 92]}\n",
    "print(sample_set)"
   ]
  },
  {
   "cell_type": "markdown",
   "metadata": {},
   "source": [
    "Dalam contoh di atas, kita mencoba membuat set yang berisi string dan list. Ketika kita mencoba untuk mencetak `sample_set`, Python menghasilkan kesalahan `TypeError` karena list `[35, 78, 92]` adalah tipe mutable dan tidak dapat digunakan sebagai elemen dalam set."
   ]
  },
  {
   "cell_type": "markdown",
   "metadata": {},
   "source": [
    "## Mengakses Item dalam Set\n",
    "Item dalam set tidak terurut dan tidak memiliki nomor indeks, sehingga kita tidak dapat mengakses elemen menggunakan indeks seperti pada list atau tuple. Untuk mengakses item dalam set, kita perlu melakukan iterasi melalui objek set menggunakan loop for."
   ]
  },
  {
   "cell_type": "code",
   "execution_count": 1,
   "metadata": {},
   "outputs": [
    {
     "name": "stdout",
     "output_type": "stream",
     "text": [
      "Harry Potter\n",
      "Angels and Demons\n",
      "Atlas Shrugged\n"
     ]
    }
   ],
   "source": [
    "book_set = {\"Harry Potter\", \"Angels and Demons\", \"Atlas Shrugged\"}\n",
    "\n",
    "for book in book_set:\n",
    "    print(book)"
   ]
  },
  {
   "cell_type": "markdown",
   "metadata": {},
   "source": [
    "Dalam contoh di atas, kita mendeklarasikan `book_set`, yang berisi beberapa judul buku. Dengan menggunakan `loop for`, kita dapat mengiterasi setiap elemen dalam `book_set` dan mencetaknya satu per satu.\n",
    "Karena set bersifat tidak terurut, urutan output dapat bervariasi setiap kali menjalankan program."
   ]
  },
  {
   "cell_type": "markdown",
   "metadata": {},
   "source": [
    "## Memeriksa Apakah Item Ada dalam Set\n",
    "Set adalah koleksi yang tidak terurut, sehingga kita tidak dapat menemukan item menggunakan nilai indeks. Untuk memeriksa apakah suatu item ada dalam set, kita dapat menggunakan operator `in`\n",
    "\n",
    "Operator `in` memeriksa apakah item ada dalam set dan mengembalikan True jika item tersebut ada, dan False jika tidak."
   ]
  },
  {
   "cell_type": "code",
   "execution_count": 2,
   "metadata": {},
   "outputs": [
    {
     "name": "stdout",
     "output_type": "stream",
     "text": [
      "Book exists in the book set\n",
      "False\n"
     ]
    }
   ],
   "source": [
    "book_set = {\"Harry Potter\", \"Angels and Demons\", \"Atlas Shrugged\"}\n",
    "\n",
    "# Memeriksa apakah 'Harry Potter' ada dalam book_set\n",
    "if 'Harry Potter' in book_set:\n",
    "    print(\"Book exists in the book set\")\n",
    "else:\n",
    "    print(\"Book doesn't exist in the book set\")\n",
    "\n",
    "# Memeriksa item lain yang tidak ada dalam set\n",
    "print(\"A Man called Ove\" in book_set)  # Output: False\n"
   ]
  },
  {
   "cell_type": "markdown",
   "metadata": {},
   "source": [
    "Dalam contoh di atas, kita memeriksa apakah 'Harry Potter' ada dalam `book_set`. Karena item tersebut ada, kita mendapatkan output \"Book exists in the book set\". Selanjutnya, kita memeriksa apakah 'A Man called Ove' ada dalam book_set. Karena item tersebut tidak ada, hasilnya adalah False"
   ]
  },
  {
   "cell_type": "markdown",
   "metadata": {},
   "source": [
    "## Memeriksa Panjang Set\n",
    "\n",
    "Untuk menemukan panjang (jumlah elemen) dari sebuah set, kita dapat menggunakan fungsi `len()`"
   ]
  },
  {
   "cell_type": "code",
   "execution_count": null,
   "metadata": {},
   "outputs": [],
   "source": [
    "# Membuat set menggunakan kurung kurawal\n",
    "book_set = {\"Harry Potter\", \"Angels and Demons\", \"Atlas Shrugged\"}\n",
    "\n",
    "# Menghitung panjang set\n",
    "print(len(book_set))  # Output: 3\n"
   ]
  },
  {
   "cell_type": "markdown",
   "metadata": {},
   "source": [
    "## Menambahkan Item ke Set\n",
    "Meskipun nilai item dalam set tidak dapat diubah, kita dapat menambahkan item baru ke set menggunakan dua cara berikut:\n",
    "\n",
    "- Metode `add()`: Metode ini digunakan untuk menambahkan satu item ke set.\n",
    "- Metode `update()`: Metode ini digunakan untuk menambahkan beberapa item ke set sekaligus. Kita perlu memberikan daftar item yang ingin ditambahkan ke metode update()."
   ]
  },
  {
   "cell_type": "code",
   "execution_count": 3,
   "metadata": {},
   "outputs": [
    {
     "name": "stdout",
     "output_type": "stream",
     "text": [
      "{'Angels and Demons', 'Harry Potter', 'The God of Small Things'}\n",
      "{'Ulysses', 'Harry Potter', 'Angels and Demons', 'Atlas Shrugged', 'The God of Small Things'}\n"
     ]
    }
   ],
   "source": [
    "# Membuat set awal\n",
    "book_set = {'Harry Potter', 'Angels and Demons'}\n",
    "\n",
    "# Menggunakan metode add() untuk menambahkan satu item\n",
    "book_set.add('The God of Small Things')\n",
    "# Menampilkan set yang diperbarui\n",
    "print(book_set)\n",
    "\n",
    "# Menggunakan metode update() untuk menambahkan lebih dari satu item\n",
    "book_set.update(['Atlas Shrugged', 'Ulysses'])\n",
    "# Menampilkan set yang diperbarui\n",
    "print(book_set)\n"
   ]
  },
  {
   "cell_type": "markdown",
   "metadata": {},
   "source": [
    "## Menghapus Item dari Set\n",
    "\n",
    "Kita dapat menghapus item pada set menggunakan `remove()`, `discard()`, `pop()` `clear()`, `del`\n",
    "- `remove()`: Metode ini digunakan untuk menghapus item tertentu dari set. Jika item yang ingin dihapus tidak ada dalam set, metode ini akan menimbulkan KeyError.\n",
    "- `discard()`: Metode ini juga digunakan untuk menghapus item, tetapi tidak menimbulkan error jika item yang ingin dihapus tidak ada dalam set.\n",
    "- `clear()`: Metode ini menghapus semua item dari set, sehingga menjadikannya set kosong.\n",
    "- `del`: Keyword ini menghapus set secara keseluruhan."
   ]
  },
  {
   "cell_type": "code",
   "execution_count": null,
   "metadata": {},
   "outputs": [],
   "source": [
    "color_set = {'red', 'orange', 'yellow', 'white', 'black'}\n",
    "\n",
    "# remove single item\n",
    "color_set.remove('yellow')\n",
    "print(color_set)\n",
    "\n",
    "# remove single item from a set without raising an error\n",
    "color_set.discard('white')\n",
    "print(color_set)\n",
    "\n",
    "# remove any random item from a set\n",
    "deleted_item = color_set.pop()\n",
    "print(deleted_item)\n",
    "\n",
    "# remove all items\n",
    "color_set.clear()\n",
    "print(color_set)\n",
    "\n",
    "# delete a set\n",
    "del color_set"
   ]
  },
  {
   "cell_type": "markdown",
   "metadata": {},
   "source": [
    "### `remove()` dan `discard()`\n",
    "\n",
    "- metode `remove()` akan mengembalikan `keyerror` jika item yang ingin dihapus tidak ada pada set\n",
    "- metode `discard()` tidak akan mengambilkan `keyerror` jika item yang dihapus tidak ada pada set"
   ]
  },
  {
   "cell_type": "code",
   "execution_count": null,
   "metadata": {},
   "outputs": [],
   "source": [
    "color_set = {'red', 'orange', 'white', 'black'}\n",
    "\n",
    "# remove single item using discard()\n",
    "color_set.discard('yellow')\n",
    "print(color_set)\n",
    "\n",
    "# remove single item using remove()\n",
    "color_set.remove('yellow')\n",
    "print(color_set)\n",
    "# Output KeyError: 'yellow'"
   ]
  },
  {
   "cell_type": "markdown",
   "metadata": {},
   "source": [
    "## Sorted Set\n",
    "Set adalah koleksi data yang tidak terurut, sehingga tidak ada gunanya mengurutkannya secara langsung. Namun, jika ingin mengurutkan elemen dalam set, kita dapat menggunakan fungsi `sorted()`. Fungsi ini akan mengembalikan sebuah list yang berisi elemen-elemen set yang sudah diurutkan, tetapi tidak akan memperbarui set asli."
   ]
  },
  {
   "cell_type": "code",
   "execution_count": 4,
   "metadata": {},
   "outputs": [
    {
     "name": "stdout",
     "output_type": "stream",
     "text": [
      "<class 'list'>\n",
      "{4, 6, 8, 10, 15, 20}\n",
      "<class 'set'>\n"
     ]
    }
   ],
   "source": [
    "set1 = {20, 4, 6, 10, 8, 15}\n",
    "\n",
    "# Menggunakan sorted() untuk mengurutkan set\n",
    "sorted_list = sorted(set1)\n",
    "print(type(sorted_list))\n",
    "\n",
    "# Mengonversi kembali list yang terurut menjadi set\n",
    "sorted_set = set(sorted_list)\n",
    "\n",
    "print(sorted_set)  # Output: {4, 6, 8, 10, 15, 20}\n",
    "print(type(sorted_set))  # Output: <class 'set'>"
   ]
  },
  {
   "cell_type": "markdown",
   "metadata": {},
   "source": [
    "## Menggunakan Fungsi Bawaan Python untuk Set\n",
    "\n",
    "Selain metode bawaan yang khusus tersedia untuk set, ada beberapa fungsi bawaan Python yang umum yang dapat digunakan dengan set. Mari kita lihat bagaimana kita bisa menggunakan beberapa dari fungsi ini dengan contoh."
   ]
  },
  {
   "cell_type": "markdown",
   "metadata": {},
   "source": [
    "### `all()` dan `any()`\n",
    "- all(): Mengembalikan True hanya jika semua item dalam set adalah True. Jika ada satu nilai 0 (dalam set integer) atau satu nilai False, maka fungsi ini akan mengembalikan False.\n",
    "- any(): Mengembalikan True jika ada item dalam set yang True. Ini akan mengembalikan False jika semua item adalah False.\n"
   ]
  },
  {
   "cell_type": "code",
   "execution_count": null,
   "metadata": {},
   "outputs": [],
   "source": [
    "set1 = {1, 2, 3, 4}\n",
    "set2 = {0, 2, 4, 6, 8}  # Set dengan satu nilai false '0'\n",
    "set3 = {True, True}  # Set dengan semua true\n",
    "set4 = {True, False}  # Set dengan satu false\n",
    "set5 = {False, 0}  # Set dengan kedua nilai false\n",
    "\n",
    "# Memeriksa semua nilai true\n",
    "print('all() With all true values:', all(set1))  # Output: True\n",
    "print('any() with all true values:', any(set1))  # Output: True\n",
    "\n",
    "# Memeriksa set dengan satu nilai false\n",
    "print('all() with one Zero:', all(set2))  # Output: False\n",
    "print('any() with one Zero:', any(set2))  # Output: True\n",
    "\n",
    "# Memeriksa set dengan semua nilai true\n",
    "print('all() with all True values:', all(set3))  # Output: True\n",
    "print('any() with all True values:', any(set3))  # Output: True\n",
    "\n",
    "# Memeriksa set dengan satu nilai false\n",
    "print('all() with one False value:', all(set4))  # Output: False\n",
    "print('any() with one False:', any(set4))  # Output: True\n",
    "\n",
    "# Memeriksa set dengan semua nilai false\n",
    "print('all() with all False values:', all(set5))  # Output: False\n",
    "print('any() with all False values:', any(set5))  # Output: False\n"
   ]
  },
  {
   "cell_type": "markdown",
   "metadata": {},
   "source": [
    "## Fungsi `max()` dan `min()`\n",
    "- `max()`: Mengembalikan item dengan nilai maksimum dalam set.\n",
    "- `min()`: Mengembalikan item dengan nilai minimum dalam set.\n",
    "\n",
    "Dalam kasus set dengan string, fungsi ini akan menghitung nilai maksimum/minimum berdasarkan kode ASCII."
   ]
  },
  {
   "cell_type": "code",
   "execution_count": null,
   "metadata": {},
   "outputs": [],
   "source": [
    "set1 = {2, 4, 6, 10, 8, 15}\n",
    "set2 = {'ABC', 'abc'}\n",
    "\n",
    "# Item maksimum dari set integer\n",
    "print(max(set1))  # Output: 15\n",
    "\n",
    "# Item maksimum dari set string\n",
    "print(max(set2))  # Output: abc\n",
    "\n",
    "# Item minimum dari set integer\n",
    "print(min(set1))  # Output: 2\n",
    "\n",
    "# Item minimum dari set string\n",
    "print(min(set2))  # Output: ABC\n",
    "set1 = {2, 4, 6, 10, 8, 15}\n",
    "set2 = {'ABC', 'abc'}\n",
    "\n",
    "# Item maksimum dari set integer\n",
    "print(max(set1))  # Output: 15\n",
    "\n",
    "# Item maksimum dari set string\n",
    "print(max(set2))  # Output: abc\n",
    "\n",
    "# Item minimum dari set integer\n",
    "print(min(set1))  # Output: 2\n",
    "\n",
    "# Item minimum dari set string\n",
    "print(min(set2))  # Output: ABC\n"
   ]
  }
 ],
 "metadata": {
  "kernelspec": {
   "display_name": "analytics",
   "language": "python",
   "name": "python3"
  },
  "language_info": {
   "codemirror_mode": {
    "name": "ipython",
    "version": 3
   },
   "file_extension": ".py",
   "mimetype": "text/x-python",
   "name": "python",
   "nbconvert_exporter": "python",
   "pygments_lexer": "ipython3",
   "version": "3.11.8"
  }
 },
 "nbformat": 4,
 "nbformat_minor": 2
}
