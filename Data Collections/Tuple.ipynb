{
 "cells": [
  {
   "cell_type": "markdown",
   "metadata": {},
   "source": [
    "# Tuple\n",
    "\n",
    "Tuple adalah kumpulan objek Python yang tidak dapat diubah (immutable) dan dipisahkan oleh koma. Tuple mirip dengan List di Python, tetapi memiliki perbedaan sintaksis: pada List kita menggunakan tanda kurung siku `[ ]`, sedangkan pada Tuple kita menggunakan tanda kurung bulat `( )`.\n",
    "\n",
    "Tuple adalah kumpulan data yang terurut dan tidak dapat diubah yang dapat menyimpan berbagai jenis data (heterogen). Heterogen berarti Tuple dapat menyimpan variabel dengan berbagai tipe data.\n",
    "\n",
    "Karakteristik Tuple yaitu :\n",
    "- <strong>Terurut (Ordered)</strong> : Tuple adalah bagian dari tipe data urutan (sequence), yang berarti bahwa urutan data di dalamnya sesuai dengan urutan saat data dimasukkan. Tuple mempertahankan nilai indeks untuk setiap item.\n",
    "- <strong>Tidak Dapat Diubah (Unchangeable)</strong>: Tuple tidak dapat diubah, yang berarti kita tidak dapat menambah atau menghapus item dari tuple setelah dibuat.\n",
    "- <strong>Heterogen (Heterogeneous)</strong>: Tuple dapat berisi data dengan berbagai tipe (seperti integer, float, list, string, dll) dan dapat diakses melalui indeks dan slicing.\n",
    "- <strong>Mengandung Duplikat (Contains Duplicates)</strong>: Tuple dapat mengandung item dengan nilai yang sama, sehingga memungkinkan adanya elemen yang duplikat.\n",
    "\n",
    "### Cara Membuat Tuple\n",
    "Terdapat dua cara untuk membuat tuple, yaitu :\n",
    "- Menggunakan tanda kurung `( )`: Tuple dibuat dengan menempatkan item yang dipisahkan koma di dalam tanda kurung bulat.\n",
    "- Menggunakan konstruktor `tuple()`: Tuple dibuat dengan memasukkan item yang dipisahkan koma ke dalam fungsi `tuple()`."
   ]
  },
  {
   "cell_type": "code",
   "execution_count": 1,
   "metadata": {},
   "outputs": [
    {
     "name": "stdout",
     "output_type": "stream",
     "text": [
      "<class 'tuple'>\n"
     ]
    }
   ],
   "source": [
    "my_tuple = (1, \"hello\", 3.14, [1, 2, 3])\n",
    "print(type(my_tuple))"
   ]
  },
  {
   "cell_type": "code",
   "execution_count": 2,
   "metadata": {},
   "outputs": [
    {
     "name": "stdout",
     "output_type": "stream",
     "text": [
      "<class 'tuple'>\n"
     ]
    }
   ],
   "source": [
    "my_tuple = tuple((1, \"hello\", 3.14, [1, 2, 3]))\n",
    "print(type(my_tuple))"
   ]
  },
  {
   "cell_type": "markdown",
   "metadata": {},
   "source": [
    "Tuple dapat berisi item dengan berbagai tipe data yang berbeda, seperti integer, float, list, string, dan lain-lain. Ini berarti dalam satu tuple, kita dapat menyimpan data dengan berbagai tipe tanpa ada batasan, sehingga memungkinkan penyimpanan data yang beragam dalam satu struktur."
   ]
  },
  {
   "cell_type": "code",
   "execution_count": 2,
   "metadata": {},
   "outputs": [
    {
     "name": "stdout",
     "output_type": "stream",
     "text": [
      "(5, 'Python', 3.14, [1, 2, 3])\n"
     ]
    }
   ],
   "source": [
    "# Membuat tuple dengan tipe data yang berbeda\n",
    "tuple_example = (5, \"Python\", 3.14, [1, 2, 3])\n",
    "\n",
    "print(tuple_example)  # Output: (5, \"Python\", 3.14, [1, 2, 3])"
   ]
  },
  {
   "cell_type": "markdown",
   "metadata": {},
   "source": [
    "Dalam contoh di atas, tuple_example memiliki item dengan tipe data yang berbeda: integer (5), string (\"Python\"), float (3.14), dan list ([1, 2, 3]). Tuple ini tidak dapat diubah setelah dibuat, sehingga semua operasi pada tuple hanya bisa membaca data, tanpa mengubahnya."
   ]
  },
  {
   "cell_type": "markdown",
   "metadata": {},
   "source": [
    "## Packing dan Unpacking pada Tuple"
   ]
  },
  {
   "cell_type": "markdown",
   "metadata": {},
   "source": [
    "### Packing\n",
    "Packing adalah proses membuat tuple tanpa harus menggunakan konstruktor tuple() atau tanda kurung ( ). Dalam Python, kita dapat membuat tuple hanya dengan mengumpulkan beberapa variabel atau nilai ke dalam satu variabel. Ini disebut tuple packing."
   ]
  },
  {
   "cell_type": "code",
   "execution_count": 3,
   "metadata": {},
   "outputs": [
    {
     "name": "stdout",
     "output_type": "stream",
     "text": [
      "(1, 2, 3, 'hello')\n",
      "<class 'tuple'>\n"
     ]
    }
   ],
   "source": [
    "my_tuple = 1, 2, 3, \"hello\"\n",
    "print(my_tuple)\n",
    "print(type(my_tuple))"
   ]
  },
  {
   "cell_type": "markdown",
   "metadata": {},
   "source": [
    "Pada contoh di atas, kita membuat tuple my_tuple dengan packing nilai 1, 2, 3, dan \"hello\" ke dalam satu variabel tanpa menggunakan tanda kurung. Ini memungkinkan kita untuk mengelompokkan beberapa nilai dalam satu variabel."
   ]
  },
  {
   "cell_type": "markdown",
   "metadata": {},
   "source": [
    "### Unpacking\n",
    "Unpacking adalah proses membongkar nilai-nilai dalam tuple ke dalam variabel yang berbeda. Untuk melakukan unpacking, jumlah variabel harus sama dengan jumlah item dalam tuple."
   ]
  },
  {
   "cell_type": "code",
   "execution_count": 4,
   "metadata": {},
   "outputs": [
    {
     "name": "stdout",
     "output_type": "stream",
     "text": [
      "1\n",
      "2\n",
      "3\n",
      "hello\n"
     ]
    }
   ],
   "source": [
    "my_tuple = (1, 2, 3, \"hello\")\n",
    "a, b, c, d = my_tuple\n",
    "\n",
    "print(a)\n",
    "print(b)\n",
    "print(c)\n",
    "print(d)"
   ]
  },
  {
   "cell_type": "markdown",
   "metadata": {},
   "source": [
    "Pada contoh di atas:\n",
    "- Tuple `my_tuple` di-unpack menjadi empat variabel `a`, `b`, `c`, dan `d`.\n",
    "- Setiap variabel mengambil nilai sesuai dengan urutan item dalam tuple."
   ]
  },
  {
   "cell_type": "markdown",
   "metadata": {},
   "source": [
    "## Length Tuple\n",
    "Kita dapat menemukan panjang (jumlah item) dalam tuple dengan menggunakan fungsi len(). Fungsi ini akan mengembalikan jumlah item dalam tuple."
   ]
  },
  {
   "cell_type": "code",
   "execution_count": 5,
   "metadata": {},
   "outputs": [
    {
     "name": "stdout",
     "output_type": "stream",
     "text": [
      "Panjang tuple: 5\n"
     ]
    }
   ],
   "source": [
    "my_tuple = (1, 2, 3, \"hello\", 5.5)\n",
    "length = len(my_tuple)\n",
    "\n",
    "print(\"Panjang tuple:\", length)"
   ]
  },
  {
   "cell_type": "markdown",
   "metadata": {},
   "source": [
    "## Iterating Tuple \n",
    "Kita dapat mengiterasi setiap item dalam tuple menggunakan loop `for`. Ini memungkinkan kita untuk mengakses dan melakukan operasi pada setiap elemen dalam tuple."
   ]
  },
  {
   "cell_type": "code",
   "execution_count": 6,
   "metadata": {},
   "outputs": [
    {
     "name": "stdout",
     "output_type": "stream",
     "text": [
      "1\n",
      "2\n",
      "3\n",
      "hello\n",
      "5.5\n"
     ]
    }
   ],
   "source": [
    "my_tuple = (1, 2, 3, \"hello\", 5.5)\n",
    "\n",
    "for item in my_tuple:\n",
    "    print(item)"
   ]
  },
  {
   "cell_type": "markdown",
   "metadata": {},
   "source": [
    "## Mengakses Item pada Tuple\n",
    "Tuple dapat diakses melalui `indexing` dan `slicing`\n",
    "\n",
    "### Indexing\n",
    "Dengan menggunakan indexing, kita dapat mengakses item tertentu dari tuple menggunakan nomor indeksnya. Kita dapat mengakses item dalam tuple dengan menggunakan nomor indeks di dalam operator indeks `[ ]`. Proses ini disebut indexing."
   ]
  },
  {
   "cell_type": "code",
   "execution_count": 7,
   "metadata": {},
   "outputs": [
    {
     "name": "stdout",
     "output_type": "stream",
     "text": [
      "Item pada indeks 2: 30\n"
     ]
    }
   ],
   "source": [
    "my_tuple = (10, 20, 30, \"hello\", 50.5)\n",
    "\n",
    "# Mengakses item dengan indeks 2\n",
    "item = my_tuple[2]\n",
    "print(\"Item pada indeks 2:\", item)  # Output: Item pada indeks 2: 30"
   ]
  },
  {
   "cell_type": "markdown",
   "metadata": {},
   "source": [
    "<strong>Catatan : </strong>\n",
    "- Indeks Dimulai dari 0: Indeks untuk tuple dimulai dari 0 hingga panjang tuple dikurangi satu."
   ]
  },
  {
   "cell_type": "code",
   "execution_count": 8,
   "metadata": {},
   "outputs": [
    {
     "ename": "IndexError",
     "evalue": "list index out of range",
     "output_type": "error",
     "traceback": [
      "\u001b[1;31m---------------------------------------------------------------------------\u001b[0m",
      "\u001b[1;31mIndexError\u001b[0m                                Traceback (most recent call last)",
      "Cell \u001b[1;32mIn[8], line 2\u001b[0m\n\u001b[0;32m      1\u001b[0m tup \u001b[38;5;241m=\u001b[39m [\u001b[38;5;124m\"\u001b[39m\u001b[38;5;124mD\u001b[39m\u001b[38;5;124m\"\u001b[39m, \u001b[38;5;124m\"\u001b[39m\u001b[38;5;124mE\u001b[39m\u001b[38;5;124m\"\u001b[39m, \u001b[38;5;124m\"\u001b[39m\u001b[38;5;124mE\u001b[39m\u001b[38;5;124m\"\u001b[39m, \u001b[38;5;124m\"\u001b[39m\u001b[38;5;124mP\u001b[39m\u001b[38;5;124m\"\u001b[39m, \u001b[38;5;124m\"\u001b[39m\u001b[38;5;124mA\u001b[39m\u001b[38;5;124m\"\u001b[39m, \u001b[38;5;124m\"\u001b[39m\u001b[38;5;124mL\u001b[39m\u001b[38;5;124m\"\u001b[39m, \u001b[38;5;124m\"\u001b[39m\u001b[38;5;124mI\u001b[39m\u001b[38;5;124m\"\u001b[39m]\n\u001b[1;32m----> 2\u001b[0m \u001b[38;5;28mprint\u001b[39m(tup[\u001b[38;5;241m7\u001b[39m])\n",
      "\u001b[1;31mIndexError\u001b[0m: list index out of range"
     ]
    }
   ],
   "source": [
    "tup = [\"D\", \"E\", \"E\", \"P\", \"A\", \"L\", \"I\"]\n",
    "print(tup[7])  # Ini akan mengakibatkan IndexError"
   ]
  },
  {
   "cell_type": "markdown",
   "metadata": {},
   "source": [
    "- Jika kita mencoba mengakses item dengan indeks yang lebih besar dari panjang tuple, maka akan terjadi kesalahan `IndexError`."
   ]
  },
  {
   "cell_type": "code",
   "execution_count": 9,
   "metadata": {},
   "outputs": [
    {
     "ename": "TypeError",
     "evalue": "tuple indices must be integers or slices, not float",
     "output_type": "error",
     "traceback": [
      "\u001b[1;31m---------------------------------------------------------------------------\u001b[0m",
      "\u001b[1;31mTypeError\u001b[0m                                 Traceback (most recent call last)",
      "Cell \u001b[1;32mIn[9], line 3\u001b[0m\n\u001b[0;32m      1\u001b[0m tuple1 \u001b[38;5;241m=\u001b[39m (\u001b[38;5;124m'\u001b[39m\u001b[38;5;124mP\u001b[39m\u001b[38;5;124m'\u001b[39m, \u001b[38;5;124m'\u001b[39m\u001b[38;5;124mY\u001b[39m\u001b[38;5;124m'\u001b[39m, \u001b[38;5;124m'\u001b[39m\u001b[38;5;124mT\u001b[39m\u001b[38;5;124m'\u001b[39m, \u001b[38;5;124m'\u001b[39m\u001b[38;5;124mH\u001b[39m\u001b[38;5;124m'\u001b[39m, \u001b[38;5;124m'\u001b[39m\u001b[38;5;124mO\u001b[39m\u001b[38;5;124m'\u001b[39m, \u001b[38;5;124m'\u001b[39m\u001b[38;5;124mN\u001b[39m\u001b[38;5;124m'\u001b[39m)\n\u001b[0;32m      2\u001b[0m \u001b[38;5;66;03m# Ini akan menghasilkan TypeError\u001b[39;00m\n\u001b[1;32m----> 3\u001b[0m \u001b[38;5;28mprint\u001b[39m(tuple1[\u001b[38;5;241m2.0\u001b[39m])\n",
      "\u001b[1;31mTypeError\u001b[0m: tuple indices must be integers or slices, not float"
     ]
    }
   ],
   "source": [
    "tuple1 = ('P', 'Y', 'T', 'H', 'O', 'N')\n",
    "# Ini akan menghasilkan TypeError\n",
    "print(tuple1[2.0])  # TypeError: tuple indices must be integers or slices, not float"
   ]
  },
  {
   "cell_type": "markdown",
   "metadata": {},
   "source": [
    "\n",
    "- Nilai indeks selalu berupa bilangan bulat. Jika kita memberikan tipe data lain, maka akan terjadi kesalahan `TypeError`."
   ]
  },
  {
   "cell_type": "markdown",
   "metadata": {},
   "source": [
    "### Negative Indexing \n",
    "Nilai indeks juga dapat berupa angka negatif, di mana indeks negatif mengacu pada item dari akhir tuple. Indeks terakhir adalah -1, indeks kedua terakhir adalah -2, dan seterusnya."
   ]
  },
  {
   "cell_type": "code",
   "execution_count": 10,
   "metadata": {},
   "outputs": [
    {
     "name": "stdout",
     "output_type": "stream",
     "text": [
      "N\n",
      "O\n",
      "P, Y, T, H, O, N, "
     ]
    }
   ],
   "source": [
    "tuple1 = ('P', 'Y', 'T', 'H', 'O', 'N')\n",
    "\n",
    "# Mengakses item terakhir\n",
    "print(tuple1[-1])  # Output: N\n",
    "\n",
    "# Mengakses item kedua terakhir\n",
    "print(tuple1[-2])  # Output: O\n",
    "\n",
    "# Iterasi tuple menggunakan negative indexing\n",
    "for i in range(-6, 0):\n",
    "    print(tuple1[i], end=\", \")  \n",
    "# Output: P, Y, T, H, O, N,\n"
   ]
  },
  {
   "cell_type": "markdown",
   "metadata": {},
   "source": [
    "## Slicing Tuple\n",
    "Kita dapat mengakses rentang item dari tuple menggunakan teknik yang disebut slicing. Operator yang digunakan untuk slicing adalah `:`\n",
    "\n",
    "Kita dapat menentukan nilai awal dan akhir untuk rentang item yang akan diakses dari tuple. Output dari operasi slicing akan berupa tuple yang mencakup rentang item dari indeks awal hingga sebelum indeks akhir (indeks akhir tidak termasuk)."
   ]
  },
  {
   "cell_type": "code",
   "execution_count": 11,
   "metadata": {},
   "outputs": [
    {
     "name": "stdout",
     "output_type": "stream",
     "text": [
      "(1, 2, 3, 4)\n"
     ]
    }
   ],
   "source": [
    "tuple1 = (0, 1, 2, 3, 4, 5, 6, 7, 8, 9, 10)\n",
    "\n",
    "# Slicing tuple dengan nomor indeks awal dan akhir\n",
    "print(tuple1[1:5])"
   ]
  },
  {
   "cell_type": "markdown",
   "metadata": {},
   "source": [
    "Pada contoh di atas, kita mencetak nilai dari indeks 1 hingga 4. Nilai pada indeks 5 tidak termasuk dalam hasil slicing.\n",
    "\n",
    "<strong> Catatan : </strong>\n",
    "- Indeks Dimulai dari `0`: Ingat bahwa nilai indeks selalu dimulai dari `0`.\n",
    "- Jika nilai awal tidak disebutkan, maka slicing akan dimulai dari item pertama hingga item terakhir yang ditentukan dalam rentang (item akhir tidak termasuk)."
   ]
  },
  {
   "cell_type": "code",
   "execution_count": 12,
   "metadata": {},
   "outputs": [
    {
     "name": "stdout",
     "output_type": "stream",
     "text": [
      "(0, 1, 2, 3, 4)\n",
      "(6, 7, 8, 9, 10)\n"
     ]
    }
   ],
   "source": [
    "tuple1 = (0, 1, 2, 3, 4, 5, 6, 7, 8, 9, 10)\n",
    "\n",
    "print(tuple1[:5])\n",
    "print(tuple1[6:])"
   ]
  },
  {
   "cell_type": "markdown",
   "metadata": {},
   "source": [
    "Kita juga dapat melakukan slicing menggunakan indeks negatif. Indeks negatif memungkinkan kita untuk mengakses item dari akhir tuple."
   ]
  },
  {
   "cell_type": "code",
   "execution_count": null,
   "metadata": {},
   "outputs": [],
   "source": [
    "tuple1 = (0, 1, 2, 3, 4, 5, 6, 7, 8, 9, 10)\n",
    "\n",
    "# Mengakses item dengan indeks negatif\n",
    "print(tuple1[-5:-1])  # Output: (6, 7, 8, 9)"
   ]
  },
  {
   "cell_type": "markdown",
   "metadata": {},
   "source": [
    "Dalam contoh di atas, kita mencetak item dengan indeks negatif dari -5 hingga -1, dengan -1 tidak termasuk dalam hasil. Jadi, yang dicetak adalah item dengan indeks 6, 7, dan 8."
   ]
  },
  {
   "cell_type": "markdown",
   "metadata": {},
   "source": [
    "## Mencari Item dalam Tuple\n",
    "Kita dapat mencari item tertentu dalam tuple menggunakan metode index(), yang akan mengembalikan posisi item tersebut dalam tuple.\n",
    "\n",
    "Menggunakan metode `index()` dapat menerima hingga tiga parameter atau argumen:\n",
    "- `item`: Item yang perlu dicari.\n",
    "- `start`: (Opsional) Nilai indeks awal dari mana pencarian akan dimulai.\n",
    "- `end`: (Opsional) Nilai indeks akhir dari pencarian."
   ]
  },
  {
   "cell_type": "code",
   "execution_count": 13,
   "metadata": {},
   "outputs": [
    {
     "name": "stdout",
     "output_type": "stream",
     "text": [
      "2\n"
     ]
    }
   ],
   "source": [
    "tuple1 = (10, 20, 30, 40, 50)\n",
    "\n",
    "# Mendapatkan indeks dari item 30\n",
    "position = tuple1.index(30)\n",
    "print(position)  # Output: 2"
   ]
  },
  {
   "cell_type": "markdown",
   "metadata": {},
   "source": [
    "Pada contoh di atas, index() mencari item 30 dalam tuple1 dan mengembalikan indeksnya, yaitu 2."
   ]
  },
  {
   "cell_type": "markdown",
   "metadata": {},
   "source": [
    "## Mencari Dalam Rentang\n",
    "Kita juga dapat menentukan nilai awal dan akhir untuk metode index() sehingga pencarian dibatasi pada rentang tersebut."
   ]
  },
  {
   "cell_type": "code",
   "execution_count": 14,
   "metadata": {},
   "outputs": [
    {
     "name": "stdout",
     "output_type": "stream",
     "text": [
      "5\n"
     ]
    }
   ],
   "source": [
    "tuple1 = (10, 20, 30, 40, 50, 60, 70, 80)\n",
    "\n",
    "position = tuple1.index(60, 4, 6)\n",
    "print(position)  # Output: 5"
   ]
  },
  {
   "cell_type": "markdown",
   "metadata": {},
   "source": [
    "Dalam contoh ini, pencarian untuk item 60 dibatasi pada indeks 4 hingga 6, dan hasilnya adalah 5"
   ]
  },
  {
   "cell_type": "markdown",
   "metadata": {},
   "source": [
    "## Memeriksa Apakah Item Ada\n",
    "Kita dapat memeriksa apakah item ada dalam tuple menggunakan operator in. Ini akan mengembalikan nilai boolean True jika item ada dan False jika tidak."
   ]
  },
  {
   "cell_type": "code",
   "execution_count": null,
   "metadata": {},
   "outputs": [
    {
     "name": "stdout",
     "output_type": "stream",
     "text": [
      "True\n",
      "False\n"
     ]
    }
   ],
   "source": [
    "tuple1 = (10, 20, 30, 40, 50, 60, 70, 80)\n",
    "\n",
    "# Memeriksa apakah item 50 ada dalam tuple\n",
    "print(50 in tuple1)  # Output: True\n",
    "\n",
    "# Memeriksa apakah item 500 ada dalam tuple\n",
    "print(500 in tuple1)  # Output: False"
   ]
  },
  {
   "cell_type": "markdown",
   "metadata": {},
   "source": [
    "## Menambahkan dan Mengubah Item dalam Tuple\n",
    "\n",
    "Tuple adalah tipe data yang immutable, yang berarti kita tidak dapat mengubah nilai di dalamnya setelah tuple dibuat. Ini berbeda dengan list yang bersifat mutable, sehingga kita dapat menambah atau memodifikasi nilainya."
   ]
  },
  {
   "cell_type": "markdown",
   "metadata": {},
   "source": [
    "### Menambahkan Item ke Tuple\n",
    "\n",
    "Karena tuple tidak dapat diubah, tidak ada metode bawaan untuk menambahkan item langsung ke tuple. Namun, kita dapat menggunakan solusi alternatif dengan mengonversi tuple menjadi list, menambahkan item ke list tersebut, dan kemudian mengonversinya kembali ke tuple"
   ]
  },
  {
   "cell_type": "code",
   "execution_count": 17,
   "metadata": {},
   "outputs": [
    {
     "name": "stdout",
     "output_type": "stream",
     "text": [
      "(1, 2, 3, 4, 5, 6)\n"
     ]
    }
   ],
   "source": [
    "tup1 = (1, 2, 3, 4, 5)\n",
    "\n",
    "a = list(tup1)\n",
    "a.append(6)\n",
    "\n",
    "tup1 = tuple(a)\n",
    "print(tup1)"
   ]
  },
  {
   "cell_type": "markdown",
   "metadata": {},
   "source": [
    "### Mengubah Item dalam Tuple\n",
    "Karena tuple itu immutable, kita tidak bisa mengubah nilainya langsung. Namun, jika salah satu item dalam tuple adalah tipe data yang mutable (seperti list), kita dapat mengubah nilai dalam item tersebut."
   ]
  },
  {
   "cell_type": "code",
   "execution_count": 18,
   "metadata": {},
   "outputs": [
    {
     "name": "stdout",
     "output_type": "stream",
     "text": [
      "(5, 6, 7, [8, 9, 10])\n",
      "(5, 6, 7, [89, 9, 10])\n"
     ]
    }
   ],
   "source": [
    "tup = (5, 6, 7, [8, 9, 10])\n",
    "print(tup)\n",
    "\n",
    "tup[3][0] = 89\n",
    "print(tup)"
   ]
  },
  {
   "cell_type": "markdown",
   "metadata": {},
   "source": [
    "Pada contoh di atas, kita memiliki tuple tup yang berisi list sebagai item terakhir. Kita mengubah nilai pertama dalam list tersebut dari 8 menjadi 89. Ini berhasil karena list adalah tipe data yang mutable."
   ]
  },
  {
   "cell_type": "markdown",
   "metadata": {},
   "source": [
    "## Menghapus Item dari Tuple\n",
    "\n",
    "Tuple bersifat immutable, yang berarti kita tidak dapat menghapus item dari tuple secara langsung menggunakan metode seperti pop() atau remove(). Namun, ada dua cara untuk menghapus item dari tuple:\n",
    "- Menggunakan Keyword del\n",
    "- Dengan Mengonversi Tuple Menjadi List"
   ]
  },
  {
   "cell_type": "markdown",
   "metadata": {},
   "source": [
    "#### Menggunakan Keyword `del`\n",
    "Keyword del dapat digunakan untuk menghapus seluruh tuple. Setelah tuple dihapus, kita tidak dapat mengaksesnya lagi, dan mencoba untuk melakukannya akan menghasilkan kesalahan."
   ]
  },
  {
   "cell_type": "code",
   "execution_count": 19,
   "metadata": {},
   "outputs": [
    {
     "name": "stdout",
     "output_type": "stream",
     "text": [
      "name 'a' is not defined\n"
     ]
    }
   ],
   "source": [
    "a = (2, 3, 4, 5, 6)\n",
    "del a  # Menghapus tuple\n",
    "\n",
    "# Mencoba mengakses tuple yang sudah dihapus\n",
    "try:\n",
    "    print(a)  # Ini akan menghasilkan NameError\n",
    "except NameError as e:\n",
    "    print(e)  # Output: name 'a' is not defined"
   ]
  },
  {
   "cell_type": "markdown",
   "metadata": {},
   "source": [
    "Pada contoh di atas, setelah kita menghapus tuple a, setiap upaya untuk mengaksesnya menghasilkan kesalahan NameError, karena a tidak lagi terdefinisi."
   ]
  },
  {
   "cell_type": "markdown",
   "metadata": {},
   "source": [
    "#### Dengan Mengonversi Tuple Menjadi List\n",
    "Jika kita ingin menghapus item tertentu dari tuple, kita dapat mengonversi tuple menjadi list, menghapus item yang diinginkan, dan kemudian mengonversinya kembali menjadi tuple."
   ]
  },
  {
   "cell_type": "code",
   "execution_count": 20,
   "metadata": {},
   "outputs": [
    {
     "name": "stdout",
     "output_type": "stream",
     "text": [
      "(0, 1, 3, 4, 5)\n"
     ]
    }
   ],
   "source": [
    "tuple1 = (0, 1, 2, 3, 4, 5)\n",
    "\n",
    "# Mengonversi tuple menjadi list\n",
    "sample_list = list(tuple1)\n",
    "\n",
    "# Menghapus item kedua\n",
    "sample_list.remove(2)\n",
    "\n",
    "# Mengonversi list kembali menjadi tuple\n",
    "tuple1 = tuple(sample_list)\n",
    "print(tuple1)  # Output: (0, 1, 3, 4, 5)\n"
   ]
  },
  {
   "cell_type": "markdown",
   "metadata": {},
   "source": [
    "Dalam contoh ini, kita mengonversi tuple1 menjadi list `sample_list`, kemudian menghapus item 2 dari list tersebut menggunakan `remove()`. Setelah itu, kita mengonversi list kembali menjadi tuple, dan hasil akhirnya adalah `(0, 1, 3, 4, 5)`."
   ]
  },
  {
   "cell_type": "markdown",
   "metadata": {},
   "source": [
    "## Menghitung Jumlah Kemunculan Item dalam Tuple\n",
    "\n",
    "Tuple dapat berisi item duplikat. Untuk menentukan seberapa sering item tertentu muncul dalam tuple, kita dapat menggunakan metode `count()` dari objek tuple.\n",
    "\n",
    "Metode `count()` menerima satu parameter yang merupakan nilai yang ingin kita hitung kemunculannya dalam tuple. Metode ini akan mengembalikan jumlah kemunculan nilai tersebut."
   ]
  },
  {
   "cell_type": "code",
   "execution_count": 21,
   "metadata": {},
   "outputs": [
    {
     "name": "stdout",
     "output_type": "stream",
     "text": [
      "3\n",
      "0\n"
     ]
    }
   ],
   "source": [
    "tuple1 = (10, 20, 60, 30, 60, 40, 60)\n",
    "\n",
    "# Menghitung semua kemunculan item 60\n",
    "count = tuple1.count(60)\n",
    "print(count)  # Output: 3\n",
    "\n",
    "# Menghitung kemunculan item 600\n",
    "count = tuple1.count(600)\n",
    "print(count)  # Output: 0\n"
   ]
  },
  {
   "cell_type": "markdown",
   "metadata": {},
   "source": [
    "## Menggabungkan Dua Tuple\n",
    "Kita dapat menggabungkan dua atau lebih tuple dengan beberapa cara. Perlu dicatat bahwa tuple memungkinkan adanya duplikat, jadi jika dua tuple memiliki item yang sama, item tersebut akan muncul dua kali dalam tuple hasil penggabungan.\n"
   ]
  },
  {
   "cell_type": "markdown",
   "metadata": {},
   "source": [
    "\n",
    "### Menggunakan Operator `+`\n",
    "Kita dapat menambahkan dua tuple menggunakan operator `+`. Ini adalah metode yang sederhana dan langsung, dan tuple hasil penggabungan akan memiliki item dari kedua tuple."
   ]
  },
  {
   "cell_type": "code",
   "execution_count": 22,
   "metadata": {},
   "outputs": [
    {
     "name": "stdout",
     "output_type": "stream",
     "text": [
      "(1, 2, 3, 4, 5, 3, 4, 5, 6, 7)\n"
     ]
    }
   ],
   "source": [
    "tuple1 = (1, 2, 3, 4, 5)\n",
    "tuple2 = (3, 4, 5, 6, 7)\n",
    "\n",
    "# Menggabungkan tuple menggunakan operator +\n",
    "tuple3 = tuple1 + tuple2\n",
    "print(tuple3)  \n",
    "# Output: (1, 2, 3, 4, 5, 3, 4, 5, 6, 7)\n"
   ]
  },
  {
   "cell_type": "markdown",
   "metadata": {},
   "source": [
    "### Menggunakan Fungsi `sum()`\n",
    "\n",
    "Kita juga dapat menggunakan fungsi bawaan Python sum untuk menggabungkan dua tuple. Namun, fungsi `sum` untuk dua iterable seperti tuple selalu memerlukan tuple kosong sebagai argumen awal."
   ]
  },
  {
   "cell_type": "code",
   "execution_count": null,
   "metadata": {},
   "outputs": [
    {
     "name": "stdout",
     "output_type": "stream",
     "text": [
      "(1, 2, 3, 4, 5, 3, 4, 5, 6, 7)\n"
     ]
    }
   ],
   "source": [
    "tuple1 = (1, 2, 3, 4, 5)\n",
    "tuple2 = (3, 4, 5, 6, 7)\n",
    "\n",
    "# Menggunakan fungsi sum\n",
    "tuple3 = sum((tuple1, tuple2), ())\n",
    "print(tuple3)  \n",
    "# Output: (1, 2, 3, 4, 5, 3, 4, 5, 6, 7)"
   ]
  }
 ],
 "metadata": {
  "kernelspec": {
   "display_name": "analytics",
   "language": "python",
   "name": "python3"
  },
  "language_info": {
   "codemirror_mode": {
    "name": "ipython",
    "version": 3
   },
   "file_extension": ".py",
   "mimetype": "text/x-python",
   "name": "python",
   "nbconvert_exporter": "python",
   "pygments_lexer": "ipython3",
   "version": "3.11.8"
  }
 },
 "nbformat": 4,
 "nbformat_minor": 2
}
