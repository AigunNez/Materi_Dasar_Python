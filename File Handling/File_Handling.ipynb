{
  "nbformat": 4,
  "nbformat_minor": 0,
  "metadata": {
    "colab": {
      "provenance": []
    },
    "kernelspec": {
      "name": "python3",
      "display_name": "Python 3"
    },
    "language_info": {
      "name": "python"
    }
  },
  "cells": [
    {
      "cell_type": "markdown",
      "source": [
        "# File Handling atau File Operation\n",
        "\n",
        "\n",
        "Membaca dan menulis file adalah teknik dasar yang sangat penting dalam pemrograman Python, terutama karena banyak digunakan untuk pengolahan dan pemrosesan data yang disimpan dalam file. Pemahaman ini membuka jalan untuk membuat aplikasi yang dapat mengambil, menyimpan, dan memproses data secara lebih fleksibel.\n",
        "\n",
        "\n",
        "### Pentingnya Membaca dan Menulis File\n",
        "- Menyimpan Data: Memungkinkan aplikasi untuk menyimpan data secara permanen, bahkan setelah program dihentikan.\n",
        "- Interoperabilitas: Membaca dan menulis file membantu dalam mengelola data yang diterima atau dikirim ke format seperti JSON, XML, CSV, atau bahkan file biner.\n",
        "- Pengolahan Data: Memahami cara membaca dan menulis file membuka pintu untuk manipulasi data yang lebih kompleks, seperti parsing file teks atau memproses file media.\n",
        "\n",
        "## Tipe File di Python\n",
        "Di Python, file dikategorikan menjadi dua tipe utama:\n",
        "\n",
        "1. File Teks\n",
        "  - File yang berisi teks yang dapat dibaca manusia.\n",
        "  - Setiap baris teks memiliki tanda End of Line (EOL), biasanya berupa karakter newline (\\n).\n",
        "  - Contoh file teks: .txt, .csv, .json, .md.\n",
        "\n",
        "2.  File Biner\n",
        "  - File yang berisi data dalam format biner yang hanya bisa diproses oleh program tertentu.\n",
        "  - Tidak dapat dibaca secara langsung oleh manusia tanpa di-decode.\n",
        "  - Contoh file biner: .exe, .jpg, .mkv, .zip.\n",
        "\n",
        "## Cara Membaca File di Python\n",
        "Python sudah menyediakan fungsi `open()` untuk membaca dan menulis file.\n",
        "\n",
        "Fungsi ini memiliki dua parameter, yaitu nama file dan mode."
      ],
      "metadata": {
        "id": "pMjRFQ9L79qb"
      }
    },
    {
      "cell_type": "markdown",
      "source": [
        "![fungsi-open.png](data:image/png;base64,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)"
      ],
      "metadata": {
        "id": "OuBy5S3vA0Hw"
      }
    },
    {
      "cell_type": "markdown",
      "source": [
        "Objek file adalah variabel objek yang menampung isi file. Kita bisa melakukan pemrosesan file berkatnya.\n",
        "\n",
        "Nama file bisa kita isi langsung apabila file-nya terletak dalam satu direktori dengan skrip python. Namun, apabila terletak di direktori yang berbeda, maka kita harus memberikan alamat path file-nya.\n",
        "\n",
        "Misalnya seperti ini:\n",
        "\n",
        "``` obj_file = open('data/filename.csv', mode) ``` <br>\n",
        "Kemudian untuk parameter mode berfungsi untuk menentukan hak akses terhadap file.\n",
        "\n",
        "Ada beberapa mode yang tersedia:"
      ],
      "metadata": {
        "id": "nxpy3-l6A-RQ"
      }
    },
    {
      "cell_type": "markdown",
      "source": [
        "| Mode | Keterangan |\n",
        "| --- | --- |\n",
        "| \"r\" |\thanya baca saja |\n",
        "| “w” |\takses untuk menulis file, jika file sudah ada, maka file akan di replace dan diganti dengan yang baru ditulis |\n",
        "| \"a\"\t| digunakan untuk append atau menambah data ke file, artinya jika sudah ada data dalam file, maka akan ditambahkan dan tidak di-replace |\n",
        "| \"r+\" |\tdigunakan untuk membaca sekaligus menulis data ke file |\n",
        "| \"x\" | Membuat spesifik file, dan mengembalikan error jika file sudah ada |"
      ],
      "metadata": {
        "id": "WYjf1yM_Eqtt"
      }
    },
    {
      "cell_type": "markdown",
      "source": [
        "## Membaca Sebuah File\n",
        "\n",
        "Di Python, mode default untuk membuka file adalah membaca. Oleh karena itu, kita tidak perlu secara eksplisit menentukan mode 'r' atau 'r+' untuk membaca file teks.\n",
        "\n",
        "Berikut adalah contoh langkah demi langkah cara membaca file menggunakan berbagai metode."
      ],
      "metadata": {
        "id": "OgdpAs6nnsjN"
      }
    },
    {
      "cell_type": "markdown",
      "source": [
        "### Membuka File dan Informasi File\n",
        "\n",
        "Ketika kita membuka file menggunakan fungsi `open()`, Python akan mengembalikan objek file. kita dapat mencetak objek ini untuk melihat informasi seperti nama file, mode, dan encoding."
      ],
      "metadata": {
        "id": "kduQTtlIoV1m"
      }
    },
    {
      "cell_type": "code",
      "source": [
        "f = open('./files/reading_file_example.txt')\n",
        "print(f)\n",
        "# Output: <_io.TextIOWrapper name='./files/reading_file_example.txt' mode='r' encoding='UTF-8'>\n"
      ],
      "metadata": {
        "id": "Tw1_kmwFoLyg",
        "colab": {
          "base_uri": "https://localhost:8080/"
        },
        "outputId": "bf6d40f9-d575-4887-e7a5-970cc8a267cf"
      },
      "execution_count": null,
      "outputs": [
        {
          "output_type": "stream",
          "name": "stdout",
          "text": [
            "<_io.TextIOWrapper name='./files/reading_file_example.txt' mode='r' encoding='UTF-8'>\n"
          ]
        }
      ]
    },
    {
      "cell_type": "markdown",
      "source": [
        "### Metode Membaca File\n",
        "Berikut adalah metode utama yang digunakan untuk membaca file:\n",
        "\n",
        "#### 1. read()\n",
        "Membaca seluruh teks file sebagai string. Anda juga dapat membatasi jumlah karakter yang ingin dibaca dengan melewatkan angka ke read(number).\n",
        "\n",
        "Contoh: Membaca Seluruh Isi File"
      ],
      "metadata": {
        "id": "WTIeNW4DoinQ"
      }
    },
    {
      "cell_type": "code",
      "source": [
        "f = open('./files/reading_file_example.txt')\n",
        "txt = f.read()\n",
        "print(type(txt))  # Output: <class 'str'>\n",
        "print(txt)\n",
        "f.close()"
      ],
      "metadata": {
        "id": "U2YngW2ho12t",
        "colab": {
          "base_uri": "https://localhost:8080/"
        },
        "outputId": "0933f04d-d13c-4965-e09e-d7efb0c550ce"
      },
      "execution_count": null,
      "outputs": [
        {
          "output_type": "stream",
          "name": "stdout",
          "text": [
            "<class 'str'>\n",
            "Nama Saya Mahdy\n",
            "Sekarang Tinggal di Surabaya\n",
            "Kelahiran kota palangkaraya, kalimantan tengah\n"
          ]
        }
      ]
    },
    {
      "cell_type": "markdown",
      "source": [
        "Contoh: Membaca 10 Karakter Pertama"
      ],
      "metadata": {
        "id": "dZHCUkTfo3OM"
      }
    },
    {
      "cell_type": "code",
      "source": [
        "f = open('./files/reading_file_example.txt')\n",
        "txt = f.read(10)\n",
        "print(type(txt))  # Output: <class 'str'>\n",
        "print(txt)        # Output: This is an\n",
        "f.close()\n"
      ],
      "metadata": {
        "id": "won5kUa1o2mh",
        "colab": {
          "base_uri": "https://localhost:8080/"
        },
        "outputId": "ca5d9617-0573-417b-db0e-2ba9baf741dd"
      },
      "execution_count": null,
      "outputs": [
        {
          "output_type": "stream",
          "name": "stdout",
          "text": [
            "<class 'str'>\n",
            "Nama Saya \n"
          ]
        }
      ]
    },
    {
      "cell_type": "markdown",
      "source": [
        "#### 2. readline()\n",
        "Membaca hanya satu baris pertama dari file.\n",
        "\n",
        "Contoh:"
      ],
      "metadata": {
        "id": "vTwKWIs5o_qP"
      }
    },
    {
      "cell_type": "code",
      "source": [
        "f = open('./files/reading_file_example.txt')\n",
        "line = f.readline()\n",
        "print(type(line))  # Output: <class 'str'>\n",
        "print(line)        # Output: This is an example to show how to open a file and read.\n",
        "f.close()\n"
      ],
      "metadata": {
        "id": "x0sYmPVgpJ-a",
        "colab": {
          "base_uri": "https://localhost:8080/"
        },
        "outputId": "0a9093f4-529f-41ee-86b0-70ad39a173fe"
      },
      "execution_count": null,
      "outputs": [
        {
          "output_type": "stream",
          "name": "stdout",
          "text": [
            "<class 'str'>\n",
            "Nama Saya Mahdy\n",
            "\n"
          ]
        }
      ]
    },
    {
      "cell_type": "markdown",
      "source": [
        "#### 3. readlines()\n",
        "Membaca semua baris dari file dan mengembalikannya sebagai list. Setiap elemen list adalah satu baris teks.\n",
        "\n",
        "Contoh:"
      ],
      "metadata": {
        "id": "19vJwHEHpTK7"
      }
    },
    {
      "cell_type": "code",
      "source": [
        "f = open('./files/reading_file_example.txt')\n",
        "lines = f.readlines()\n",
        "print(type(lines))  # Output: <class 'list'>\n",
        "print(lines)        # Output: ['This is an example to show how to open a file and read.\\n', 'This is the second line of the text.']\n",
        "f.close()\n"
      ],
      "metadata": {
        "id": "e7Fc3XD-pVsX",
        "colab": {
          "base_uri": "https://localhost:8080/"
        },
        "outputId": "d395e511-8858-432c-f575-947695b54626"
      },
      "execution_count": null,
      "outputs": [
        {
          "output_type": "stream",
          "name": "stdout",
          "text": [
            "<class 'list'>\n",
            "['Nama Saya Mahdy\\n', 'Sekarang Tinggal di Surabaya\\n', 'Kelahiran kota palangkaraya, kalimantan tengah']\n"
          ]
        }
      ]
    },
    {
      "cell_type": "markdown",
      "source": [
        "#### 4. splitlines()\n",
        "Mengembalikan semua baris teks sebagai list, tetapi tanpa karakter newline (\\n).\n"
      ],
      "metadata": {
        "id": "1HtvcJJ2pYAM"
      }
    },
    {
      "cell_type": "code",
      "source": [
        "f = open('./files/reading_file_example.txt')\n",
        "lines = f.read().splitlines()\n",
        "print(type(lines))  # Output: <class 'list'>\n",
        "print(lines)        # Output: ['This is an example to show how to open a file and read.', 'This is the second line of the text.']\n",
        "f.close()\n"
      ],
      "metadata": {
        "id": "yv5Rajigpb37",
        "colab": {
          "base_uri": "https://localhost:8080/"
        },
        "outputId": "600944e1-e6df-4a9b-ee97-5a68b2fc944f"
      },
      "execution_count": null,
      "outputs": [
        {
          "output_type": "stream",
          "name": "stdout",
          "text": [
            "<class 'list'>\n",
            "['Nama Saya Mahdy', 'Sekarang Tinggal di Surabaya', 'Kelahiran kota palangkaraya, kalimantan tengah']\n"
          ]
        }
      ]
    },
    {
      "cell_type": "markdown",
      "source": [
        "### Menggunakan `with` untuk Membuka File\n",
        "Salah satu kelemahan menggunakan metode tradisional adalah risiko lupa menutup file dengan `f.close()`. Untuk mengatasi ini, Python menyediakan cara yang lebih baik menggunakan `with`. Ketika menggunakan `with`, file akan otomatis ditutup setelah selesai digunakan.\n",
        "\n",
        "Contoh: Membaca File dengan with"
      ],
      "metadata": {
        "id": "rVkGCf1XphAN"
      }
    },
    {
      "cell_type": "code",
      "source": [
        "with open('./files/reading_file_example.txt') as f:\n",
        "    lines = f.read()\n",
        "    print(type(lines))  # Output: <class 'list'>\n",
        "    print(lines)        # Output: ['This is an example to show how to open a file and read.', 'This is the second line of the text.']"
      ],
      "metadata": {
        "id": "cCoLOX5PprNI",
        "colab": {
          "base_uri": "https://localhost:8080/"
        },
        "outputId": "45052e7d-98bd-4848-9314-677b2aa21142"
      },
      "execution_count": null,
      "outputs": [
        {
          "output_type": "stream",
          "name": "stdout",
          "text": [
            "<class 'str'>\n",
            "Nama Saya Mahdy\n",
            "Sekarang Tinggal di Surabaya\n",
            "Kelahiran kota palangkaraya, kalimantan tengah\n"
          ]
        }
      ]
    },
    {
      "cell_type": "markdown",
      "source": [
        "## Membuka File untuk Menulis dan Memperbarui\n",
        "Untuk menulis ke file yang sudah ada atau membuat file baru, kita dapat menentukan mode sebagai parameter untuk fungsi `open()` Mode yang sering digunakan untuk menulis dan memperbarui file adalah:\n",
        "\n",
        "- \"a\" (append):\n",
        "  - Menambahkan teks di akhir file tanpa menghapus konten yang sudah ada.\n",
        "  - Jika file belum ada, file baru akan dibuat.\n",
        "- \"w\" (write):\n",
        "  - Menimpa (overwrite) konten yang sudah ada di file.\n",
        "  - Jika file belum ada, file baru akan dibuat."
      ],
      "metadata": {
        "id": "lk4Ogj1eq3FV"
      }
    },
    {
      "cell_type": "markdown",
      "source": [
        "### Menambahkan Teks ke File (Mode \"a\")\n",
        "Mode \"a\" digunakan untuk menambahkan teks di akhir file. Ini tidak akan menghapus konten file yang sudah ada."
      ],
      "metadata": {
        "id": "iNgusizGrRHG"
      }
    },
    {
      "cell_type": "code",
      "source": [
        "# Menambahkan teks ke file\n",
        "with open('./files/reading_file_example.txt', 'a') as f:\n",
        "    f.write('\\nThis text has to be appended at the end')\n"
      ],
      "metadata": {
        "id": "O7CBNBkDrVCU"
      },
      "execution_count": null,
      "outputs": []
    },
    {
      "cell_type": "markdown",
      "source": [
        "Setelah kode ini dijalankan, file reading_file_example.txt akan memiliki teks baru yang ditambahkan di akhir file."
      ],
      "metadata": {
        "id": "OJpRNj3UrYRB"
      }
    },
    {
      "cell_type": "markdown",
      "source": [
        "### Menulis ke File Baru atau Menimpa File (Mode \"w\")\n",
        "Mode \"w\" digunakan untuk menulis ke file. Jika file sudah ada, kontennya akan ditimpa. Jika file belum ada, file baru akan dibuat."
      ],
      "metadata": {
        "id": "BGLK9E5VrbIE"
      }
    },
    {
      "cell_type": "code",
      "source": [
        "# Menulis teks ke file baru\n",
        "with open('./files/writing_file_example.txt', 'w') as f:\n",
        "    f.write('This text will be written in a newly created file')\n"
      ],
      "metadata": {
        "id": "K6n-3wW8rZId"
      },
      "execution_count": null,
      "outputs": []
    },
    {
      "cell_type": "markdown",
      "source": [
        "Jika file writing_file_example.txt belum ada, file baru akan dibuat, dan teks akan ditulis ke dalamnya."
      ],
      "metadata": {
        "id": "fBq-ubgTrf41"
      }
    },
    {
      "cell_type": "markdown",
      "source": [
        "## Menghapus File di Python\n",
        "Untuk menghapus file, Python menyediakan fungsi `os.remove()` dari modul os. Fungsi ini digunakan untuk menghapus file tertentu yang sudah ada. Gunakan fungsi os.remove() untuk menghapus file dengan path yang ditentukan.\n",
        "Contoh Kode:\n",
        "\n"
      ],
      "metadata": {
        "id": "ZX7-_nuGry-u"
      }
    },
    {
      "cell_type": "code",
      "source": [
        "import os\n",
        "\n",
        "# Menghapus file\n",
        "os.remove('./files/writing_file_example.txt')\n"
      ],
      "metadata": {
        "id": "jKf6wTcLsEkU",
        "colab": {
          "base_uri": "https://localhost:8080/",
          "height": 183
        },
        "outputId": "bfe3e9e7-952f-47b7-f13e-83a727e323a9"
      },
      "execution_count": null,
      "outputs": [
        {
          "output_type": "error",
          "ename": "FileNotFoundError",
          "evalue": "[Errno 2] No such file or directory: './files/writing_file_example.txt'",
          "traceback": [
            "\u001b[0;31m---------------------------------------------------------------------------\u001b[0m",
            "\u001b[0;31mFileNotFoundError\u001b[0m                         Traceback (most recent call last)",
            "\u001b[0;32m<ipython-input-14-5b879b20d057>\u001b[0m in \u001b[0;36m<cell line: 4>\u001b[0;34m()\u001b[0m\n\u001b[1;32m      2\u001b[0m \u001b[0;34m\u001b[0m\u001b[0m\n\u001b[1;32m      3\u001b[0m \u001b[0;31m# Menghapus file\u001b[0m\u001b[0;34m\u001b[0m\u001b[0;34m\u001b[0m\u001b[0m\n\u001b[0;32m----> 4\u001b[0;31m \u001b[0mos\u001b[0m\u001b[0;34m.\u001b[0m\u001b[0mremove\u001b[0m\u001b[0;34m(\u001b[0m\u001b[0;34m'./files/writing_file_example.txt'\u001b[0m\u001b[0;34m)\u001b[0m\u001b[0;34m\u001b[0m\u001b[0;34m\u001b[0m\u001b[0m\n\u001b[0m",
            "\u001b[0;31mFileNotFoundError\u001b[0m: [Errno 2] No such file or directory: './files/writing_file_example.txt'"
          ]
        }
      ]
    },
    {
      "cell_type": "markdown",
      "source": [
        "### Menangani Error jika File Tidak Ada\n",
        "Jika file tidak ada, metode `os.remove()` akan memunculkan error FileNotFoundError. Oleh karena itu, sebaiknya gunakan pengecekan dengan `os.path.exists()` sebelum mencoba menghapus file."
      ],
      "metadata": {
        "id": "t24xcPJYsG9a"
      }
    },
    {
      "cell_type": "code",
      "source": [
        "import os\n",
        "\n",
        "file_path = './files/example.txt'\n",
        "\n",
        "# Mengecek apakah file ada sebelum menghapusnya\n",
        "if os.path.exists(file_path):\n",
        "    os.remove(file_path)\n",
        "    print(f\"{file_path} has been deleted.\")\n",
        "else:\n",
        "    print(f\"The file {file_path} does not exist.\")\n"
      ],
      "metadata": {
        "id": "JrUSaK8zsNuz",
        "colab": {
          "base_uri": "https://localhost:8080/"
        },
        "outputId": "5a70d1a6-8368-48e2-ec70-ec7e208e51f7"
      },
      "execution_count": null,
      "outputs": [
        {
          "output_type": "stream",
          "name": "stdout",
          "text": [
            "./files/example.txt has been deleted.\n"
          ]
        }
      ]
    },
    {
      "cell_type": "markdown",
      "source": [
        "## Tipe File\n",
        "Di Python, file dapat dibedakan berdasarkan ekstensi yang digunakan. Berikut adalah beberapa tipe file umum yang sering digunakan:\n",
        "\n",
        "### File dengan Ekstensi .txt\n",
        "File teks adalah salah satu format file paling sederhana dan umum digunakan. Kita telah membahas cara membaca dan menulis file .txt pada bagian sebelumnya. File ini berisi data dalam bentuk teks biasa.\n",
        "\n",
        "### File dengan Ekstensi .json\n",
        "JSON adalah singkatan dari JavaScript Object Notation. JSON adalah representasi string dari objek JavaScript atau dictionary Python. JSON sering digunakan untuk menyimpan dan bertukar data antar sistem karena mudah dibaca oleh manusia dan mesin."
      ],
      "metadata": {
        "id": "YhwtQ8uEtpvo"
      }
    },
    {
      "cell_type": "markdown",
      "source": [
        "#### Contoh Representasi JSON:\n",
        "Dictionary Python:"
      ],
      "metadata": {
        "id": "0hJzrfqcuCE6"
      }
    },
    {
      "cell_type": "code",
      "source": [
        "# Dictionary Python\n",
        "person_dct = {\n",
        "    \"name\": \"Mahdy\",\n",
        "    \"country\": \"Indonesia\",\n",
        "    \"city\": \"Surabaya\",\n",
        "    \"skills\": [\"JavaScript\", \"PHP\", \"Python\"]\n",
        "}\n"
      ],
      "metadata": {
        "id": "Glf-pI-4t8Co"
      },
      "execution_count": null,
      "outputs": []
    },
    {
      "cell_type": "markdown",
      "source": [
        "JSON (string)"
      ],
      "metadata": {
        "id": "609KfnkduGVK"
      }
    },
    {
      "cell_type": "code",
      "source": [
        "# JSON: Representasi string dari dictionary\n",
        "person_json = '{\"name\": \"Mahdy\", \"country\": \"Indonesia\", \"city\": \"Surabaya\", \"skills\": [\"JavaScript\", \"PHP\", \"Python\"]}'"
      ],
      "metadata": {
        "id": "M6HoW52fuID0"
      },
      "execution_count": null,
      "outputs": []
    },
    {
      "cell_type": "markdown",
      "source": [
        "JSON dengan Format Lebih Rapi:"
      ],
      "metadata": {
        "id": "nh5h7oSRuKos"
      }
    },
    {
      "cell_type": "code",
      "source": [
        "# JSON dalam format multi-baris untuk meningkatkan keterbacaan\n",
        "person_json = '''{\n",
        "    \"name\": \"Mahdy\",\n",
        "    \"country\": \"Indonesia\",\n",
        "    \"city\": \"Surabaya\",\n",
        "    \"skills\": [\"JavaScript\", \"PHP\", \"Python\"]\n",
        "}'''\n"
      ],
      "metadata": {
        "id": "IayvWufhuYzE"
      },
      "execution_count": null,
      "outputs": []
    },
    {
      "cell_type": "markdown",
      "source": [
        "## Konversi Antara Dictionary Python dan JSON\n",
        "Python memiliki modul bawaan bernama json untuk menangani file JSON. Anda dapat dengan mudah mengonversi antara dictionary Python dan JSON.\n",
        "\n",
        "### Dari Dictionary Python ke JSON\n",
        "Gunakan metode `json.dumps()` untuk mengubah dictionary Python menjadi string JSON."
      ],
      "metadata": {
        "id": "JqglPmIjuhh9"
      }
    },
    {
      "cell_type": "code",
      "source": [
        "import json\n",
        "\n",
        "person_dct = {\n",
        "    \"name\": \"Mahdy\",\n",
        "    \"country\": \"Indonesia\",\n",
        "    \"city\": \"Surabaya\",\n",
        "    \"skills\": [\"JavaScript\", \"PHP\", \"Python\"]\n",
        "}\n",
        "\n",
        "# Mengonversi dictionary ke JSON\n",
        "person_json = json.dumps(person_dct, indent=4)\n",
        "print(type(person_dct))\n",
        "print(person_json)\n",
        "print(type(person_json))\n"
      ],
      "metadata": {
        "id": "TPru5r3-zBWq",
        "colab": {
          "base_uri": "https://localhost:8080/"
        },
        "outputId": "296fe8d3-1066-4b7c-d1bd-c417de80a35e"
      },
      "execution_count": null,
      "outputs": [
        {
          "output_type": "stream",
          "name": "stdout",
          "text": [
            "<class 'dict'>\n",
            "{\n",
            "    \"name\": \"Mahdy\",\n",
            "    \"country\": \"Indonesia\",\n",
            "    \"city\": \"Surabaya\",\n",
            "    \"skills\": [\n",
            "        \"JavaScript\",\n",
            "        \"PHP\",\n",
            "        \"Python\"\n",
            "    ]\n",
            "}\n",
            "<class 'str'>\n"
          ]
        }
      ]
    },
    {
      "cell_type": "markdown",
      "source": [
        "### Dari JSON ke Dictionary Python\n",
        "Gunakan metode `json.loads()` untuk mengubah string JSON menjadi dictionary Python."
      ],
      "metadata": {
        "id": "GT39vsNIzEp5"
      }
    },
    {
      "cell_type": "code",
      "source": [
        "import json\n",
        "\n",
        "person_json = '''{\n",
        "    \"name\": \"Mahdy\",\n",
        "    \"country\": \"Indonesia\",\n",
        "    \"city\": \"Surabaya\",\n",
        "    \"skills\": [\"JavaScript\", \"PHP\", \"Python\"]\n",
        "}'''\n",
        "\n",
        "# Mengonversi JSON ke dictionary Python\n",
        "print(type(person_json))\n",
        "person_dct = json.loads(person_json)\n",
        "\n",
        "print(person_dct)\n",
        "print(type(person_dct))"
      ],
      "metadata": {
        "id": "CbNJtHqWzH7n",
        "colab": {
          "base_uri": "https://localhost:8080/"
        },
        "outputId": "21388bd0-a54e-41ca-8bbb-4f81fb681e5b"
      },
      "execution_count": null,
      "outputs": [
        {
          "output_type": "stream",
          "name": "stdout",
          "text": [
            "<class 'str'>\n",
            "{'name': 'Mahdy', 'country': 'Indonesia', 'city': 'Surabaya', 'skills': ['JavaScript', 'PHP', 'Python']}\n",
            "<class 'dict'>\n"
          ]
        }
      ]
    },
    {
      "cell_type": "markdown",
      "source": [
        "## Menulis ke File JSON:"
      ],
      "metadata": {
        "id": "Br4cNCspzMJ_"
      }
    },
    {
      "cell_type": "code",
      "source": [
        "import json\n",
        "\n",
        "person_dct = {\n",
        "    \"name\": \"Mahdy\",\n",
        "    \"country\": \"Indonesia\",\n",
        "    \"city\": \"Surabaya\",\n",
        "    \"skills\": [\"JavaScript\", \"PHP\", \"Python\"]\n",
        "}\n",
        "\n",
        "\n",
        "# Menulis dictionary ke file JSON\n",
        "with open('person.json', 'w') as file:\n",
        "    json.dump(person_dct, file)"
      ],
      "metadata": {
        "id": "FMbQVJDZzOa8"
      },
      "execution_count": null,
      "outputs": []
    },
    {
      "cell_type": "markdown",
      "source": [
        "## Membaca File JSON"
      ],
      "metadata": {
        "id": "EHNChCZJzRX6"
      }
    },
    {
      "cell_type": "code",
      "source": [
        "import json\n",
        "\n",
        "# Membaca file JSON dan mengonversinya ke dictionary\n",
        "with open('person.json', 'r') as file:\n",
        "    person_dct = json.load(file)\n",
        "\n",
        "print(person_dct)\n"
      ],
      "metadata": {
        "id": "oL7MtpEwzVYx",
        "colab": {
          "base_uri": "https://localhost:8080/"
        },
        "outputId": "7bbbca42-5b23-4264-f9cc-a1532ff92f81"
      },
      "execution_count": null,
      "outputs": [
        {
          "output_type": "stream",
          "name": "stdout",
          "text": [
            "{'name': 'Mahdy', 'country': 'Indonesia', 'city': 'Surabaya', 'skills': ['JavaScript', 'PHP', 'Python']}\n"
          ]
        }
      ]
    },
    {
      "cell_type": "markdown",
      "source": [
        "## File dengan Ekstensi .csv\n",
        "CSV (Comma-Separated Values) adalah format file sederhana yang digunakan untuk menyimpan data dalam bentuk tabular, seperti spreadsheet atau database. File CSV sering digunakan dalam ilmu data karena formatnya yang mudah dibaca dan diproses oleh manusia maupun mesin.\n",
        "\n",
        "#### Contoh Isi File CSV\n",
        "File CSV:\n",
        "```\n",
        "\"name\",\"country\",\"city\",\"skills\"\n",
        "\"Mahdy\",\"Indonesia\",\"Surabaya\",\"JavaScript\"\n",
        "```\n",
        "File ini berisi data tabular dengan kolom name, country, city, dan skills.\n",
        "\n",
        "### Membaca File CSV di Python\n",
        "Python menyediakan modul csv bawaan untuk membaca dan menulis file CSV."
      ],
      "metadata": {
        "id": "Gbgo9qyuzwS-"
      }
    },
    {
      "cell_type": "code",
      "source": [
        "import csv\n",
        "\n",
        "with open('./files/dataset.csv') as f:\n",
        "    csv_reader = csv.reader(f, delimiter='|')  # Menggunakan reader untuk membaca CSV\n",
        "\n",
        "    for row in csv_reader:\n",
        "        print(row)\n"
      ],
      "metadata": {
        "id": "jkjgzt8h0T_t",
        "colab": {
          "base_uri": "https://localhost:8080/"
        },
        "outputId": "93276278-0654-40d3-86a8-8d8451fbb5dd"
      },
      "execution_count": null,
      "outputs": [
        {
          "output_type": "stream",
          "name": "stdout",
          "text": [
            "['name', 'country', 'city', 'skills']\n",
            "['Mahdy', 'Indonesia', 'Surabaya', 'Python']\n",
            "['Bagas', 'Indonesia', 'Palangkaraya', 'Javascript']\n",
            "['Benni', 'Indonesia', 'Banjarmasin', 'PHP']\n"
          ]
        }
      ]
    },
    {
      "cell_type": "markdown",
      "source": [
        "### Menulis File CSV di Python\n",
        "Kita juga dapat menulis file CSV menggunakan `csv.writer`"
      ],
      "metadata": {
        "id": "SCBzKqfK0dca"
      }
    },
    {
      "cell_type": "code",
      "source": [
        "import csv\n",
        "\n",
        "# Data yang akan ditulis\n",
        "data = [\n",
        "    [\"name\", \"country\", \"city\", \"skills\"],\n",
        "    [\"Mahdy\", \"Indonesia\", \"Surabaya\", \"JavaScript\"],\n",
        "    [\"Bagas\", \"Indonesia\", \"Palangkaraya\", \"Python\"]\n",
        "]\n",
        "\n",
        "# Menulis data ke file CSV\n",
        "with open('./files/csv_output.csv', 'w') as f:\n",
        "    csv_writer = csv.writer(f)\n",
        "    csv_writer.writerows(data)"
      ],
      "metadata": {
        "id": "1W41EkZV0c3c"
      },
      "execution_count": null,
      "outputs": []
    },
    {
      "cell_type": "code",
      "source": [
        "import pandas\n",
        "\n",
        "df_data = pandas.read_csv('./files/csv_output.csv')\n",
        "df_data"
      ],
      "metadata": {
        "colab": {
          "base_uri": "https://localhost:8080/",
          "height": 125
        },
        "id": "g0mX4xqI60vL",
        "outputId": "e924a86d-13d2-4f71-f9c1-4487b73f5de7"
      },
      "execution_count": null,
      "outputs": [
        {
          "output_type": "execute_result",
          "data": {
            "text/plain": [
              "    name    country          city      skills\n",
              "0  Mahdy  Indonesia      Surabaya  JavaScript\n",
              "1  Bagas  Indonesia  Palangkaraya      Python"
            ],
            "text/html": [
              "\n",
              "  <div id=\"df-13b418bd-30c9-4192-af1d-019a8bc81077\" class=\"colab-df-container\">\n",
              "    <div>\n",
              "<style scoped>\n",
              "    .dataframe tbody tr th:only-of-type {\n",
              "        vertical-align: middle;\n",
              "    }\n",
              "\n",
              "    .dataframe tbody tr th {\n",
              "        vertical-align: top;\n",
              "    }\n",
              "\n",
              "    .dataframe thead th {\n",
              "        text-align: right;\n",
              "    }\n",
              "</style>\n",
              "<table border=\"1\" class=\"dataframe\">\n",
              "  <thead>\n",
              "    <tr style=\"text-align: right;\">\n",
              "      <th></th>\n",
              "      <th>name</th>\n",
              "      <th>country</th>\n",
              "      <th>city</th>\n",
              "      <th>skills</th>\n",
              "    </tr>\n",
              "  </thead>\n",
              "  <tbody>\n",
              "    <tr>\n",
              "      <th>0</th>\n",
              "      <td>Mahdy</td>\n",
              "      <td>Indonesia</td>\n",
              "      <td>Surabaya</td>\n",
              "      <td>JavaScript</td>\n",
              "    </tr>\n",
              "    <tr>\n",
              "      <th>1</th>\n",
              "      <td>Bagas</td>\n",
              "      <td>Indonesia</td>\n",
              "      <td>Palangkaraya</td>\n",
              "      <td>Python</td>\n",
              "    </tr>\n",
              "  </tbody>\n",
              "</table>\n",
              "</div>\n",
              "    <div class=\"colab-df-buttons\">\n",
              "\n",
              "  <div class=\"colab-df-container\">\n",
              "    <button class=\"colab-df-convert\" onclick=\"convertToInteractive('df-13b418bd-30c9-4192-af1d-019a8bc81077')\"\n",
              "            title=\"Convert this dataframe to an interactive table.\"\n",
              "            style=\"display:none;\">\n",
              "\n",
              "  <svg xmlns=\"http://www.w3.org/2000/svg\" height=\"24px\" viewBox=\"0 -960 960 960\">\n",
              "    <path d=\"M120-120v-720h720v720H120Zm60-500h600v-160H180v160Zm220 220h160v-160H400v160Zm0 220h160v-160H400v160ZM180-400h160v-160H180v160Zm440 0h160v-160H620v160ZM180-180h160v-160H180v160Zm440 0h160v-160H620v160Z\"/>\n",
              "  </svg>\n",
              "    </button>\n",
              "\n",
              "  <style>\n",
              "    .colab-df-container {\n",
              "      display:flex;\n",
              "      gap: 12px;\n",
              "    }\n",
              "\n",
              "    .colab-df-convert {\n",
              "      background-color: #E8F0FE;\n",
              "      border: none;\n",
              "      border-radius: 50%;\n",
              "      cursor: pointer;\n",
              "      display: none;\n",
              "      fill: #1967D2;\n",
              "      height: 32px;\n",
              "      padding: 0 0 0 0;\n",
              "      width: 32px;\n",
              "    }\n",
              "\n",
              "    .colab-df-convert:hover {\n",
              "      background-color: #E2EBFA;\n",
              "      box-shadow: 0px 1px 2px rgba(60, 64, 67, 0.3), 0px 1px 3px 1px rgba(60, 64, 67, 0.15);\n",
              "      fill: #174EA6;\n",
              "    }\n",
              "\n",
              "    .colab-df-buttons div {\n",
              "      margin-bottom: 4px;\n",
              "    }\n",
              "\n",
              "    [theme=dark] .colab-df-convert {\n",
              "      background-color: #3B4455;\n",
              "      fill: #D2E3FC;\n",
              "    }\n",
              "\n",
              "    [theme=dark] .colab-df-convert:hover {\n",
              "      background-color: #434B5C;\n",
              "      box-shadow: 0px 1px 3px 1px rgba(0, 0, 0, 0.15);\n",
              "      filter: drop-shadow(0px 1px 2px rgba(0, 0, 0, 0.3));\n",
              "      fill: #FFFFFF;\n",
              "    }\n",
              "  </style>\n",
              "\n",
              "    <script>\n",
              "      const buttonEl =\n",
              "        document.querySelector('#df-13b418bd-30c9-4192-af1d-019a8bc81077 button.colab-df-convert');\n",
              "      buttonEl.style.display =\n",
              "        google.colab.kernel.accessAllowed ? 'block' : 'none';\n",
              "\n",
              "      async function convertToInteractive(key) {\n",
              "        const element = document.querySelector('#df-13b418bd-30c9-4192-af1d-019a8bc81077');\n",
              "        const dataTable =\n",
              "          await google.colab.kernel.invokeFunction('convertToInteractive',\n",
              "                                                    [key], {});\n",
              "        if (!dataTable) return;\n",
              "\n",
              "        const docLinkHtml = 'Like what you see? Visit the ' +\n",
              "          '<a target=\"_blank\" href=https://colab.research.google.com/notebooks/data_table.ipynb>data table notebook</a>'\n",
              "          + ' to learn more about interactive tables.';\n",
              "        element.innerHTML = '';\n",
              "        dataTable['output_type'] = 'display_data';\n",
              "        await google.colab.output.renderOutput(dataTable, element);\n",
              "        const docLink = document.createElement('div');\n",
              "        docLink.innerHTML = docLinkHtml;\n",
              "        element.appendChild(docLink);\n",
              "      }\n",
              "    </script>\n",
              "  </div>\n",
              "\n",
              "\n",
              "<div id=\"df-cdca508e-b4a4-4fbc-a959-b16ba6f9055b\">\n",
              "  <button class=\"colab-df-quickchart\" onclick=\"quickchart('df-cdca508e-b4a4-4fbc-a959-b16ba6f9055b')\"\n",
              "            title=\"Suggest charts\"\n",
              "            style=\"display:none;\">\n",
              "\n",
              "<svg xmlns=\"http://www.w3.org/2000/svg\" height=\"24px\"viewBox=\"0 0 24 24\"\n",
              "     width=\"24px\">\n",
              "    <g>\n",
              "        <path d=\"M19 3H5c-1.1 0-2 .9-2 2v14c0 1.1.9 2 2 2h14c1.1 0 2-.9 2-2V5c0-1.1-.9-2-2-2zM9 17H7v-7h2v7zm4 0h-2V7h2v10zm4 0h-2v-4h2v4z\"/>\n",
              "    </g>\n",
              "</svg>\n",
              "  </button>\n",
              "\n",
              "<style>\n",
              "  .colab-df-quickchart {\n",
              "      --bg-color: #E8F0FE;\n",
              "      --fill-color: #1967D2;\n",
              "      --hover-bg-color: #E2EBFA;\n",
              "      --hover-fill-color: #174EA6;\n",
              "      --disabled-fill-color: #AAA;\n",
              "      --disabled-bg-color: #DDD;\n",
              "  }\n",
              "\n",
              "  [theme=dark] .colab-df-quickchart {\n",
              "      --bg-color: #3B4455;\n",
              "      --fill-color: #D2E3FC;\n",
              "      --hover-bg-color: #434B5C;\n",
              "      --hover-fill-color: #FFFFFF;\n",
              "      --disabled-bg-color: #3B4455;\n",
              "      --disabled-fill-color: #666;\n",
              "  }\n",
              "\n",
              "  .colab-df-quickchart {\n",
              "    background-color: var(--bg-color);\n",
              "    border: none;\n",
              "    border-radius: 50%;\n",
              "    cursor: pointer;\n",
              "    display: none;\n",
              "    fill: var(--fill-color);\n",
              "    height: 32px;\n",
              "    padding: 0;\n",
              "    width: 32px;\n",
              "  }\n",
              "\n",
              "  .colab-df-quickchart:hover {\n",
              "    background-color: var(--hover-bg-color);\n",
              "    box-shadow: 0 1px 2px rgba(60, 64, 67, 0.3), 0 1px 3px 1px rgba(60, 64, 67, 0.15);\n",
              "    fill: var(--button-hover-fill-color);\n",
              "  }\n",
              "\n",
              "  .colab-df-quickchart-complete:disabled,\n",
              "  .colab-df-quickchart-complete:disabled:hover {\n",
              "    background-color: var(--disabled-bg-color);\n",
              "    fill: var(--disabled-fill-color);\n",
              "    box-shadow: none;\n",
              "  }\n",
              "\n",
              "  .colab-df-spinner {\n",
              "    border: 2px solid var(--fill-color);\n",
              "    border-color: transparent;\n",
              "    border-bottom-color: var(--fill-color);\n",
              "    animation:\n",
              "      spin 1s steps(1) infinite;\n",
              "  }\n",
              "\n",
              "  @keyframes spin {\n",
              "    0% {\n",
              "      border-color: transparent;\n",
              "      border-bottom-color: var(--fill-color);\n",
              "      border-left-color: var(--fill-color);\n",
              "    }\n",
              "    20% {\n",
              "      border-color: transparent;\n",
              "      border-left-color: var(--fill-color);\n",
              "      border-top-color: var(--fill-color);\n",
              "    }\n",
              "    30% {\n",
              "      border-color: transparent;\n",
              "      border-left-color: var(--fill-color);\n",
              "      border-top-color: var(--fill-color);\n",
              "      border-right-color: var(--fill-color);\n",
              "    }\n",
              "    40% {\n",
              "      border-color: transparent;\n",
              "      border-right-color: var(--fill-color);\n",
              "      border-top-color: var(--fill-color);\n",
              "    }\n",
              "    60% {\n",
              "      border-color: transparent;\n",
              "      border-right-color: var(--fill-color);\n",
              "    }\n",
              "    80% {\n",
              "      border-color: transparent;\n",
              "      border-right-color: var(--fill-color);\n",
              "      border-bottom-color: var(--fill-color);\n",
              "    }\n",
              "    90% {\n",
              "      border-color: transparent;\n",
              "      border-bottom-color: var(--fill-color);\n",
              "    }\n",
              "  }\n",
              "</style>\n",
              "\n",
              "  <script>\n",
              "    async function quickchart(key) {\n",
              "      const quickchartButtonEl =\n",
              "        document.querySelector('#' + key + ' button');\n",
              "      quickchartButtonEl.disabled = true;  // To prevent multiple clicks.\n",
              "      quickchartButtonEl.classList.add('colab-df-spinner');\n",
              "      try {\n",
              "        const charts = await google.colab.kernel.invokeFunction(\n",
              "            'suggestCharts', [key], {});\n",
              "      } catch (error) {\n",
              "        console.error('Error during call to suggestCharts:', error);\n",
              "      }\n",
              "      quickchartButtonEl.classList.remove('colab-df-spinner');\n",
              "      quickchartButtonEl.classList.add('colab-df-quickchart-complete');\n",
              "    }\n",
              "    (() => {\n",
              "      let quickchartButtonEl =\n",
              "        document.querySelector('#df-cdca508e-b4a4-4fbc-a959-b16ba6f9055b button');\n",
              "      quickchartButtonEl.style.display =\n",
              "        google.colab.kernel.accessAllowed ? 'block' : 'none';\n",
              "    })();\n",
              "  </script>\n",
              "</div>\n",
              "\n",
              "  <div id=\"id_239d64de-a4dc-42cd-a1e2-6a3ad7d498dd\">\n",
              "    <style>\n",
              "      .colab-df-generate {\n",
              "        background-color: #E8F0FE;\n",
              "        border: none;\n",
              "        border-radius: 50%;\n",
              "        cursor: pointer;\n",
              "        display: none;\n",
              "        fill: #1967D2;\n",
              "        height: 32px;\n",
              "        padding: 0 0 0 0;\n",
              "        width: 32px;\n",
              "      }\n",
              "\n",
              "      .colab-df-generate:hover {\n",
              "        background-color: #E2EBFA;\n",
              "        box-shadow: 0px 1px 2px rgba(60, 64, 67, 0.3), 0px 1px 3px 1px rgba(60, 64, 67, 0.15);\n",
              "        fill: #174EA6;\n",
              "      }\n",
              "\n",
              "      [theme=dark] .colab-df-generate {\n",
              "        background-color: #3B4455;\n",
              "        fill: #D2E3FC;\n",
              "      }\n",
              "\n",
              "      [theme=dark] .colab-df-generate:hover {\n",
              "        background-color: #434B5C;\n",
              "        box-shadow: 0px 1px 3px 1px rgba(0, 0, 0, 0.15);\n",
              "        filter: drop-shadow(0px 1px 2px rgba(0, 0, 0, 0.3));\n",
              "        fill: #FFFFFF;\n",
              "      }\n",
              "    </style>\n",
              "    <button class=\"colab-df-generate\" onclick=\"generateWithVariable('df_data')\"\n",
              "            title=\"Generate code using this dataframe.\"\n",
              "            style=\"display:none;\">\n",
              "\n",
              "  <svg xmlns=\"http://www.w3.org/2000/svg\" height=\"24px\"viewBox=\"0 0 24 24\"\n",
              "       width=\"24px\">\n",
              "    <path d=\"M7,19H8.4L18.45,9,17,7.55,7,17.6ZM5,21V16.75L18.45,3.32a2,2,0,0,1,2.83,0l1.4,1.43a1.91,1.91,0,0,1,.58,1.4,1.91,1.91,0,0,1-.58,1.4L9.25,21ZM18.45,9,17,7.55Zm-12,3A5.31,5.31,0,0,0,4.9,8.1,5.31,5.31,0,0,0,1,6.5,5.31,5.31,0,0,0,4.9,4.9,5.31,5.31,0,0,0,6.5,1,5.31,5.31,0,0,0,8.1,4.9,5.31,5.31,0,0,0,12,6.5,5.46,5.46,0,0,0,6.5,12Z\"/>\n",
              "  </svg>\n",
              "    </button>\n",
              "    <script>\n",
              "      (() => {\n",
              "      const buttonEl =\n",
              "        document.querySelector('#id_239d64de-a4dc-42cd-a1e2-6a3ad7d498dd button.colab-df-generate');\n",
              "      buttonEl.style.display =\n",
              "        google.colab.kernel.accessAllowed ? 'block' : 'none';\n",
              "\n",
              "      buttonEl.onclick = () => {\n",
              "        google.colab.notebook.generateWithVariable('df_data');\n",
              "      }\n",
              "      })();\n",
              "    </script>\n",
              "  </div>\n",
              "\n",
              "    </div>\n",
              "  </div>\n"
            ],
            "application/vnd.google.colaboratory.intrinsic+json": {
              "type": "dataframe",
              "variable_name": "df_data",
              "summary": "{\n  \"name\": \"df_data\",\n  \"rows\": 2,\n  \"fields\": [\n    {\n      \"column\": \"name\",\n      \"properties\": {\n        \"dtype\": \"string\",\n        \"num_unique_values\": 2,\n        \"samples\": [\n          \"Bagas\",\n          \"Mahdy\"\n        ],\n        \"semantic_type\": \"\",\n        \"description\": \"\"\n      }\n    },\n    {\n      \"column\": \"country\",\n      \"properties\": {\n        \"dtype\": \"string\",\n        \"num_unique_values\": 1,\n        \"samples\": [\n          \"Indonesia\"\n        ],\n        \"semantic_type\": \"\",\n        \"description\": \"\"\n      }\n    },\n    {\n      \"column\": \"city\",\n      \"properties\": {\n        \"dtype\": \"string\",\n        \"num_unique_values\": 2,\n        \"samples\": [\n          \"Palangkaraya\"\n        ],\n        \"semantic_type\": \"\",\n        \"description\": \"\"\n      }\n    },\n    {\n      \"column\": \"skills\",\n      \"properties\": {\n        \"dtype\": \"string\",\n        \"num_unique_values\": 2,\n        \"samples\": [\n          \"Python\"\n        ],\n        \"semantic_type\": \"\",\n        \"description\": \"\"\n      }\n    }\n  ]\n}"
            }
          },
          "metadata": {},
          "execution_count": 27
        }
      ]
    },
    {
      "cell_type": "markdown",
      "source": [
        "## File dengan Ekstensi .xlsx\n",
        "Untuk membaca file Excel dengan ekstensi .xls atau .xlsx, kita memerlukan library eksternal seperti xlrd"
      ],
      "metadata": {
        "id": "vOVNxuiZ1Cjf"
      }
    },
    {
      "cell_type": "code",
      "source": [
        "import xlrd\n",
        "\n",
        "# Membuka file Excel\n",
        "excel_book = xlrd.open_workbook('example.xls')\n",
        "\n",
        "# Menampilkan jumlah sheet dalam file\n",
        "print(\"Jumlah sheet:\", excel_book.nsheets)\n",
        "\n",
        "# Menampilkan nama-nama sheet\n",
        "print(\"Nama sheet:\", excel_book.sheet_names())\n",
        "\n",
        "# Membaca data dari sheet pertama\n",
        "sheet = excel_book.sheet_by_index(0)\n",
        "\n",
        "# Menampilkan jumlah baris dan kolom\n",
        "print(\"Jumlah baris:\", sheet.nrows)\n",
        "print(\"Jumlah kolom:\", sheet.ncols)\n",
        "\n",
        "# Menampilkan nilai dari sel tertentu (baris 1, kolom 1)\n",
        "print(\"Nilai sel (0, 0):\", sheet.cell_value(0, 0))\n"
      ],
      "metadata": {
        "id": "wtkUkBRa1F97",
        "colab": {
          "base_uri": "https://localhost:8080/",
          "height": 366
        },
        "outputId": "8207de5f-51e0-4975-ebbf-614f90cbff93"
      },
      "execution_count": null,
      "outputs": [
        {
          "output_type": "error",
          "ename": "XLRDError",
          "evalue": "Excel xlsx file; not supported",
          "traceback": [
            "\u001b[0;31m---------------------------------------------------------------------------\u001b[0m",
            "\u001b[0;31mXLRDError\u001b[0m                                 Traceback (most recent call last)",
            "\u001b[0;32m<ipython-input-29-9e074b90ce4e>\u001b[0m in \u001b[0;36m<cell line: 4>\u001b[0;34m()\u001b[0m\n\u001b[1;32m      2\u001b[0m \u001b[0;34m\u001b[0m\u001b[0m\n\u001b[1;32m      3\u001b[0m \u001b[0;31m# Membuka file Excel\u001b[0m\u001b[0;34m\u001b[0m\u001b[0;34m\u001b[0m\u001b[0m\n\u001b[0;32m----> 4\u001b[0;31m \u001b[0mexcel_book\u001b[0m \u001b[0;34m=\u001b[0m \u001b[0mxlrd\u001b[0m\u001b[0;34m.\u001b[0m\u001b[0mopen_workbook\u001b[0m\u001b[0;34m(\u001b[0m\u001b[0;34m'example.xls'\u001b[0m\u001b[0;34m)\u001b[0m\u001b[0;34m\u001b[0m\u001b[0;34m\u001b[0m\u001b[0m\n\u001b[0m\u001b[1;32m      5\u001b[0m \u001b[0;34m\u001b[0m\u001b[0m\n\u001b[1;32m      6\u001b[0m \u001b[0;31m# Menampilkan jumlah sheet dalam file\u001b[0m\u001b[0;34m\u001b[0m\u001b[0;34m\u001b[0m\u001b[0m\n",
            "\u001b[0;32m/usr/local/lib/python3.10/dist-packages/xlrd/__init__.py\u001b[0m in \u001b[0;36mopen_workbook\u001b[0;34m(filename, logfile, verbosity, use_mmap, file_contents, encoding_override, formatting_info, on_demand, ragged_rows, ignore_workbook_corruption)\u001b[0m\n\u001b[1;32m    168\u001b[0m     \u001b[0;31m# files that xlrd can parse don't start with the expected signature.\u001b[0m\u001b[0;34m\u001b[0m\u001b[0;34m\u001b[0m\u001b[0m\n\u001b[1;32m    169\u001b[0m     \u001b[0;32mif\u001b[0m \u001b[0mfile_format\u001b[0m \u001b[0;32mand\u001b[0m \u001b[0mfile_format\u001b[0m \u001b[0;34m!=\u001b[0m \u001b[0;34m'xls'\u001b[0m\u001b[0;34m:\u001b[0m\u001b[0;34m\u001b[0m\u001b[0;34m\u001b[0m\u001b[0m\n\u001b[0;32m--> 170\u001b[0;31m         \u001b[0;32mraise\u001b[0m \u001b[0mXLRDError\u001b[0m\u001b[0;34m(\u001b[0m\u001b[0mFILE_FORMAT_DESCRIPTIONS\u001b[0m\u001b[0;34m[\u001b[0m\u001b[0mfile_format\u001b[0m\u001b[0;34m]\u001b[0m\u001b[0;34m+\u001b[0m\u001b[0;34m'; not supported'\u001b[0m\u001b[0;34m)\u001b[0m\u001b[0;34m\u001b[0m\u001b[0;34m\u001b[0m\u001b[0m\n\u001b[0m\u001b[1;32m    171\u001b[0m \u001b[0;34m\u001b[0m\u001b[0m\n\u001b[1;32m    172\u001b[0m     bk = open_workbook_xls(\n",
            "\u001b[0;31mXLRDError\u001b[0m: Excel xlsx file; not supported"
          ]
        }
      ]
    }
  ]
}