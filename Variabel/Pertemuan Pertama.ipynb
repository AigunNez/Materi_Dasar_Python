{
 "cells": [
  {
   "cell_type": "markdown",
   "metadata": {},
   "source": [
    "# Variabel\n",
    "\n",
    "Variabel merupakan nama yang dibuat untuk mewakili \"sesuatu\" dalam program.\n",
    "\n",
    "Sebagai contoh, kita ingin menyimpan gaji seseorang karyawan. Dalam kasus seperti itu,  kita dapat membuat variabel dan menyimpan gaji menggunakan variabel tersebut. Dengan menggunakan nama variabel tersebut, Anda dapat membaca atau memodifikasi jumlah gaji. Dengan kata lain, variabel adalah nilai yang berubah sesuai dengan kondisi atau input yang diberikan ke program.\n",
    "\n",
    "Sebuah variabel bisa bersifat mutable atau immutable. Jika nilai variabel dapat berubah, objek tersebut disebut mutable, sementara jika nilai tidak dapat berubah, objek tersebut disebut immutable.\n",
    "\n",
    "### Definisi Variable\n",
    "\n",
    "Variabel pada python bersifat dinamis, sehingga kita tidak perlu mendeklarasikan variable sebelum menggunakannya atau mendeklarasikan tipe data variable seperti pada bahasa pemrograman lainnya. Tipe data pada variabel secara otomatis diatur saat kita memberikan nilai pada variabel.\n",
    "\n",
    "Kita dapat memberikan nilai pada variabel saat variabel tersebut dibuat. Kita dapat menggunakan operator <code>=</code> untuk memberikan nilai pada variabel.\n",
    "\n",
    "<div class=\"alert alert-success\">\n",
    "Dalam pemrograman, variabel didefinisikan dengan format <code>nama = nilai</code>.\n",
    "</div>"
   ]
  },
  {
   "cell_type": "code",
   "execution_count": null,
   "metadata": {},
   "outputs": [],
   "source": [
    "int my_int = 27 # Declare an integer variable in Java"
   ]
  },
  {
   "cell_type": "code",
   "execution_count": 1,
   "metadata": {},
   "outputs": [],
   "source": [
    "my_int = 27\n",
    "\n",
    "a_float = 3.14159"
   ]
  },
  {
   "cell_type": "markdown",
   "metadata": {},
   "source": [
    "### Tanda <code>=</code> pada pemrograman tidak sama seperti yang ada pada matematika\n",
    "\n",
    "Dalam matematika, tanda <code>=</code> menunjukkan persamaan.\n",
    "\n",
    "Dalam pemrograman, tanda <code>=</code> menunjukkan ditetapkannya nilai, sedangkan tanda <code>==</code> digunakan untuk persamaan.\n",
    "\n",
    "Ketika membaca kode seperti <code>x = 3</code>, itu menandakan bahwa \"kita menetapkan nilai 3 ke variable x\"\n",
    "\n",
    "Dalam matematika, misalnya persamaan $y = 10x + 2$ menunjukkan persamaan linear.\n",
    "\n",
    "Dalam kode, ketika ada <code>x = x + 1</code>, artinya nilai variabel </code>x</code> diubah dengan menambahkan 1 pada nilai sebelumnya\n",
    "\n",
    "Jadi, meskipun tanda <code>=</code> terlihat sama, dalam pemrograman dan matematika, penggunaannya sangat berbeda."
   ]
  },
  {
   "cell_type": "code",
   "execution_count": 22,
   "metadata": {},
   "outputs": [
    {
     "data": {
      "text/plain": [
       "6"
      ]
     },
     "execution_count": 22,
     "metadata": {},
     "output_type": "execute_result"
    }
   ],
   "source": [
    "x = 5\n",
    "x = x + 1\n",
    "x"
   ]
  },
  {
   "cell_type": "markdown",
   "metadata": {},
   "source": [
    "### Pertanyaan #1"
   ]
  },
  {
   "cell_type": "markdown",
   "metadata": {},
   "source": [
    "Setelah menjalankan kode berikut, apa nilai yang ada di `my_int`?"
   ]
  },
  {
   "cell_type": "code",
   "execution_count": 23,
   "metadata": {},
   "outputs": [
    {
     "name": "stdout",
     "output_type": "stream",
     "text": [
      "8\n"
     ]
    }
   ],
   "source": [
    "my_int = 5\n",
    "\n",
    "my_int = my_int + 3\n",
    "\n",
    "print(my_int)"
   ]
  },
  {
   "cell_type": "markdown",
   "metadata": {},
   "source": [
    "- A) 5\n",
    "- B) 8\n",
    "- C) \"my_int + 3\"\n",
    "- D) Kode akan error"
   ]
  },
  {
   "cell_type": "markdown",
   "metadata": {},
   "source": [
    "### Pertanyaan #2\n",
    "\n",
    "Setelah kode di atas dijalankan, apa nilai yang ada di `my_var`?"
   ]
  },
  {
   "cell_type": "code",
   "execution_count": 24,
   "metadata": {},
   "outputs": [
    {
     "ename": "NameError",
     "evalue": "name 'my_variabel' is not defined",
     "output_type": "error",
     "traceback": [
      "\u001b[1;31m---------------------------------------------------------------------------\u001b[0m",
      "\u001b[1;31mNameError\u001b[0m                                 Traceback (most recent call last)",
      "Cell \u001b[1;32mIn[24], line 1\u001b[0m\n\u001b[1;32m----> 1\u001b[0m my_var \u001b[38;5;241m=\u001b[39m my_int \u001b[38;5;241m-\u001b[39m my_variabel\n",
      "\u001b[1;31mNameError\u001b[0m: name 'my_variabel' is not defined"
     ]
    }
   ],
   "source": [
    "my_var = my_int - my_variabel"
   ]
  },
  {
   "cell_type": "markdown",
   "metadata": {},
   "source": [
    "- A) 4\n",
    "- B) 9\n",
    "- C) \"my_variable - my_var\"\n",
    "- D) Kode akan error"
   ]
  },
  {
   "cell_type": "markdown",
   "metadata": {},
   "source": [
    "### Deklarasi Variabel\n",
    "\n",
    "- Nama variabel akan selalu berada dikiri `, sedangkan nilai akan selalu berada dikanan \n",
    "- Nama variable bersifat case sensitif, yang berarti `myvar` dan `myVar` merupakan variable yangg berbeda\n",
    "- Variable harus dimulai dengan huruf (atau underscore)\n",
    "    - Setelah itu, kita bisa menambahkan angka\n",
    "    - Kita tidak dapat memasukkan karakter spesial (seperti &, *, #, dan lainnya)\n",
    "- Python tidak mempermasalahkan nama variabel yang dibuat, tetapi kita sebagai pembuat kode harus memperhatikannya, pilihlah nama yang menggambarkan nilai yang disimpan pada variabel. "
   ]
  },
  {
   "cell_type": "markdown",
   "metadata": {},
   "source": [
    "### Kata Kunci Variabel yang tidak boleh digunakan\n",
    "\n",
    "Ada 33 kata yang tidak diperbolehkan untuk digunakan sebagai nama variabel dalam Python."
   ]
  },
  {
   "cell_type": "markdown",
   "metadata": {},
   "source": [
    "<table type=\"text/css\">\n",
    "  <tr>\n",
    "      <td><code>False</code></td>\n",
    "      <td><code>None</code></td>\n",
    "      <td><code>True</code></td>\n",
    "      <td><code>and</code></td>\n",
    "      <td><code>as</code></td>\n",
    "      <td><code>assert</code></td>\n",
    "      <td><code>break</code></td>\n",
    "  </tr>\n",
    "  <tr>\n",
    "      <td><code>class</code></td>\n",
    "      <td><code>continue</code></td>\n",
    "      <td><code>def</code></td>\n",
    "      <td><code>del</code></td>\n",
    "      <td><code>elif</code></td>\n",
    "      <td><code>else</code></td>\n",
    "      <td><code>except</code></td>\n",
    "  </tr>\n",
    "  <tr>\n",
    "      <td><code>finally</code></td>\n",
    "      <td><code>for</code></td>\n",
    "      <td><code>from</code></td>\n",
    "      <td><code>global</code></td>\n",
    "      <td><code>if</code></td>\n",
    "      <td><code>import</code></td>\n",
    "      <td><code>in</code></td>\n",
    "  </tr>\n",
    "  <tr>\n",
    "      <td><code>is</code></td>\n",
    "      <td><code>lambda</code></td>\n",
    "      <td><code>nonlocal</code></td>\n",
    "      <td><code>not</code></td>\n",
    "      <td><code>or</code></td>\n",
    "      <td><code>pass</code></td>\n",
    "      <td><code>raise</code></td>\n",
    "  </tr>    \n",
    "  <tr>\n",
    "      <td><code>return</code></td>\n",
    "      <td><code>try</code></td>\n",
    "      <td><code>while</code></td>\n",
    "      <td><code>with</code></td>\n",
    "      <td><code>yield</code></td>\n",
    "  </tr>    \n",
    "</table>"
   ]
  },
  {
   "cell_type": "markdown",
   "metadata": {},
   "source": [
    "### Gaya penulisan variabel\n",
    "\n",
    "Gaya penulisan variabel kode tidak mempengaruhi cara kerja program, tetapi mempengaruhi kemudahan membaca kode.\n",
    "\n",
    "Jadi biasakan gaya penulisan variabel yang baik dan benar.\n",
    "\n",
    "Gaya penulisan variabel yang umum digunakan adalah:\n",
    "- Gunakan satu spasi di sekitar `=` variabel saat memberikan nilai.\n",
    "- Gunakan `snake_case` untuk nama variabel yang memiliki dua kata atau lebih (semua huruf kecil, dengan underscore di antara kata)\n",
    "- Gunakan nama variabel yang informatif... sesuatu yang memberitahu kita sedikit tentang apa yang disimpan pada variabel tersebut."
   ]
  },
  {
   "cell_type": "markdown",
   "metadata": {},
   "source": [
    "- Idealnya variabel didefinisikan sebagai berikut `my_int = 3`\n",
    "- Hindari penggunaan seperti `myInt=1`"
   ]
  },
  {
   "cell_type": "code",
   "execution_count": null,
   "metadata": {},
   "outputs": [],
   "source": [
    "my_var = 5\n",
    "\n",
    "myvar=1"
   ]
  },
  {
   "cell_type": "markdown",
   "metadata": {},
   "source": [
    "### Merubah nilai yang ada pada variabel\n",
    "\n",
    "Banyak bahasa pemrograman yang variabelnya bersifat statis di mana variabelnya dideklarasikan dengan tipe tertentu, maka selama program tersebut dijalankan, variabel tersebut harus selalu bersifat tipe tersebut.\n",
    "\n",
    "Namun, dalam Python, variabel bersifat dinamis dan tidak terikat pada tipe data. Variabel dapat diberikan nilai dengan suatu tipe, kemudian dapat diubah dengan nilai yang memiliki tipe berbeda setelahnya"
   ]
  },
  {
   "cell_type": "code",
   "execution_count": 30,
   "metadata": {},
   "outputs": [
    {
     "name": "stdout",
     "output_type": "stream",
     "text": [
      "10\n",
      "5\n"
     ]
    }
   ],
   "source": [
    "my_int = 10\n",
    "print(my_int)\n",
    "\n",
    "my_int = 5\n",
    "print(my_int)"
   ]
  },
  {
   "cell_type": "code",
   "execution_count": 31,
   "metadata": {},
   "outputs": [
    {
     "name": "stdout",
     "output_type": "stream",
     "text": [
      "10\n",
      "Koas Pertemuan 1\n"
     ]
    }
   ],
   "source": [
    "my_var = 10\n",
    "print(my_var)\n",
    "\n",
    "my_var = \"Koas Pertemuan 1\"\n",
    "print(my_var)"
   ]
  },
  {
   "cell_type": "markdown",
   "metadata": {},
   "source": [
    "# Tipe Data"
   ]
  },
  {
   "cell_type": "markdown",
   "metadata": {},
   "source": [
    "Python memiliki beberapa tipe data bawaan seperti **integer**, **float**, **string** , **boolean**, **list**, **array**, **set**,\n",
    "**dictionary**, **tuple**, dll"
   ]
  },
  {
   "cell_type": "markdown",
   "metadata": {},
   "source": [
    "### Integer\n",
    "\n",
    "Tipe data int adalah tipe data yang nilai dalam bentuk bilangan bulat."
   ]
  },
  {
   "cell_type": "code",
   "execution_count": 32,
   "metadata": {},
   "outputs": [
    {
     "name": "stdout",
     "output_type": "stream",
     "text": [
      "5\n",
      "<class 'int'>\n"
     ]
    }
   ],
   "source": [
    "my_int = 5\n",
    "print(my_int)\n",
    "print(type(my_int))"
   ]
  },
  {
   "cell_type": "markdown",
   "metadata": {},
   "source": [
    "Note : Untuk memeriksa tipe data variabel, kita bisa menggunakan `type(name_variable)`"
   ]
  },
  {
   "cell_type": "markdown",
   "metadata": {},
   "source": [
    "### Float"
   ]
  },
  {
   "cell_type": "markdown",
   "metadata": {},
   "source": [
    "Float adalah tipe data yang nilainya dalam bentuk bilangan desimal."
   ]
  },
  {
   "cell_type": "code",
   "execution_count": 33,
   "metadata": {},
   "outputs": [
    {
     "name": "stdout",
     "output_type": "stream",
     "text": [
      "3.14159\n",
      "<class 'float'>\n"
     ]
    }
   ],
   "source": [
    "my_float = 3.14159\n",
    "print(my_float)\n",
    "print(type(my_float))"
   ]
  },
  {
   "cell_type": "markdown",
   "metadata": {},
   "source": [
    "### String"
   ]
  },
  {
   "cell_type": "markdown",
   "metadata": {},
   "source": [
    "Dalam Python, string adalah sekumpulan karakter yang diwakili dalam tanda kutip. Untuk mendefinisikan string dapat menggunakan pasangan tanda kutip tunggal `'` atau tanda kutip ganda `\"`."
   ]
  },
  {
   "cell_type": "code",
   "execution_count": 34,
   "metadata": {},
   "outputs": [
    {
     "name": "stdout",
     "output_type": "stream",
     "text": [
      "Hello, World!\n",
      "<class 'str'>\n"
     ]
    }
   ],
   "source": [
    "my_string = \"Hello, World!\"\n",
    "\n",
    "print(my_string)\n",
    "print(type(my_string))"
   ]
  },
  {
   "cell_type": "code",
   "execution_count": 35,
   "metadata": {},
   "outputs": [
    {
     "name": "stdout",
     "output_type": "stream",
     "text": [
      "Hello, World!\n",
      "<class 'str'>\n"
     ]
    }
   ],
   "source": [
    "my_string = 'Hello, World!'\n",
    "\n",
    "print(my_string)\n",
    "print(type(my_string))"
   ]
  },
  {
   "cell_type": "markdown",
   "metadata": {},
   "source": [
    "### Boolean\n",
    "Boolean adalah tipe data yang hanya memiliki dua nilai, yaitu True dan False."
   ]
  },
  {
   "cell_type": "code",
   "execution_count": 36,
   "metadata": {},
   "outputs": [
    {
     "name": "stdout",
     "output_type": "stream",
     "text": [
      "True\n",
      "<class 'bool'>\n"
     ]
    }
   ],
   "source": [
    "my_boolean = True\n",
    "print(my_boolean)\n",
    "print(type(my_boolean))"
   ]
  },
  {
   "cell_type": "markdown",
   "metadata": {},
   "source": [
    "### List, Tuple, Set, Dictionary"
   ]
  },
  {
   "cell_type": "markdown",
   "metadata": {},
   "source": [
    "Ini merupakan tipe data yang digunakan untuk menyimpan sekumpulan item. Tipe data ini dapat menyimpan berbagai macam tipe data lainnya."
   ]
  },
  {
   "cell_type": "code",
   "execution_count": 37,
   "metadata": {},
   "outputs": [
    {
     "name": "stdout",
     "output_type": "stream",
     "text": [
      "['Bahasa Pemrograman', 2, 3.14, 'Python']\n",
      "<class 'list'>\n",
      "('Bahasa Pemrograman', 2, 3.14, 'Python')\n",
      "<class 'tuple'>\n",
      "{'Name': 'Zara', 'Age': 7, 'Class': 'First'}\n",
      "<class 'dict'>\n",
      "{'Bahasa Pemrograman', 2, 3.14, 'Python'}\n",
      "<class 'set'>\n"
     ]
    }
   ],
   "source": [
    "my_list = ['Bahasa Pemrograman', 2, 3.14, 'Python']\n",
    "print(my_list)\n",
    "print(type(my_list))\n",
    "\n",
    "my_tuple = ('Bahasa Pemrograman', 2, 3.14, 'Python')\n",
    "print(my_tuple)\n",
    "print(type(my_tuple))\n",
    "\n",
    "my_dict = {'Name': 'Zara', 'Age': 7, 'Class': 'First'}\n",
    "print(my_dict)\n",
    "print(type(my_dict))\n",
    "\n",
    "my_set = {'Bahasa Pemrograman', 2, 3.14, 'Python'}\n",
    "print(my_set)\n",
    "print(type(my_set))"
   ]
  },
  {
   "cell_type": "markdown",
   "metadata": {},
   "source": [
    "### Pertanyaan #3\n",
    "Setelah menjalankan kode berikut, tipe data apa yang ada pada `var_a`?"
   ]
  },
  {
   "cell_type": "code",
   "execution_count": 38,
   "metadata": {},
   "outputs": [
    {
     "data": {
      "text/plain": [
       "float"
      ]
     },
     "execution_count": 38,
     "metadata": {},
     "output_type": "execute_result"
    }
   ],
   "source": [
    "var_a = -15.5\n",
    "type(var_a)"
   ]
  },
  {
   "cell_type": "markdown",
   "metadata": {},
   "source": [
    "- A) String\n",
    "- B) Int\n",
    "- C) Float\n",
    "- D) Boolean\n",
    "- E) None"
   ]
  },
  {
   "cell_type": "markdown",
   "metadata": {},
   "source": [
    "### Pertanyaan #4\n",
    "Setelah menjalan kode berikut, tipe data apa yang ada pada `var_b`?"
   ]
  },
  {
   "cell_type": "code",
   "execution_count": 39,
   "metadata": {},
   "outputs": [
    {
     "data": {
      "text/plain": [
       "str"
      ]
     },
     "execution_count": 39,
     "metadata": {},
     "output_type": "execute_result"
    }
   ],
   "source": [
    "var_b = '-15.5'\n",
    "type(var_b)"
   ]
  },
  {
   "cell_type": "markdown",
   "metadata": {},
   "source": [
    "- A) String\n",
    "- B) Int\n",
    "- C) Float\n",
    "- D) Boolean\n",
    "- E) None"
   ]
  },
  {
   "cell_type": "markdown",
   "metadata": {},
   "source": [
    "### Pertanyaan #5"
   ]
  },
  {
   "cell_type": "markdown",
   "metadata": {},
   "source": [
    "Setelah menjalan kode berikut, tipe data apa yang ada pada `m`?"
   ]
  },
  {
   "cell_type": "code",
   "execution_count": 40,
   "metadata": {},
   "outputs": [
    {
     "data": {
      "text/plain": [
       "int"
      ]
     },
     "execution_count": 40,
     "metadata": {},
     "output_type": "execute_result"
    }
   ],
   "source": [
    "n = 1\n",
    "a = 'm'\n",
    "m = n\n",
    "type(m)"
   ]
  },
  {
   "cell_type": "markdown",
   "metadata": {},
   "source": [
    "- A) String\n",
    "- B) Int\n",
    "- C) Float\n",
    "- D) Boolean\n",
    "- E) None"
   ]
  },
  {
   "cell_type": "markdown",
   "metadata": {},
   "source": [
    "### Pertanyaan #6\n",
    "Setelah menjalan kode berikut, tipe data apa yang ada pada `m`?"
   ]
  },
  {
   "cell_type": "code",
   "execution_count": 42,
   "metadata": {},
   "outputs": [
    {
     "data": {
      "text/plain": [
       "str"
      ]
     },
     "execution_count": 42,
     "metadata": {},
     "output_type": "execute_result"
    }
   ],
   "source": [
    "m = 1\n",
    "a = m\n",
    "m = 'a'\n",
    "type(m)"
   ]
  },
  {
   "cell_type": "markdown",
   "metadata": {},
   "source": [
    "## Operator\n",
    "\n",
    "Operator adalah simbol khusus yang melakukan operasi tertentu pada satu atau lebih operand (nilai) dan kemudian mengembalikan hasil. Sebagai contoh, kita dapat menghitung jumlah dari dua angka menggunakan operator penjumlahan (+). Operator terbagi banyak jenis, umumnya operator yang digunakan itu adalah operator aritmatika, operator relasional, operator assignment\n",
    "\n",
    "### Operator Aritmatika\n",
    "\n",
    "Operator aritmatika adalah yang paling umum digunakan. Bahasa pemrograman Python menyediakan operator aritmatika yang melakukan penjumlahan, pengurangan, perkalian, dan pembagian. Cara kerjanya sama seperti matematika dasar.\n",
    "\n",
    "Ada tujuh operator aritmatika yang dapat kita gunakan untuk melakukan berbagai operasi matematika, seperti:\n",
    "- (+)(Penjumlahan)\n",
    "- (-)(Pengurangan)\n",
    "- (*) (Perkalian)\n",
    "- (/) (Pembagian)\n",
    "- (//) (Pembagian dibulatkan ke bawah)\n",
    "- (℅) (Modulus)\n",
    "- (**) (Pangkat)"
   ]
  },
  {
   "cell_type": "markdown",
   "metadata": {},
   "source": [
    "#### Penjumlahan\n",
    "Ini menjumlahkan dua atau lebih operand dan memberikan hasilnya sebagai jumlah. Dalam istilah sederhana, ini melakukan penjumlahan dua atau lebih nilai dan memberikan hasilnya sebagai jumlah. Operator penjumlahan diliambangan dengan simbol `+`"
   ]
  },
  {
   "cell_type": "code",
   "execution_count": 43,
   "metadata": {},
   "outputs": [
    {
     "name": "stdout",
     "output_type": "stream",
     "text": [
      "30\n"
     ]
    }
   ],
   "source": [
    "x = 10\n",
    "y = 20\n",
    "print(x + y)"
   ]
  },
  {
   "cell_type": "markdown",
   "metadata": {},
   "source": [
    "Juga, kita bisa menggunakan operator penjumlahan dengan string, dan itu akan menjadi penggabungan string."
   ]
  },
  {
   "cell_type": "code",
   "execution_count": 44,
   "metadata": {},
   "outputs": [
    {
     "name": "stdout",
     "output_type": "stream",
     "text": [
      "Mahdy Al Akbar\n"
     ]
    }
   ],
   "source": [
    "first_name = \"Mahdy\"\n",
    "last_name = \"Al Akbar\"\n",
    "print(first_name + \" \" + last_name)"
   ]
  },
  {
   "cell_type": "markdown",
   "metadata": {},
   "source": [
    "#### Pengurangan\n",
    "Digunakan untuk mengurangi nilai kedua dari nilai pertama dan memberikan selisih antara keduany. Operator pengurangan dilambangkan dengan simbol `-`."
   ]
  },
  {
   "cell_type": "code",
   "execution_count": 45,
   "metadata": {},
   "outputs": [
    {
     "name": "stdout",
     "output_type": "stream",
     "text": [
      "30\n",
      "-30\n"
     ]
    }
   ],
   "source": [
    "x = 50\n",
    "y = 20\n",
    "print(x - y)\n",
    "print(y - x)"
   ]
  },
  {
   "cell_type": "markdown",
   "metadata": {},
   "source": [
    "#### Perkalian\n",
    "Mengalikan dua operand. Dalam istilah sederhana, ini digunakan untuk mengalikan dua atau lebih nilai. Operator perkalian dilambangkan dengan simbol `*`."
   ]
  },
  {
   "cell_type": "code",
   "execution_count": 46,
   "metadata": {},
   "outputs": [
    {
     "name": "stdout",
     "output_type": "stream",
     "text": [
      "24\n",
      "48\n"
     ]
    }
   ],
   "source": [
    "a = 8\n",
    "b = 3\n",
    "c = 2\n",
    "print(a * b)\n",
    "print(a * b * c)"
   ]
  },
  {
   "cell_type": "markdown",
   "metadata": {},
   "source": [
    "kita juga dapat menggunakan operator perkalian dengan string. Ketika digunakan dengan string, operator ini berfungsi sebagai pengulangan."
   ]
  },
  {
   "cell_type": "code",
   "execution_count": 48,
   "metadata": {},
   "outputs": [
    {
     "name": "stdout",
     "output_type": "stream",
     "text": [
      "AkbarAkbarAkbarAkbarAkbar\n"
     ]
    }
   ],
   "source": [
    "name = \"Akbar\"\n",
    "print(name * 5)"
   ]
  },
  {
   "cell_type": "markdown",
   "metadata": {},
   "source": [
    "#### Pembagian\n",
    "Membagi operand sebelah kiri (dividen) dengan operand sebelah kanan (penyebut) dan memberikan hasilnya dalam bentuk nilai float. Operator pembagian dilambangkan dengan simbol `/`."
   ]
  },
  {
   "cell_type": "code",
   "execution_count": 49,
   "metadata": {},
   "outputs": [
    {
     "name": "stdout",
     "output_type": "stream",
     "text": [
      "0.5\n",
      "0.07142857142857142\n"
     ]
    }
   ],
   "source": [
    "x = 2\n",
    "y = 4\n",
    "z = 7\n",
    "\n",
    "print(x/y)\n",
    "print(x/y/z)"
   ]
  },
  {
   "cell_type": "code",
   "execution_count": 51,
   "metadata": {},
   "outputs": [
    {
     "name": "stdout",
     "output_type": "stream",
     "text": [
      "1.0\n",
      "<class 'float'>\n"
     ]
    }
   ],
   "source": [
    "x = 4\n",
    "y = 4\n",
    "\n",
    "z = x / y\n",
    "print(z)\n",
    "print(type(z))\n"
   ]
  },
  {
   "cell_type": "markdown",
   "metadata": {},
   "source": [
    "#### Pembagian bulat\n",
    "Pembagian bulat mengembalikan hasil pembagian di mana digit setelah titik desimal dihapus. Dalam istilah sederhana, ini digunakan untuk membagi satu nilai dengan nilai kedua dan memberikan hasil bilangan sebagai nilai bulat ke angka bulat terkecil berikutnya.\n",
    "\n",
    "Cara kerjanya sama seperti operator pembagian, kecuali bahwa operator ini mengembalikan kemungkinan integer. Simbol `//` melambangkan operator pembagian bulat."
   ]
  },
  {
   "cell_type": "code",
   "execution_count": 1,
   "metadata": {},
   "outputs": [
    {
     "name": "stdout",
     "output_type": "stream",
     "text": [
      "1.6666666666666667\n",
      "1\n",
      "2.2727272727272725\n",
      "2.0\n"
     ]
    },
    {
     "ename": "",
     "evalue": "",
     "output_type": "error",
     "traceback": [
      "\u001b[1;31mThe Kernel crashed while executing code in the current cell or a previous cell. \n",
      "\u001b[1;31mPlease review the code in the cell(s) to identify a possible cause of the failure. \n",
      "\u001b[1;31mClick <a href='https://aka.ms/vscodeJupyterKernelCrash'>here</a> for more info. \n",
      "\u001b[1;31mView Jupyter <a href='command:jupyter.viewOutput'>log</a> for further details."
     ]
    }
   ],
   "source": [
    "a = 3\n",
    "b = 5\n",
    "c = 2.2\n",
    "\n",
    "# Pembagian normal\n",
    "print(b/a)\n",
    "\n",
    "# Pembagian bulat \n",
    "print(b//a)\n",
    "\n",
    "# Pembagian normal\n",
    "print(b/c)\n",
    "\n",
    "# Pembagian bulat\n",
    "print(b//c)"
   ]
  },
  {
   "cell_type": "markdown",
   "metadata": {},
   "source": [
    "Ada yang tau kenapa `b//a` menghasilkan tipe dataa integer, sedangkan `b//c` menghasilkan tipe data float?"
   ]
  },
  {
   "cell_type": "markdown",
   "metadata": {},
   "source": [
    "#### Modulus"
   ]
  },
  {
   "cell_type": "markdown",
   "metadata": {},
   "source": [
    "Dalam istilah sederhana, operator modulus membagi satu nilai dengan nilai kedua dan memberikan sisa sebagai hasil. Simbol `%` melambangkan operator modulus"
   ]
  },
  {
   "cell_type": "code",
   "execution_count": 54,
   "metadata": {},
   "outputs": [
    {
     "name": "stdout",
     "output_type": "stream",
     "text": [
      "2\n"
     ]
    }
   ],
   "source": [
    "a = 12\n",
    "b = 5\n",
    "print(a%b)"
   ]
  },
  {
   "cell_type": "markdown",
   "metadata": {},
   "source": [
    "#### Pangkat\n",
    "Dalam istilah sederhana, operand sebelah kiri dipangkatkan dengan operand sebelah kanan. Operator pangkat dilambangkan dengan simbol dua tanda bintang `**`"
   ]
  },
  {
   "cell_type": "code",
   "execution_count": 56,
   "metadata": {},
   "outputs": [
    {
     "name": "stdout",
     "output_type": "stream",
     "text": [
      "8\n"
     ]
    }
   ],
   "source": [
    "number = 2\n",
    "print(number**3)"
   ]
  },
  {
   "cell_type": "markdown",
   "metadata": {},
   "source": [
    "### Operator Relasional"
   ]
  },
  {
   "cell_type": "markdown",
   "metadata": {},
   "source": [
    "Operator relasional digunakan untuk membandingkan dua nilai atau variabel dan mengembalikan hasil dalam bentuk boolean (True atau False).\n",
    "\n",
    "Terdapat 4 operator relasional yang dapat digunakan yaitu:\n",
    "- Lebih besar dari `>`\n",
    "- Lebih kecil dari `<`\n",
    "- Sama dengan `==`\n",
    "- Tidak sama dengan `!=`"
   ]
  },
  {
   "cell_type": "markdown",
   "metadata": {},
   "source": [
    "#### Apa hasil dari operator relasional berikut:"
   ]
  },
  {
   "cell_type": "code",
   "execution_count": 57,
   "metadata": {},
   "outputs": [
    {
     "name": "stdout",
     "output_type": "stream",
     "text": [
      "True\n"
     ]
    }
   ],
   "source": [
    "a = 12\n",
    "b = 4\n",
    "c = 2\n",
    "\n",
    "# > Lebih dari\n",
    "print(a > b) \n"
   ]
  },
  {
   "cell_type": "code",
   "execution_count": 58,
   "metadata": {},
   "outputs": [
    {
     "name": "stdout",
     "output_type": "stream",
     "text": [
      "True\n"
     ]
    }
   ],
   "source": [
    "print(a > b > c)"
   ]
  },
  {
   "cell_type": "code",
   "execution_count": 59,
   "metadata": {},
   "outputs": [
    {
     "name": "stdout",
     "output_type": "stream",
     "text": [
      "False\n"
     ]
    }
   ],
   "source": [
    "# < Kurang dari\n",
    "print(a < b)\n"
   ]
  },
  {
   "cell_type": "code",
   "execution_count": 60,
   "metadata": {},
   "outputs": [
    {
     "name": "stdout",
     "output_type": "stream",
     "text": [
      "True\n"
     ]
    }
   ],
   "source": [
    "print(b < a)\n"
   ]
  },
  {
   "cell_type": "code",
   "execution_count": 61,
   "metadata": {},
   "outputs": [
    {
     "name": "stdout",
     "output_type": "stream",
     "text": [
      "False\n"
     ]
    }
   ],
   "source": [
    "\n",
    "# == Sama dengan\n",
    "print(a == b)\n"
   ]
  },
  {
   "cell_type": "code",
   "execution_count": 62,
   "metadata": {},
   "outputs": [
    {
     "name": "stdout",
     "output_type": "stream",
     "text": [
      "True\n"
     ]
    }
   ],
   "source": [
    "print(a == 12)\n"
   ]
  },
  {
   "cell_type": "code",
   "execution_count": 63,
   "metadata": {},
   "outputs": [
    {
     "name": "stdout",
     "output_type": "stream",
     "text": [
      "True\n"
     ]
    }
   ],
   "source": [
    "\n",
    "# != Tidak sama dengan\n",
    "print(a != b)\n"
   ]
  },
  {
   "cell_type": "code",
   "execution_count": 64,
   "metadata": {},
   "outputs": [
    {
     "name": "stdout",
     "output_type": "stream",
     "text": [
      "False\n"
     ]
    }
   ],
   "source": [
    "print(12 != a)\n",
    "\n",
    "# >= Lebih dari sama dengan"
   ]
  },
  {
   "cell_type": "code",
   "execution_count": 65,
   "metadata": {},
   "outputs": [
    {
     "name": "stdout",
     "output_type": "stream",
     "text": [
      "True\n"
     ]
    }
   ],
   "source": [
    "print(a >= b)"
   ]
  },
  {
   "cell_type": "code",
   "execution_count": 66,
   "metadata": {},
   "outputs": [
    {
     "name": "stdout",
     "output_type": "stream",
     "text": [
      "True\n"
     ]
    }
   ],
   "source": [
    "print(12 >= a) "
   ]
  },
  {
   "cell_type": "code",
   "execution_count": 67,
   "metadata": {},
   "outputs": [
    {
     "name": "stdout",
     "output_type": "stream",
     "text": [
      "False\n"
     ]
    }
   ],
   "source": [
    "# <= Kurang dari sama dengan\n",
    "print(a <= b)\n"
   ]
  },
  {
   "cell_type": "code",
   "execution_count": 68,
   "metadata": {},
   "outputs": [
    {
     "name": "stdout",
     "output_type": "stream",
     "text": [
      "True\n"
     ]
    }
   ],
   "source": [
    "print(12 <= a)"
   ]
  },
  {
   "cell_type": "markdown",
   "metadata": {},
   "source": [
    "### Operator Assignment\n",
    "Operator Assignment digunakan untuk menetapkan nilai ke variabel. Operator ini mengambil nilai dari operand di sisi kanan dan menugaskannya ke variabel di sisi kiri. Beberapa operator penugasan yang umum digunakan dalam Python adalah sebagai berikut:\n",
    "- Menetapkan nilai `=`\n",
    "- Menambahkan nilai dan menetapkannya `+=`\n",
    "- Mengurangi nilai dan menetapkannya `-=`\n",
    "- Mengalikan nilai dan menetapkannya `*=`\n",
    "- Membagi nilai dan menetapkannya `/=`\n",
    "- Pangkat nilai dan menetapkannya `**=`\n",
    "- Modulus nilai dan menetapkannya `%=`\n",
    "- Pembagian bulat kebawah dan menetapkannya `//=`"
   ]
  },
  {
   "cell_type": "markdown",
   "metadata": {},
   "source": [
    "#### Apa hasil dari operator Assignment berikut:"
   ]
  },
  {
   "cell_type": "code",
   "execution_count": 70,
   "metadata": {},
   "outputs": [
    {
     "name": "stdout",
     "output_type": "stream",
     "text": [
      "6\n",
      "8\n"
     ]
    }
   ],
   "source": [
    "a = 4\n",
    "b = 2\n",
    "\n",
    "a += b\n",
    "print(a)\n",
    "\n",
    "# Logika penyelesaiannya sama\n",
    "a = 4\n",
    "b = 2\n",
    "a = a + b\n",
    "print(a)"
   ]
  },
  {
   "cell_type": "code",
   "execution_count": 72,
   "metadata": {},
   "outputs": [
    {
     "name": "stdout",
     "output_type": "stream",
     "text": [
      "2\n"
     ]
    }
   ],
   "source": [
    "a = 4\n",
    "a -= 2\n",
    "print(a)"
   ]
  },
  {
   "cell_type": "code",
   "execution_count": 73,
   "metadata": {},
   "outputs": [
    {
     "name": "stdout",
     "output_type": "stream",
     "text": [
      "8\n"
     ]
    }
   ],
   "source": [
    "a = 4\n",
    "a *= 2\n",
    "print(a)"
   ]
  },
  {
   "cell_type": "code",
   "execution_count": 74,
   "metadata": {},
   "outputs": [
    {
     "name": "stdout",
     "output_type": "stream",
     "text": [
      "2.0\n"
     ]
    }
   ],
   "source": [
    "\n",
    "a = 4\n",
    "a /= 2\n",
    "print(a)\n"
   ]
  },
  {
   "cell_type": "code",
   "execution_count": 75,
   "metadata": {},
   "outputs": [
    {
     "name": "stdout",
     "output_type": "stream",
     "text": [
      "16\n"
     ]
    }
   ],
   "source": [
    "a = 4\n",
    "a **= 2\n",
    "print(a)\n"
   ]
  },
  {
   "cell_type": "code",
   "execution_count": 76,
   "metadata": {},
   "outputs": [
    {
     "name": "stdout",
     "output_type": "stream",
     "text": [
      "1\n"
     ]
    }
   ],
   "source": [
    "a = 5\n",
    "a %= 2\n",
    "print(a)"
   ]
  },
  {
   "cell_type": "code",
   "execution_count": 77,
   "metadata": {},
   "outputs": [
    {
     "name": "stdout",
     "output_type": "stream",
     "text": [
      "2\n"
     ]
    }
   ],
   "source": [
    "a = 4\n",
    "a //= 2\n",
    "print(a)"
   ]
  }
 ],
 "metadata": {
  "kernelspec": {
   "display_name": "analytics",
   "language": "python",
   "name": "python3"
  },
  "language_info": {
   "codemirror_mode": {
    "name": "ipython",
    "version": 3
   },
   "file_extension": ".py",
   "mimetype": "text/x-python",
   "name": "python",
   "nbconvert_exporter": "python",
   "pygments_lexer": "ipython3",
   "version": "3.11.8"
  }
 },
 "nbformat": 4,
 "nbformat_minor": 2
}
