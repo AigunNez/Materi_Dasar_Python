{
 "cells": [
  {
   "cell_type": "markdown",
   "metadata": {},
   "source": [
    "# Loop"
   ]
  },
  {
   "cell_type": "markdown",
   "metadata": {},
   "source": [
    "Loop atau perulangan merupakan statement yang berfungsi untuk melakukan sesuatu secara berulang-ulang dengan kondisi tertentu. Di Python, ada beberapa loop yang sering digunakan yaitu :\n",
    "- While Loop \n",
    "- For Loop \n",
    "- Nested Loop \n",
    "- Break dan Continue"
   ]
  },
  {
   "cell_type": "markdown",
   "metadata": {},
   "source": [
    "### While Loop"
   ]
  },
  {
   "cell_type": "markdown",
   "metadata": {},
   "source": [
    "while loop digunakan untuk mengeksekusi blok kode selama kondisi tertentu adalah True. Loop ini sangat berguna ketika jumlah iterasi tidak diketahui sebelumnya.\n",
    "\n",
    "Ketika while loop dilakukan, program pertama kali mengecek kondisi yang diberikan dalam bentuk `Boolean`. Jika itu `True`, blok kode akan dieksekusi. Kemudian kondisi diperiksa lagi, dan jika masih `True`, blok kode dieksekusi lagi. Ini terus berlanjut hingga kondisi menjadi `False`, pada titik mana eksekusi program dilanjutkan ke statement pertama."
   ]
  },
  {
   "cell_type": "code",
   "execution_count": 1,
   "metadata": {},
   "outputs": [
    {
     "name": "stdout",
     "output_type": "stream",
     "text": [
      "4\n",
      "3\n",
      "2\n",
      "1\n",
      "0\n"
     ]
    }
   ],
   "source": [
    "n = 5\n",
    "while n > 0:\n",
    "    n -= 1\n",
    "    # n = n - 1\n",
    "    print(n)"
   ]
  },
  {
   "cell_type": "markdown",
   "metadata": {},
   "source": [
    "Berikut adalah apa yang terjadi dalam contoh ini: n awalnya adalah 5. kondisi pernyataan while adalah n > 0, yang `True`, jadi kode blok loop dieksekusi. Di dalam kode blok loop pada baris selanjutnya, n dikurangi 1 menjadi 4, dan kemudian dicetak.\n",
    "\n",
    "Ketika kode blok loop selesai, eksekusi program kembali ke atas loop di baris 2, dan kondisi dievaluasi lagi. Ini masih `True`, jadi kode blok dieksekusi lagi, dan 3 dicetak.\n",
    "\n",
    "Ini berlanjut hingga n menjadi 0. Pada titik itu, ketika kondisi diuji, itu `False`, dan loop berakhir.\n",
    "\n",
    "Perhatikan bahwa kondisi pengendali dari loop while diuji terlebih dahulu, sebelum yang lainnya terjadi. Jika `False` sejak awal, kode blok loop tidak akan pernah dieksekusi sama sekali:"
   ]
  },
  {
   "cell_type": "code",
   "execution_count": 3,
   "metadata": {},
   "outputs": [],
   "source": [
    "n = 0\n",
    "while n > 0:\n",
    "    n -= 1\n",
    "    print(n)"
   ]
  },
  {
   "cell_type": "markdown",
   "metadata": {},
   "source": [
    "Dalam contoh di atas, ketika loop dijumpai, n adalah 0. Ekspresi pengendali n > 0 sudah `False`, jadi code block loop tidak pernah dieksekusi."
   ]
  },
  {
   "cell_type": "markdown",
   "metadata": {},
   "source": [
    "Kita juga dapat membuat infinite loops menggunakan while"
   ]
  },
  {
   "cell_type": "code",
   "execution_count": null,
   "metadata": {},
   "outputs": [],
   "source": [
    "x = 1\n",
    "while True:\n",
    "    print('Looping ke', x)\n",
    "    x += 1 "
   ]
  },
  {
   "cell_type": "markdown",
   "metadata": {},
   "source": [
    "Python menyediakan pernyataan yang menggabungkan `while` dengan `else`. Meskipun penggunaan else dengan loop tidak begitu umum, ini memungkinkan Anda untuk menjalankan blok kode setelah loop selesai"
   ]
  },
  {
   "cell_type": "code",
   "execution_count": 6,
   "metadata": {},
   "outputs": [
    {
     "name": "stdout",
     "output_type": "stream",
     "text": [
      "0\n",
      "1\n",
      "2\n",
      "3\n",
      "4\n",
      "Loop selesai\n"
     ]
    }
   ],
   "source": [
    "count = 0\n",
    "\n",
    "while count < 5:\n",
    "    print(count)\n",
    "    count += 1\n",
    "else:\n",
    "    print(\"Loop selesai\")\n"
   ]
  },
  {
   "cell_type": "markdown",
   "metadata": {},
   "source": [
    "### For Loop"
   ]
  },
  {
   "cell_type": "markdown",
   "metadata": {},
   "source": [
    "For loop atau perulangan for pada python adalah statement yang berfungsi untuk melakukan sesuatu secara berulang-ulang dalam range tertenetu.\n",
    "\n",
    "Berbeda dengan while-loop yang bergantung pada Boolean, perulangan for-loop berantung pada rentang banyak elemen atau range tertentu. Biasanya perulangan `for` digunakan dengan data collection seperti List, Tuple, String, dan lain-lainnya."
   ]
  },
  {
   "cell_type": "code",
   "execution_count": 7,
   "metadata": {},
   "outputs": [
    {
     "name": "stdout",
     "output_type": "stream",
     "text": [
      "1\n",
      "2\n",
      "3\n",
      "4\n"
     ]
    }
   ],
   "source": [
    "# Dengan rentang 5-1\n",
    "for i in range(1,5): \n",
    "    print(i)"
   ]
  },
  {
   "cell_type": "markdown",
   "metadata": {},
   "source": [
    "fungsi <strong>range()</strong>adalah fungsi yang disediakan oleh Python untuk mengiterasi sekumpulan angka.\n",
    "\n",
    "Sintaks fungsi <strong>range()</strong> dapat dilihat berikut: <br>\n",
    "```range(start, stop, step)```\n",
    "\n",
    "Parameter fungsi <strong>range()</strong>\n",
    "- start : angka awal dari urutan.\n",
    "- stop : Menghasilkan angka hingga kurang dari angka tersebut (n-1)\n",
    "- step (opsional) : menentukan seberapa banyak operasi antara setiap angka ketika iterasi"
   ]
  },
  {
   "cell_type": "code",
   "execution_count": 8,
   "metadata": {},
   "outputs": [
    {
     "name": "stdout",
     "output_type": "stream",
     "text": [
      "0\n",
      "1\n",
      "2\n",
      "3\n",
      "4\n",
      "5\n",
      "6\n",
      "7\n",
      "8\n",
      "9\n"
     ]
    }
   ],
   "source": [
    "for i in range(10):\n",
    "    print(i)"
   ]
  },
  {
   "cell_type": "code",
   "execution_count": 9,
   "metadata": {},
   "outputs": [
    {
     "name": "stdout",
     "output_type": "stream",
     "text": [
      "2\n",
      "3\n",
      "4\n",
      "5\n",
      "6\n",
      "7\n",
      "8\n"
     ]
    }
   ],
   "source": [
    "for i in range(2,9):\n",
    "    print(i)"
   ]
  },
  {
   "cell_type": "code",
   "execution_count": 10,
   "metadata": {},
   "outputs": [
    {
     "name": "stdout",
     "output_type": "stream",
     "text": [
      "2\n",
      "4\n",
      "6\n",
      "8\n"
     ]
    }
   ],
   "source": [
    "for i in range(2,9,2):\n",
    "    print(i)"
   ]
  },
  {
   "cell_type": "markdown",
   "metadata": {},
   "source": [
    "Python menyediakan pernyataan yang menggabungkan `for` dengan `else`. Meskipun penggunaan else dengan loop tidak begitu umum, ini memungkinkan Anda untuk menjalankan blok kode setelah loop selesai"
   ]
  },
  {
   "cell_type": "code",
   "execution_count": 11,
   "metadata": {},
   "outputs": [
    {
     "name": "stdout",
     "output_type": "stream",
     "text": [
      "0\n",
      "1\n",
      "2\n",
      "3\n",
      "4\n",
      "5\n",
      "Looping selesai\n"
     ]
    }
   ],
   "source": [
    "for x in range(6):\n",
    "  print(x)\n",
    "else:\n",
    "  print(\"Looping selesai\")"
   ]
  },
  {
   "cell_type": "markdown",
   "metadata": {},
   "source": [
    "For loop jika bisa dilakukan dengan variabel collection dan string"
   ]
  },
  {
   "cell_type": "code",
   "execution_count": 12,
   "metadata": {},
   "outputs": [
    {
     "name": "stdout",
     "output_type": "stream",
     "text": [
      "A\n",
      "True\n",
      "12\n"
     ]
    }
   ],
   "source": [
    "list = ['A', True, 12]\n",
    "\n",
    "for item in list:\n",
    "    print(item)"
   ]
  },
  {
   "cell_type": "markdown",
   "metadata": {},
   "source": [
    "### Nested Loop"
   ]
  },
  {
   "cell_type": "markdown",
   "metadata": {},
   "source": [
    "Nested loop merupakan loop yang memiliki loop lainnya didalam blok kodenya. Ini memungkinkan untuk melakukan iterasi melalui elemen dari beberapa collection atau struktur data yang lebih kompleks secara bersamaan. Nested loops sering digunakan dalam pemrograman untuk menangani array multidimensi atau ketika perlu melakukan beberapa pengulangan bersarang."
   ]
  },
  {
   "cell_type": "code",
   "execution_count": 13,
   "metadata": {},
   "outputs": [
    {
     "name": "stdout",
     "output_type": "stream",
     "text": [
      "* \n",
      "* * \n",
      "* * * \n",
      "* * * * \n",
      "* * * * * \n"
     ]
    }
   ],
   "source": [
    "rows = 5\n",
    "for i in range(1, rows + 1):\n",
    "    for j in range(1, i + 1):\n",
    "        print(\"*\", end=\" \")\n",
    "    print('')"
   ]
  },
  {
   "cell_type": "code",
   "execution_count": 14,
   "metadata": {},
   "outputs": [
    {
     "name": "stdout",
     "output_type": "stream",
     "text": [
      "1 \n",
      "2 2 \n",
      "3 3 3 \n",
      "4 4 4 4 \n",
      "5 5 5 5 5 \n"
     ]
    }
   ],
   "source": [
    "for i in range(1,6):\n",
    "    for j in range(0,i):\n",
    "        print(i,end=\" \")\n",
    "    print('')"
   ]
  },
  {
   "cell_type": "code",
   "execution_count": 15,
   "metadata": {},
   "outputs": [
    {
     "name": "stdout",
     "output_type": "stream",
     "text": [
      "* * * * * \n",
      "* * * * \n",
      "* * * \n",
      "* * \n",
      "* \n"
     ]
    }
   ],
   "source": [
    "for i in range(1, 6):\n",
    "    for j in range(5, i - 1, -1):\n",
    "        print(\"*\", end=\" \")\n",
    "    print('')"
   ]
  },
  {
   "cell_type": "code",
   "execution_count": 16,
   "metadata": {},
   "outputs": [
    {
     "name": "stdout",
     "output_type": "stream",
     "text": [
      "1 1 1 1 1 \n",
      "2 2 2 2 \n",
      "3 3 3 \n",
      "4 4 \n",
      "5 \n"
     ]
    }
   ],
   "source": [
    "for i in range(1,6):\n",
    "    for j in range(5,i-1,-1):\n",
    "        print(i,end=\" \")\n",
    "    print('')"
   ]
  },
  {
   "cell_type": "markdown",
   "metadata": {},
   "source": [
    "### Break dan Continue"
   ]
  },
  {
   "cell_type": "markdown",
   "metadata": {},
   "source": [
    "`break` dan `continue` adalah pernyataan kondisi yang digunakan dalam loop (baik `for` maupun `while`) untuk mengubah alur eksekusi. Masing-masing memiliki fungsi yang berbeda"
   ]
  },
  {
   "cell_type": "markdown",
   "metadata": {},
   "source": [
    "#### Break\n",
    "\n",
    "Pernyataan break digunakan untuk menghentikan loop secara langsung. Ketika break dieksekusi, loop yang sedang berjalan akan segera berhenti, dan eksekusi program akan melanjutkan ke pernyataan pertama setelah loop tersebut."
   ]
  },
  {
   "cell_type": "code",
   "execution_count": 18,
   "metadata": {},
   "outputs": [
    {
     "name": "stdout",
     "output_type": "stream",
     "text": [
      "0\n",
      "1\n",
      "2\n",
      "3\n",
      "4\n"
     ]
    }
   ],
   "source": [
    "for i in range(0, 10):\n",
    "    if i == 5:\n",
    "        break  # Menghentikan loop ketika i mencapai 5\n",
    "    print(i)"
   ]
  },
  {
   "cell_type": "markdown",
   "metadata": {},
   "source": [
    "Dalam contoh ini, loop for akan berhenti ketika `i` mencapai 5. Oleh karena itu, hanya nilai 0 hingga 4 yang dicetak."
   ]
  },
  {
   "cell_type": "markdown",
   "metadata": {},
   "source": [
    "#### Continue\n",
    "\n",
    "Pernyataan continue digunakan untuk melewatkan iterasi saat ini dan melanjutkan ke iterasi berikutnya dari loop. Ketika continue dieksekusi, sisa kode dalam blok loop tidak akan dijalankan untuk iterasi, dan kode akan kembali ke awal loop."
   ]
  },
  {
   "cell_type": "code",
   "execution_count": 19,
   "metadata": {},
   "outputs": [
    {
     "name": "stdout",
     "output_type": "stream",
     "text": [
      "1\n",
      "3\n",
      "5\n",
      "7\n",
      "9\n"
     ]
    }
   ],
   "source": [
    "for i in range(0, 10):\n",
    "    if i % 2 == 0:\n",
    "        continue  # Melewatkan angka genap\n",
    "    print(i)"
   ]
  },
  {
   "cell_type": "markdown",
   "metadata": {},
   "source": [
    "Dalam contoh ini, loop for akan mencetak hanya angka ganjil. Ketika i adalah angka genap, pernyataan continue akan mengabaikan iterasi tersebut dan melanjutkan ke angka berikutnya."
   ]
  }
 ],
 "metadata": {
  "kernelspec": {
   "display_name": "analytics",
   "language": "python",
   "name": "python3"
  },
  "language_info": {
   "codemirror_mode": {
    "name": "ipython",
    "version": 3
   },
   "file_extension": ".py",
   "mimetype": "text/x-python",
   "name": "python",
   "nbconvert_exporter": "python",
   "pygments_lexer": "ipython3",
   "version": "3.11.8"
  }
 },
 "nbformat": 4,
 "nbformat_minor": 2
}
