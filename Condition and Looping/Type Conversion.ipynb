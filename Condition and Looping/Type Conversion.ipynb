{
 "cells": [
  {
   "cell_type": "markdown",
   "metadata": {},
   "source": [
    "# Conversion (Konversi)"
   ]
  },
  {
   "cell_type": "markdown",
   "metadata": {},
   "source": [
    "Dalam Python, konversi mengacu pada proses mengubah tipe data dari satu bentuk ke bentuk lain. Ini bisa terjadi secara implisit (otomatis) atau eksplisit (melalui casting manual oleh programmer). Terdapat 2 tipe konversi yaitu :"
   ]
  },
  {
   "cell_type": "markdown",
   "metadata": {},
   "source": [
    "### Implicit Conversion (Konversi Implisit)\n",
    "Implicit Conversion adalah proses otomatis yang dilakukan oleh Python untuk mengubah satu tipe data ke tipe data lain, biasanya ketika melakukan operasi antara dua tipe yang berbeda. Python secara otomatis mengonversi satu tipe data ke tipe lain di saat diperlukan. Dalam hal ini, Python menangani perbedaan tipe data secara otomatis tanpa memerlukan intervensi dari programmer.\n",
    "\n",
    "Python melakukan implicit conversion ketika tipe data yang berbeda terlibat dalam operasi, dan hasil operasinya secara logis lebih tepat bila dikonversi ke tipe yang lebih umum atau \"lebih besar\". Misalnya, Python lebih suka bekerja dengan tipe float dibandingkan integer saat melakukan operasi matematika yang melibatkan kedua tipe ini, karena float bisa menampung nilai desimal dan lebih umum."
   ]
  },
  {
   "cell_type": "code",
   "execution_count": 14,
   "metadata": {},
   "outputs": [
    {
     "name": "stdout",
     "output_type": "stream",
     "text": [
      "7.5\n",
      "<class 'float'>\n"
     ]
    }
   ],
   "source": [
    "int_var = 5        # integer\n",
    "float_var = 2.5    # float\n",
    "\n",
    "result = int_var + float_var  # integer di-convert ke float secara otomatis\n",
    "print(result)\n",
    "print(type(result))"
   ]
  },
  {
   "cell_type": "markdown",
   "metadata": {},
   "source": [
    "Dalam contoh ini, Python otomatis mengonversi `int_var` menjadi float untuk menyamakan tipe data dalam operasi penambahan, sehingga hasilnya menjadi float."
   ]
  },
  {
   "cell_type": "markdown",
   "metadata": {},
   "source": [
    "### Explicit Conversion (Casting)"
   ]
  },
  {
   "cell_type": "markdown",
   "metadata": {},
   "source": [
    "Explicit Conversion kebalikan dari Implicit Conversion, jika programmer secara manual mengonversi satu tipe data ke tipe lainnya, proses ini disebut explicit conversion atau casting. Dalam kasus ini, Python tidak melakukan apa pun secara otomatis. Programmer bertanggung jawab untuk memastikan bahwa tipe data dapat dikonversi dengan benar. Jadi disini kita mengonversi tipe data secara manual\n",
    "\n",
    "Pada Explicit Conversion, kita dapat mengonversi satu tipe data ke tipe data lainnya menggunakan fungsi yang sudah disediakan Python yaitu:\n",
    "- int() : konversi tipe data ke bilangan bulat (integer)\n",
    "- float() : konversi tipe data ke desimal \n",
    "- complex() : konversi tipe ke compleks\n",
    "- bool() : konversi data ke boolean\n",
    "- str() : konvevrsi tipe data ke string"
   ]
  },
  {
   "cell_type": "code",
   "execution_count": 15,
   "metadata": {},
   "outputs": [
    {
     "name": "stdout",
     "output_type": "stream",
     "text": [
      "10 merupakan <class 'str'>\n",
      "10 merupakan <class 'int'>\n"
     ]
    }
   ],
   "source": [
    "x = \"10\"\n",
    "print(x, 'merupakan', type(x))\n",
    "y = int(x)\n",
    "print(y, 'merupakan', type(y))"
   ]
  },
  {
   "cell_type": "markdown",
   "metadata": {},
   "source": [
    "<strong>Catatan : </strong> ketika melakukan konversi, kehilangan data pada variabel mungkin akan terjadi saat kita memaksakan objekk ke tipe data tertentu"
   ]
  },
  {
   "cell_type": "code",
   "execution_count": 16,
   "metadata": {},
   "outputs": [
    {
     "data": {
      "text/plain": [
       "10"
      ]
     },
     "execution_count": 16,
     "metadata": {},
     "output_type": "execute_result"
    }
   ],
   "source": [
    "x = 10.5\n",
    "y = int(x)\n",
    "y"
   ]
  },
  {
   "cell_type": "markdown",
   "metadata": {},
   "source": [
    "### Konversi Tipe Int"
   ]
  },
  {
   "cell_type": "markdown",
   "metadata": {},
   "source": [
    "Dalam konversi tipe int, kita dapat menggunakan fungsi `int()` untuk konversi variabel ke tipe int. Variabel bisa berupa ipe apa saja seperti float, string, boolean.\n",
    "\n",
    "Ketika melakukan konversi tipe int, perlu diingat beberapa poin berikut:\n",
    "- Saat melakukan konversi string ke integer, pastikan string memuat angka dan harus berbasis 10\n",
    "- kita bisa melakukan konversi tipe apapun ke integer, kecuali tipe compleks. Kita tidak bisa konversi tipe kompleks ke tipe integer."
   ]
  },
  {
   "cell_type": "markdown",
   "metadata": {},
   "source": [
    "##### Konversi Float ke Integer"
   ]
  },
  {
   "cell_type": "code",
   "execution_count": 17,
   "metadata": {},
   "outputs": [
    {
     "name": "stdout",
     "output_type": "stream",
     "text": [
      "<class 'float'>\n",
      "Integer number: 3\n",
      "<class 'int'>\n"
     ]
    }
   ],
   "source": [
    "pi = 3.14 \n",
    "print(type(pi))\n",
    "\n",
    "num = int(pi)\n",
    "print(\"Integer number:\", num)\n",
    "print(type(num))"
   ]
  },
  {
   "cell_type": "markdown",
   "metadata": {},
   "source": [
    "##### Konversi Boolean ke Integer"
   ]
  },
  {
   "cell_type": "code",
   "execution_count": 18,
   "metadata": {},
   "outputs": [
    {
     "name": "stdout",
     "output_type": "stream",
     "text": [
      "<class 'bool'>\n",
      "Integer number 1: 1\n",
      "<class 'int'>\n",
      "Integer number 2: 0\n",
      "<class 'int'>\n"
     ]
    }
   ],
   "source": [
    "flag_true = True\n",
    "flag_false = False\n",
    "print(type(flag_true))\n",
    "\n",
    "num1 = int(flag_true)\n",
    "num2 = int(flag_false)\n",
    "\n",
    "print(\"Integer number 1:\", num1)  \n",
    "print(type(num1))  \n",
    "\n",
    "print(\"Integer number 2:\", num2)\n",
    "print(type(num2))"
   ]
  },
  {
   "cell_type": "markdown",
   "metadata": {},
   "source": [
    "##### Konversi String ke Integer\n"
   ]
  },
  {
   "cell_type": "code",
   "execution_count": 19,
   "metadata": {},
   "outputs": [
    {
     "name": "stdout",
     "output_type": "stream",
     "text": [
      "<class 'str'>\n",
      "Integer number 1: 225\n",
      "<class 'int'>\n"
     ]
    }
   ],
   "source": [
    "string_num = \"225\"\n",
    "print(type(string_num))\n",
    "\n",
    "num1 = int(string_num)\n",
    "\n",
    "print(\"Integer number 1:\", num1)\n",
    "print(type(num1))"
   ]
  },
  {
   "cell_type": "markdown",
   "metadata": {},
   "source": [
    "Saat melakukan konversi string ke integer, pastikan string memuat angka dan harus berbasis 10"
   ]
  },
  {
   "cell_type": "code",
   "execution_count": 20,
   "metadata": {},
   "outputs": [
    {
     "name": "stdout",
     "output_type": "stream",
     "text": [
      "<class 'str'>\n"
     ]
    },
    {
     "ename": "ValueError",
     "evalue": "invalid literal for int() with base 10: 'Score is 25'",
     "output_type": "error",
     "traceback": [
      "\u001b[1;31m---------------------------------------------------------------------------\u001b[0m",
      "\u001b[1;31mValueError\u001b[0m                                Traceback (most recent call last)",
      "Cell \u001b[1;32mIn[20], line 4\u001b[0m\n\u001b[0;32m      1\u001b[0m string_num \u001b[38;5;241m=\u001b[39m \u001b[38;5;124m'\u001b[39m\u001b[38;5;124mScore is 25\u001b[39m\u001b[38;5;124m'\u001b[39m\n\u001b[0;32m      2\u001b[0m \u001b[38;5;28mprint\u001b[39m(\u001b[38;5;28mtype\u001b[39m(string_num))\n\u001b[1;32m----> 4\u001b[0m num \u001b[38;5;241m=\u001b[39m \u001b[38;5;28mint\u001b[39m(string_num)\n\u001b[0;32m      5\u001b[0m \u001b[38;5;28mprint\u001b[39m(num)\n",
      "\u001b[1;31mValueError\u001b[0m: invalid literal for int() with base 10: 'Score is 25'"
     ]
    }
   ],
   "source": [
    "string_num = 'Score is 25'\n",
    "print(type(string_num))\n",
    "\n",
    "num = int(string_num)\n",
    "print(num)"
   ]
  },
  {
   "cell_type": "markdown",
   "metadata": {},
   "source": [
    "### Konversi Tipe Float\n",
    "Dalam konversi tipe float, kita dapat menggunakan fungsi yang sudah disediakan Python yaitu `float()`. Fungsi ini dapat mengonversi variabel tipe apapun menjadi tipe float.\n",
    "\n",
    "Ketika melakukan konversi tipe float, perlu diingat beberapa poin berikut:\n",
    "- Saat melakukan konversi string ke float, pastikan string memuat angka atau desimal dan harus berbasis 10\n",
    "- kita bisa melakukan konversi tipe apapun ke float, kecuali tipe kompleks. Kita tidak bisa konversi tipe kompleks ke tipe float."
   ]
  },
  {
   "cell_type": "markdown",
   "metadata": {},
   "source": [
    "##### Konversi Integer ke Float"
   ]
  },
  {
   "cell_type": "code",
   "execution_count": 21,
   "metadata": {},
   "outputs": [
    {
     "name": "stdout",
     "output_type": "stream",
     "text": [
      "<class 'int'>\n",
      "Float number: 725.0\n",
      "<class 'float'>\n"
     ]
    }
   ],
   "source": [
    "num = 725\n",
    "print(type(num))\n",
    "\n",
    "# converting float to integer\n",
    "num1 = float(num)\n",
    "\n",
    "print(\"Float number:\", num1)\n",
    "print(type(num1))\n"
   ]
  },
  {
   "cell_type": "markdown",
   "metadata": {},
   "source": [
    "##### Konversi Boolean ke Float"
   ]
  },
  {
   "cell_type": "code",
   "execution_count": 22,
   "metadata": {},
   "outputs": [
    {
     "name": "stdout",
     "output_type": "stream",
     "text": [
      "<class 'bool'>\n",
      "Float number 1: 1.0\n",
      "<class 'float'>\n",
      "Float number 2: 0.0\n",
      "<class 'float'>\n"
     ]
    }
   ],
   "source": [
    "flag_true = True\n",
    "flag_false = False\n",
    "print(type(flag_true)) \n",
    "\n",
    "# converting boolean to float\n",
    "num1 = float(flag_true)\n",
    "num2 = float(flag_false)\n",
    "\n",
    "print(\"Float number 1:\", num1)\n",
    "print(type(num1))\n",
    "\n",
    "print(\"Float number 2:\", num2)\n",
    "print(type(num2))\n"
   ]
  },
  {
   "cell_type": "markdown",
   "metadata": {},
   "source": [
    "##### Konversi String ke Float"
   ]
  },
  {
   "cell_type": "code",
   "execution_count": 23,
   "metadata": {},
   "outputs": [
    {
     "name": "stdout",
     "output_type": "stream",
     "text": [
      "<class 'str'>\n",
      "Float number: 725.535\n",
      "<class 'float'>\n"
     ]
    }
   ],
   "source": [
    "string_num = \"725.535\"\n",
    "print(type(string_num))\n",
    "\n",
    "# converting str to float\n",
    "num1 = float(string_num)\n",
    "\n",
    "print(\"Float number:\", num1)\n",
    "print(type(num1))\n"
   ]
  },
  {
   "cell_type": "markdown",
   "metadata": {},
   "source": [
    "### Konversi Tipe Kompleks\n",
    "Dalam konversi tipe kompleks, kita menggunakan fungsi bawaan `complex()` untuk mengonversi nilai dari tipe lain ke tipe kompleks. Nilai dapat berupa tipe apa saja, termasuk int, float, bool, dan str.\n",
    "\n",
    "Fungsi `complex()` memiliki dua bentuk berikut untuk konversi yaitu :\n",
    "- `complex(x)`: Untuk mengonversi nilai x menjadi tipe kompleks. Dalam bentuk ini, nilai riil adalah x, dan nilai imajinernya adalah 0.\n",
    "- `complex(x, y)`: Untuk mengonversi nilai x dan y menjadi tipe kompleks. Dalam bentuk ini, nilai riil adalah x, dan nilai imajinernya adalah y."
   ]
  },
  {
   "cell_type": "markdown",
   "metadata": {},
   "source": [
    "#### Konversi Integer ke Kompleks"
   ]
  },
  {
   "cell_type": "code",
   "execution_count": 24,
   "metadata": {},
   "outputs": [
    {
     "name": "stdout",
     "output_type": "stream",
     "text": [
      "<class 'int'>\n",
      "Complex number: (135+0j)\n",
      "<class 'complex'>\n",
      "Complex number: (135+235j)\n",
      "<class 'complex'>\n"
     ]
    }
   ],
   "source": [
    "r_num = 135\n",
    "print(type(r_num)) # class 'int'\n",
    "\n",
    "# converting int to complex(x)\n",
    "c_num = complex(r_num)\n",
    "\n",
    "print(\"Complex number:\", c_num)\n",
    "print(type(c_num))\n",
    "\n",
    "# converting int to complex(x, y)\n",
    "r_num, i_num2 = 135, 235\n",
    "c_num = complex(r_num, i_num2)\n",
    "\n",
    "print(\"Complex number:\", c_num)\n",
    "print(type(c_num))  # class 'complex'"
   ]
  },
  {
   "cell_type": "markdown",
   "metadata": {},
   "source": [
    "Konversi Float ke Kompleks"
   ]
  },
  {
   "cell_type": "code",
   "execution_count": 25,
   "metadata": {},
   "outputs": [
    {
     "name": "stdout",
     "output_type": "stream",
     "text": [
      "<class 'float'>\n",
      "Complex number: (53.25+0j)\n",
      "<class 'complex'>\n",
      "Complex number: (53.25+350.75j)\n",
      "<class 'complex'>\n"
     ]
    }
   ],
   "source": [
    "r_num = 53.250\n",
    "print(type(r_num))  # class 'float'\n",
    "\n",
    "# converting float to complex(x)\n",
    "c_num = complex(r_num)\n",
    "\n",
    "print(\"Complex number:\", c_num)\n",
    "print(type(c_num))  \n",
    "\n",
    "# converting float to complex(x, y)\n",
    "r_num, i_num2 = 53.250, 350.750\n",
    "c_num = complex(r_num, i_num2)\n",
    "\n",
    "print(\"Complex number:\", c_num)\n",
    "print(type(c_num))\n"
   ]
  },
  {
   "cell_type": "markdown",
   "metadata": {},
   "source": [
    "#### Konversi Boolean ke Kompleks "
   ]
  },
  {
   "cell_type": "code",
   "execution_count": 26,
   "metadata": {},
   "outputs": [
    {
     "name": "stdout",
     "output_type": "stream",
     "text": [
      "<class 'bool'>\n",
      "Complex number: (1+0j)\n",
      "<class 'complex'>\n",
      "Complex number: 1j\n",
      "<class 'complex'>\n"
     ]
    }
   ],
   "source": [
    "boolean_true = True\n",
    "print(type(boolean_true))  # class 'bool'\n",
    "\n",
    "# converting boolean to complex(x)\n",
    "c_num = complex(boolean_true)\n",
    "\n",
    "print(\"Complex number:\", c_num)  \n",
    "# Output (1+0j)\n",
    "print(type(c_num))\n",
    "# class 'complex'\n",
    "\n",
    "# converting boolean to complex(x, y)\n",
    "r_bool, i_bool = False, True\n",
    "c_num = complex(r_bool, i_bool)\n",
    "\n",
    "print(\"Complex number:\", c_num)\n",
    "# Output 1j\n",
    "print(type(c_num))\n",
    "# class 'complex'"
   ]
  },
  {
   "cell_type": "markdown",
   "metadata": {},
   "source": [
    "### Konversi Tipe Boolean\n",
    "\n",
    "Kita menggunakan fungsi yang sudah disediakan Python yaitu `bool()` untuk mengonversi nilai dari tipe lain ke tipe bool. Fungsi ini mengembalikan dua nilai, yaitu True atau False.\n",
    "\n",
    "Kita dapat mengonversi nilai dari tipe apa pun ke tipe boolean, dan output untuk semua nilai akan True, kecuali 0, yang akan menjadi False. Jika Anda mengonversi string kosong ke boolean, itu akan diubah menjadi boolean False.\n",
    "\n",
    "Boolean True diwakili oleh 1 dan False diwakili oleh 0. Setiap nilai non-nol dianggap sebagai True."
   ]
  },
  {
   "cell_type": "markdown",
   "metadata": {},
   "source": [
    "#### Konversi Integer ke Boolean"
   ]
  },
  {
   "cell_type": "code",
   "execution_count": 27,
   "metadata": {},
   "outputs": [
    {
     "name": "stdout",
     "output_type": "stream",
     "text": [
      "<class 'int'>\n",
      "True\n",
      "False\n",
      "<class 'bool'>\n"
     ]
    }
   ],
   "source": [
    "num1 = 10\n",
    "num2 = 0\n",
    "print(type(num1))  # class 'int'\n",
    "\n",
    "# Convert into to bool\n",
    "b1 = bool(num1)\n",
    "b2 = bool(num2)\n",
    "\n",
    "print(b1)\n",
    "print(b2)\n",
    "\n",
    "print(type(b1))"
   ]
  },
  {
   "cell_type": "markdown",
   "metadata": {},
   "source": [
    "#### Konversi Float ke Boolean"
   ]
  },
  {
   "cell_type": "code",
   "execution_count": 28,
   "metadata": {},
   "outputs": [
    {
     "name": "stdout",
     "output_type": "stream",
     "text": [
      "<class 'float'>\n",
      "True\n",
      "False\n",
      "<class 'bool'>\n"
     ]
    }
   ],
   "source": [
    "f_num1 = 25.35\n",
    "f_num2 = 0.0\n",
    "print(type(f_num1))  # class 'float'\n",
    "\n",
    "# Convert float into to bool\n",
    "b1 = bool(f_num1)\n",
    "b2 = bool(f_num2)\n",
    "\n",
    "print(b1)\n",
    "\n",
    "print(b2)\n",
    "\n",
    "print(type(b1))"
   ]
  },
  {
   "cell_type": "markdown",
   "metadata": {},
   "source": [
    "#### Konversi String ke Boolean"
   ]
  },
  {
   "cell_type": "code",
   "execution_count": 29,
   "metadata": {},
   "outputs": [
    {
     "name": "stdout",
     "output_type": "stream",
     "text": [
      "<class 'str'>\n",
      "True\n",
      "True\n",
      "True\n",
      "False\n",
      "<class 'bool'>\n"
     ]
    }
   ],
   "source": [
    "s1 = \"False\"\n",
    "s2 = \"True\"\n",
    "s3 = \"812\"\n",
    "s4 = \"\"\n",
    "print(type(s1))  # class 'str'\n",
    "\n",
    "# Convert string into to bool\n",
    "b1 = bool(s1)\n",
    "b2 = bool(s2)\n",
    "b3 = bool(s3)\n",
    "b4 = bool(s4)\n",
    "\n",
    "print(b1)  # True\n",
    "print(b2)  # True\n",
    "print(b3)  # True\n",
    "print(b4)  # False\n",
    "print(type(b1))  # class 'bool'"
   ]
  },
  {
   "cell_type": "markdown",
   "metadata": {},
   "source": [
    "#### Konversi Kompleks ke Boolean"
   ]
  },
  {
   "cell_type": "code",
   "execution_count": 30,
   "metadata": {},
   "outputs": [
    {
     "name": "stdout",
     "output_type": "stream",
     "text": [
      "<class 'complex'>\n",
      "True\n",
      "False\n",
      "<class 'bool'>\n"
     ]
    }
   ],
   "source": [
    "c1 = 33 + 9j\n",
    "c2 = 0 + 0j\n",
    "print(type(c1))  # class 'complex'\n",
    "\n",
    "b1 = bool(c1)\n",
    "b2 = bool(c2)\n",
    "\n",
    "print(b1)  # True\n",
    "print(b2)  # False\n",
    "print(type(b1))  # class 'bool'"
   ]
  },
  {
   "cell_type": "markdown",
   "metadata": {},
   "source": [
    "### Konversi Tipe String"
   ]
  },
  {
   "cell_type": "markdown",
   "metadata": {},
   "source": [
    "Dalam konversi tipe str, kita menggunakan fungsi bawaan `str()` untuk mengonversi variabel dari tipe lain menjadi tipe string. Fungsi ini mengembalikan objek (nilai) dalam bentuk tipe string."
   ]
  },
  {
   "cell_type": "markdown",
   "metadata": {},
   "source": [
    "#### Konversi Integer ke String"
   ]
  },
  {
   "cell_type": "code",
   "execution_count": 31,
   "metadata": {},
   "outputs": [
    {
     "name": "stdout",
     "output_type": "stream",
     "text": [
      "<class 'int'>\n",
      "15\n",
      "<class 'str'>\n"
     ]
    }
   ],
   "source": [
    "num = 15\n",
    "print(type(num))  # class 'int'\n",
    "\n",
    "# converting int to str type\n",
    "s1 = str(num)\n",
    "print(s1)\n",
    "print(type(s1))\n",
    "# Output class 'str'"
   ]
  },
  {
   "cell_type": "markdown",
   "metadata": {},
   "source": [
    "#### Konversi Float ke String"
   ]
  },
  {
   "cell_type": "code",
   "execution_count": 32,
   "metadata": {},
   "outputs": [
    {
     "name": "stdout",
     "output_type": "stream",
     "text": [
      "<class 'float'>\n",
      "75.35\n",
      "<class 'str'>\n"
     ]
    }
   ],
   "source": [
    "num = 75.35\n",
    "print(type(num))  # class 'float'\n",
    "\n",
    "# converting float to str type\n",
    "s1 = str(num)\n",
    "print(s1)\n",
    "print(type(s1))\n"
   ]
  },
  {
   "cell_type": "markdown",
   "metadata": {},
   "source": [
    "#### Konversi Kompleks ke String"
   ]
  },
  {
   "cell_type": "code",
   "execution_count": 33,
   "metadata": {},
   "outputs": [
    {
     "name": "stdout",
     "output_type": "stream",
     "text": [
      "<class 'complex'>\n",
      "(15+5j)\n",
      "<class 'str'>\n"
     ]
    }
   ],
   "source": [
    "complex_num = 15 + 5j\n",
    "print(type(complex_num))  # class 'complex'\n",
    "\n",
    "# converting complex to str type\n",
    "s1 = str(complex_num)\n",
    "print(s1)\n",
    "\n",
    "print(type(s1))\n",
    "# class 'str'"
   ]
  },
  {
   "cell_type": "markdown",
   "metadata": {},
   "source": [
    "#### Konveersi Boolean ke String"
   ]
  },
  {
   "cell_type": "code",
   "execution_count": 34,
   "metadata": {},
   "outputs": [
    {
     "name": "stdout",
     "output_type": "stream",
     "text": [
      "<class 'bool'>\n",
      "True\n",
      "False\n",
      "<class 'str'>\n"
     ]
    }
   ],
   "source": [
    "b1 = True\n",
    "b2 = False\n",
    "print(type(b1))  # class 'bool'\n",
    "\n",
    "# converting bool to str type\n",
    "s1 = str(b1)\n",
    "s2 = str(b2)\n",
    "print(s1)\n",
    "print(s2)\n",
    "print(type(s1))  # class 'str'"
   ]
  }
 ],
 "metadata": {
  "kernelspec": {
   "display_name": "analytics",
   "language": "python",
   "name": "python3"
  },
  "language_info": {
   "codemirror_mode": {
    "name": "ipython",
    "version": 3
   },
   "file_extension": ".py",
   "mimetype": "text/x-python",
   "name": "python",
   "nbconvert_exporter": "python",
   "pygments_lexer": "ipython3",
   "version": "3.11.8"
  }
 },
 "nbformat": 4,
 "nbformat_minor": 2
}
