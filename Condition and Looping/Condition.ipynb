{
 "cells": [
  {
   "cell_type": "markdown",
   "metadata": {},
   "source": [
    "# Block of Code"
   ]
  },
  {
   "cell_type": "markdown",
   "metadata": {},
   "source": [
    "Blok kode dalam Python adalah kumpulan pernyataan (statement) yang dikelompokkan bersama untuk menjalankan tugas tertentu. Blok kode ditandai dengan indentasi, dan Python menggunakan blok kode untuk mengatur kontrol alur program, seperti dalam fungsi, loop, dan struktur kondisi."
   ]
  },
  {
   "cell_type": "code",
   "execution_count": null,
   "metadata": {},
   "outputs": [],
   "source": [
    "x = 6\n",
    "if x > 5:\n",
    "    print(\"x lebih besar dari 5\")\n",
    "    print(\"Ini adalah bagian dari blok kode\")"
   ]
  },
  {
   "cell_type": "markdown",
   "metadata": {},
   "source": [
    "# Indentation\n",
    "\n"
   ]
  },
  {
   "cell_type": "markdown",
   "metadata": {},
   "source": [
    "Indentasi dalam Python adalah cara penempatan spasi atau tab di awal baris kode untuk menunjukkan struktur dan hierarki dalam program. Berbeda dengan banyak bahasa pemrograman lain yang menggunakan kurung kurawal {} untuk menentukan blok kode, Python menggunakan indentasi untuk tujuan ini.\n",
    "\n",
    "Indentation diperlukan pada Python karena :\n",
    "- Menandai blok kode pada suatu pernyataan (statement). Tanpa indentasi yang benar, Python tidak akan tahu mana yang termasuk dalam blok tersebut\n",
    "- Meningkatkan keterbacaan kode sehingga lebih mudah dibaca dan dipahami oleh pengembang baik sendiri maupun pengembang lain.\n",
    "- Standar dalam pemrograman Python. Indentasi adalah bagian sintaks Python, yang membedakannya dari banyak bahasa pemrograman lain."
   ]
  },
  {
   "cell_type": "code",
   "execution_count": null,
   "metadata": {},
   "outputs": [],
   "source": [
    "i = 4\n",
    "\n",
    "if i % 2 == 0:\n",
    "    print(i, \"adalah bilangan genap\") "
   ]
  },
  {
   "cell_type": "markdown",
   "metadata": {},
   "source": [
    "# Conditional Statements"
   ]
  },
  {
   "cell_type": "markdown",
   "metadata": {},
   "source": [
    "Bahasa pemrograman terdiri atas logika yang dibuat untuk membantu menjawab permasalahan yang ada. Permasalahan yang akan diselesaikan oleh bahasa pemrograman pun bervariasi, dan terkadang sangat sulit untuk mendefinisikan setiap permasalahan ke dalam sebuah bahasa pemrograman. \n",
    "\n",
    "Jika demikian, maka setiap skrip program akan menjadi sangat panjang, dan kemungkinan akan sulit untuk dibaca oleh orang lain. Conditional statement merupakan sebuah handling pada bahasa pemrograman yang berfungsi untuk menyelesaikan logika bercabang ataupun pengambilan keputusan.\n",
    "\n",
    "Python pun memiliki beberapa bentuk conditional statement yang sering dijumpai, antara lain: \n",
    "- if statement\n",
    "- if-else statement\n",
    "- if-elif-else statement\n",
    "- \n",
    "\n",
    "Penulisan kondisional ini biasa juga diikuti dengan beberapa operator, untuk menyatakan kondisi tersebut yiatu : \n",
    "- Sama dengan (a == b)\n",
    "- Tidak sama dengan (a != b)\n",
    "- Lebih besar dari (a > b)\n",
    "- Lebih kecil dari (a < b)\n",
    "- Lebih besar sama dengan (a >= b)\n",
    "- Lebih kecil sama dengan (a <= b)\n"
   ]
  },
  {
   "cell_type": "markdown",
   "metadata": {},
   "source": [
    "\n",
    "### If Statement\n",
    "Salah satu pernyataan (statement) kondisi yang sering digunakan adalah if - statement. Dalam pernyataan if, if merupakan bentuk yang paling sederhana dengan mengambil sebuah kondisi dan mengevaluasinya menjadi True atau False.\n",
    "\n",
    "Jika kondisi tersebut True, maka blok kode True akan dieksekusi, dan jika kondisi tersebut False, maka blok kode tersebut dilewati, dan sistem akan menjalankan ke kode baris berikutnya.\n",
    "\n",
    "Untuk penulisannya, dapat menggunakan bentuk penulisan berikut ini: "
   ]
  },
  {
   "cell_type": "code",
   "execution_count": 1,
   "metadata": {},
   "outputs": [
    {
     "name": "stdout",
     "output_type": "stream",
     "text": [
      "3 Bilangan Positif.\n",
      "Blok kode dicetak.\n",
      "Kode ini selalu dicetak.\n"
     ]
    }
   ],
   "source": [
    "number = 3\n",
    "if number > 0:\n",
    "    print(number, \"Bilangan Positif.\")\n",
    "    print(\"Blok kode dicetak.\")\n",
    "print(\"Kode ini selalu dicetak.\")"
   ]
  },
  {
   "cell_type": "code",
   "execution_count": 2,
   "metadata": {},
   "outputs": [
    {
     "name": "stdout",
     "output_type": "stream",
     "text": [
      "Positif\n"
     ]
    }
   ],
   "source": [
    "x = 5\n",
    "if x > 0: print(\"Positif\")"
   ]
  },
  {
   "cell_type": "markdown",
   "metadata": {},
   "source": [
    "Penulisan if diikuti dengan kondisi yang diinginkan, lalu diakhiri dengan tanda titik dua (“:”), lalu dimulai dengan baris baru, di mana baris baru ini diberikan indetasi untuk menandakan blok kode if statement."
   ]
  },
  {
   "cell_type": "markdown",
   "metadata": {},
   "source": [
    "<strong>Catatan</strong> : saat melakukan penyataan, perhatikan indentasinya pada posisi yang sama"
   ]
  },
  {
   "cell_type": "code",
   "execution_count": 3,
   "metadata": {},
   "outputs": [
    {
     "ename": "IndentationError",
     "evalue": "unexpected indent (1156906244.py, line 7)",
     "output_type": "error",
     "traceback": [
      "\u001b[1;36m  Cell \u001b[1;32mIn[3], line 7\u001b[1;36m\u001b[0m\n\u001b[1;33m    print(\"quantity\",quantity)\u001b[0m\n\u001b[1;37m    ^\u001b[0m\n\u001b[1;31mIndentationError\u001b[0m\u001b[1;31m:\u001b[0m unexpected indent\n"
     ]
    }
   ],
   "source": [
    "# Contoh\n",
    "price = 50\n",
    "quantity = 5\n",
    "if price*quantity < 600:\n",
    "    print(\"price * quantity kurang dari 600\")\n",
    "    print(\"price\", price)\n",
    "     print(\"quantity\",quantity)"
   ]
  },
  {
   "cell_type": "markdown",
   "metadata": {},
   "source": [
    "Karena if statement mengevaluasi menjadi `True` dan `False`, maka kita dapat mempersingkat program untuk tipe data `Boolean`"
   ]
  },
  {
   "cell_type": "code",
   "execution_count": 4,
   "metadata": {},
   "outputs": [
    {
     "name": "stdout",
     "output_type": "stream",
     "text": [
      "Kondisi benar\n"
     ]
    }
   ],
   "source": [
    "condition = True\n",
    "if condition == True:\n",
    "    print(\"Kondisi benar\")"
   ]
  },
  {
   "cell_type": "markdown",
   "metadata": {},
   "source": [
    "### IF Else Statement"
   ]
  },
  {
   "cell_type": "markdown",
   "metadata": {},
   "source": [
    "If else statement digunakan untuk memberikan alternatif pada kondisi dalam if jika tidak terpenuhi. Jika kondisi if True, maka blok kode if dieksekusi, jika False maka blok kode else yang dieksekusi"
   ]
  },
  {
   "cell_type": "code",
   "execution_count": 5,
   "metadata": {},
   "outputs": [
    {
     "name": "stdout",
     "output_type": "stream",
     "text": [
      " i lebih besar dari 10\n"
     ]
    }
   ],
   "source": [
    "i = 15\n",
    "if i < 10:\n",
    "    print(\"i lebih kecil dari 10\")\n",
    "else:\n",
    "    print(\" i lebih besar dari 10\")"
   ]
  },
  {
   "cell_type": "code",
   "execution_count": 6,
   "metadata": {},
   "outputs": [
    {
     "name": "stdout",
     "output_type": "stream",
     "text": [
      "B\n"
     ]
    }
   ],
   "source": [
    "a = 2\n",
    "b = 330\n",
    "print(\"A\") if a > b else print(\"B\")"
   ]
  },
  {
   "cell_type": "markdown",
   "metadata": {},
   "source": [
    "### If Elif Else Statement"
   ]
  },
  {
   "cell_type": "markdown",
   "metadata": {},
   "source": [
    "If elif else statement digunakan ketika saat memiliki beberapa kondisi. elif (else if) memberikan kondisi tambahan untuk mengevaluasi kondisi lain jika kondisi if sebelumnya tidak terpenuhi. Kita dapat menggunakan banyak elif dalam satu statement."
   ]
  },
  {
   "cell_type": "code",
   "execution_count": 10,
   "metadata": {},
   "outputs": [],
   "source": [
    "nilai = 40\n",
    "\n",
    "if nilai >= 98:\n",
    "  print('Predikat A')\n",
    "elif nilai >= 65:\n",
    "  print('Predikat B')\n",
    "elif nilai >= 50:\n",
    "  print('Predikat C')"
   ]
  },
  {
   "cell_type": "markdown",
   "metadata": {},
   "source": [
    "Pernyataan else tidak selalu diperlukan pada elif, tetapi jika kedua kondisi if dan elif tidak terpenuhi (keduanya dievaluasi sebagai False), maka tidak ada yang kondisi yang dieksekusi."
   ]
  },
  {
   "cell_type": "code",
   "execution_count": 10,
   "metadata": {},
   "outputs": [],
   "source": [
    "condition_1 = False\n",
    "condition_2 = False\n",
    "\n",
    "if condition_1 == True:\n",
    "    print('Kode ini akan dijalankan jika condition_1 bernilai True.')\n",
    "elif condition_2 == True:\n",
    "    print(\"kode eini akan dijalankan jika condition_1 bernilai False dan condition_2 bernilai True.\")"
   ]
  },
  {
   "cell_type": "markdown",
   "metadata": {},
   "source": [
    "### Nested if-else statement"
   ]
  },
  {
   "cell_type": "markdown",
   "metadata": {},
   "source": [
    "Nested if else statements adalah pernyataan kondisional yang terdapat di dalam blok if atau else lain. Ini memungkinkan Anda untuk mengevaluasi kondisi lebih dari satu lapis. Dengan nested if, Anda dapat membuat keputusan yang lebih kompleks berdasarkan beberapa kriteria."
   ]
  },
  {
   "cell_type": "code",
   "execution_count": null,
   "metadata": {},
   "outputs": [],
   "source": [
    "nilai = 80\n",
    "\n",
    "if nilai >= 90:\n",
    "    if nilai >= 95:\n",
    "        print('Predikat A+')\n",
    "    else:\n",
    "        print('Predikat A')\n",
    "elif nilai >= 80:\n",
    "    if nilai >= 85:\n",
    "        print('Predikat B+')\n",
    "    else:\n",
    "        print('Predikat B')"
   ]
  },
  {
   "cell_type": "markdown",
   "metadata": {},
   "source": [
    "### Operator Logic pada Conditional Statement\n",
    "\n",
    "Operator logika adalah simbol yang digunakan untuk menggabungkan atau membandingkan dua atau lebih kondisi dalam pemrograman. Dalam Python, terdapat tiga operator logika yait\n",
    "- Operator `OR`\n",
    "- Operator `AND`\n",
    "- Operator `NOT`"
   ]
  },
  {
   "cell_type": "markdown",
   "metadata": {},
   "source": [
    "#### Operator `OR`\n",
    "Operator or mengembalikan True jika salah satu atau lebih kondisi yang dibandingkan adalah True. Jika semua kondisi adalah False, maka hasilnya adalah False."
   ]
  },
  {
   "cell_type": "code",
   "execution_count": 11,
   "metadata": {},
   "outputs": [
    {
     "name": "stdout",
     "output_type": "stream",
     "text": [
      "Salah satu kondisi benar\n"
     ]
    }
   ],
   "source": [
    "x = 5\n",
    "y = 10\n",
    "\n",
    "if x < 3 or y > 8:\n",
    "    print(\"Salah satu kondisi benar\")\n",
    "else:\n",
    "    print(\"Semua kondisi salah\")"
   ]
  },
  {
   "cell_type": "markdown",
   "metadata": {},
   "source": [
    "#### Operator `AND`\n",
    "Operator and mengembalikan True hanya jika semua kondisi yang dibandingkan adalah True. Jika ada satu kondisi yang False, hasilnya adalah False."
   ]
  },
  {
   "cell_type": "code",
   "execution_count": 12,
   "metadata": {},
   "outputs": [
    {
     "name": "stdout",
     "output_type": "stream",
     "text": [
      "Salah satu atau lebih kondisi salah\n"
     ]
    }
   ],
   "source": [
    "x = 11\n",
    "y = 10\n",
    "\n",
    "if x < 10 and y > 5:\n",
    "    print(\"Semua kondisi benar\")\n",
    "else:\n",
    "    print(\"Salah satu atau lebih kondisi salah\")"
   ]
  },
  {
   "cell_type": "markdown",
   "metadata": {},
   "source": [
    "#### Operator `NOT`\n",
    "Operator not membalikkan nilai kebenaran dari kondisi yang dievaluasi. Jika kondisi adalah True, not akan menjadikannya False, dan sebaliknya."
   ]
  },
  {
   "cell_type": "code",
   "execution_count": null,
   "metadata": {},
   "outputs": [],
   "source": [
    "x = 5\n",
    "\n",
    "if not x > 10:\n",
    "    print(\"x tidak lebih besar dari 10\")\n",
    "else:\n",
    "    print(\"x lebih besar dari 10\")"
   ]
  },
  {
   "cell_type": "markdown",
   "metadata": {},
   "source": [
    "#### Gabungan Beberapa Operator Logic"
   ]
  },
  {
   "cell_type": "markdown",
   "metadata": {},
   "source": [
    "Kita juga dapat menggabungkan operator logika dalam satu pernyataan if untuk menciptakan logika yang lebih kompleks."
   ]
  },
  {
   "cell_type": "code",
   "execution_count": 14,
   "metadata": {},
   "outputs": [
    {
     "name": "stdout",
     "output_type": "stream",
     "text": [
      "Kondisi terpenuhi\n"
     ]
    }
   ],
   "source": [
    "x = 5\n",
    "y = 10\n",
    "z = 15\n",
    "\n",
    "if (x < 10 and y > 5) or z > 20:\n",
    "    print(\"Kondisi terpenuhi\")\n",
    "else:\n",
    "    print(\"Kondisi tidak terpenuhi\")"
   ]
  }
 ],
 "metadata": {
  "kernelspec": {
   "display_name": "analytics",
   "language": "python",
   "name": "python3"
  },
  "language_info": {
   "codemirror_mode": {
    "name": "ipython",
    "version": 3
   },
   "file_extension": ".py",
   "mimetype": "text/x-python",
   "name": "python",
   "nbconvert_exporter": "python",
   "pygments_lexer": "ipython3",
   "version": "3.11.8"
  }
 },
 "nbformat": 4,
 "nbformat_minor": 2
}
